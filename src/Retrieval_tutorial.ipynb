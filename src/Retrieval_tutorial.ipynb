{
 "cells": [
  {
   "cell_type": "code",
   "execution_count": 1,
   "metadata": {},
   "outputs": [
    {
     "data": {
      "text/html": [
       "<div>\n",
       "<style scoped>\n",
       "    .dataframe tbody tr th:only-of-type {\n",
       "        vertical-align: middle;\n",
       "    }\n",
       "\n",
       "    .dataframe tbody tr th {\n",
       "        vertical-align: top;\n",
       "    }\n",
       "\n",
       "    .dataframe thead th {\n",
       "        text-align: right;\n",
       "    }\n",
       "</style>\n",
       "<table border=\"1\" class=\"dataframe\">\n",
       "  <thead>\n",
       "    <tr style=\"text-align: right;\">\n",
       "      <th></th>\n",
       "      <th>id</th>\n",
       "      <th>type</th>\n",
       "      <th>dir_route</th>\n",
       "      <th>original_content</th>\n",
       "      <th>file_name</th>\n",
       "      <th>page</th>\n",
       "      <th>investment</th>\n",
       "      <th>company_name</th>\n",
       "      <th>summary</th>\n",
       "      <th>image_route</th>\n",
       "      <th>table</th>\n",
       "    </tr>\n",
       "  </thead>\n",
       "  <tbody>\n",
       "    <tr>\n",
       "      <th>0</th>\n",
       "      <td>5</td>\n",
       "      <td>paragraph</td>\n",
       "      <td>datas/카카오뱅크_한국신용평가(2024.09.13)</td>\n",
       "      <td>김경근 선임애널리스트 02-787-2383 kyungkeun.kim@kisratin...</td>\n",
       "      <td>카카오뱅크_한국신용평가(2024.09.13).pdf</td>\n",
       "      <td>1</td>\n",
       "      <td>한국신용평가(2024.09.13)</td>\n",
       "      <td>카카오뱅크</td>\n",
       "      <td>김경근 선임애널리스트가 쓴 카카오뱅크 관련 한국신용평가 리포트 입니다.</td>\n",
       "      <td>NaN</td>\n",
       "      <td>NaN</td>\n",
       "    </tr>\n",
       "    <tr>\n",
       "      <th>1</th>\n",
       "      <td>6</td>\n",
       "      <td>paragraph</td>\n",
       "      <td>datas/카카오뱅크_한국신용평가(2024.09.13)</td>\n",
       "      <td>위 지원 실장 02-787-2279 geewon.wee@kisrating.com</td>\n",
       "      <td>카카오뱅크_한국신용평가(2024.09.13).pdf</td>\n",
       "      <td>1</td>\n",
       "      <td>한국신용평가(2024.09.13)</td>\n",
       "      <td>카카오뱅크</td>\n",
       "      <td>위 지원 실장, ***-***-****, g*********@*********.**...</td>\n",
       "      <td>NaN</td>\n",
       "      <td>NaN</td>\n",
       "    </tr>\n",
       "    <tr>\n",
       "      <th>6</th>\n",
       "      <td>16</td>\n",
       "      <td>paragraph</td>\n",
       "      <td>datas/카카오뱅크_한국신용평가(2024.09.13)</td>\n",
       "      <td>주) 총자산, 대출채권, 예수부채, 자기자본, 당기순이익은 은행계정 기준임 자료: ...</td>\n",
       "      <td>카카오뱅크_한국신용평가(2024.09.13).pdf</td>\n",
       "      <td>1</td>\n",
       "      <td>한국신용평가(2024.09.13)</td>\n",
       "      <td>카카오뱅크</td>\n",
       "      <td>카카오뱅크의 자산, 대출채권, 예수부채, 자기자본, 당기순이익은 은행계정 기준이며,...</td>\n",
       "      <td>NaN</td>\n",
       "      <td>NaN</td>\n",
       "    </tr>\n",
       "  </tbody>\n",
       "</table>\n",
       "</div>"
      ],
      "text/plain": [
       "   id       type                                        dir_route  \\\n",
       "0   5  paragraph  datas/카카오뱅크_한국신용평가(2024.09.13)   \n",
       "1   6  paragraph  datas/카카오뱅크_한국신용평가(2024.09.13)   \n",
       "6  16  paragraph  datas/카카오뱅크_한국신용평가(2024.09.13)   \n",
       "\n",
       "                                    original_content  \\\n",
       "0  김경근 선임애널리스트 02-787-2383 kyungkeun.kim@kisratin...   \n",
       "1       위 지원 실장 02-787-2279 geewon.wee@kisrating.com   \n",
       "6  주) 총자산, 대출채권, 예수부채, 자기자본, 당기순이익은 은행계정 기준임 자료: ...   \n",
       "\n",
       "                                       file_name  page  \\\n",
       "0  카카오뱅크_한국신용평가(2024.09.13).pdf     1   \n",
       "1  카카오뱅크_한국신용평가(2024.09.13).pdf     1   \n",
       "6  카카오뱅크_한국신용평가(2024.09.13).pdf     1   \n",
       "\n",
       "                      investment company_name  \\\n",
       "0  한국신용평가(2024.09.13)  카카오뱅크   \n",
       "1  한국신용평가(2024.09.13)  카카오뱅크   \n",
       "6  한국신용평가(2024.09.13)  카카오뱅크   \n",
       "\n",
       "                                             summary image_route table  \n",
       "0            김경근 선임애널리스트가 쓴 카카오뱅크 관련 한국신용평가 리포트 입니다.         NaN   NaN  \n",
       "1  위 지원 실장, ***-***-****, g*********@*********.**...         NaN   NaN  \n",
       "6  카카오뱅크의 자산, 대출채권, 예수부채, 자기자본, 당기순이익은 은행계정 기준이며,...         NaN   NaN  "
      ]
     },
     "execution_count": 1,
     "metadata": {},
     "output_type": "execute_result"
    }
   ],
   "source": [
    "from DB.Chromadb import ChromaDB\n",
    "from langchain.schema import Document\n",
    "from utils import get_only_paragraphs, get_all_datas, create_documents\n",
    "BASE_DIR = 'datas' # 데이터가 저장돼 있는 루트를 의미합니다.\n",
    "\n",
    "df = get_only_paragraphs(BASE_DIR)\n",
    "# df = get_all_datas(BASE_DIR) # 이미지와 테이블이 포함된 전체 데이터도 가져올 수 있습니다.\n",
    "df[:3]\n"
   ]
  },
  {
   "cell_type": "code",
   "execution_count": 2,
   "metadata": {},
   "outputs": [
    {
     "data": {
      "text/plain": [
       "[Document(metadata={'id': 5, 'type': 'paragraph', 'dir_route': 'datas/카카오뱅크_한국신용평가(2024.09.13)', 'original_content': '김경근 선임애널리스트 02-787-2383 kyungkeun.kim@kisrating.com', 'file_name': '카카오뱅크_한국신용평가(2024.09.13).pdf', 'page': 1, 'investment': '한국신용평가(2024.09.13)', 'company_name': '카카오뱅크', 'image_route': nan, 'table': nan}, page_content='김경근 선임애널리스트가 쓴 카카오뱅크 관련 한국신용평가 리포트 입니다.'),\n",
       " Document(metadata={'id': 6, 'type': 'paragraph', 'dir_route': 'datas/카카오뱅크_한국신용평가(2024.09.13)', 'original_content': '위 지원 실장 02-787-2279 geewon.wee@kisrating.com', 'file_name': '카카오뱅크_한국신용평가(2024.09.13).pdf', 'page': 1, 'investment': '한국신용평가(2024.09.13)', 'company_name': '카카오뱅크', 'image_route': nan, 'table': nan}, page_content='위 지원 실장, ***-***-****, g*********@*********.***으로 연락 가능한 한국신용평가에서 카카오뱅크에 대한 리포트를 발표함.'),\n",
       " Document(metadata={'id': 16, 'type': 'paragraph', 'dir_route': 'datas/카카오뱅크_한국신용평가(2024.09.13)', 'original_content': '주) 총자산, 대출채권, 예수부채, 자기자본, 당기순이익은 은행계정 기준임 자료: 금융통계정보시스템, 업무보고서, 감사(검토)보고서, 경영공시', 'file_name': '카카오뱅크_한국신용평가(2024.09.13).pdf', 'page': 1, 'investment': '한국신용평가(2024.09.13)', 'company_name': '카카오뱅크', 'image_route': nan, 'table': nan}, page_content='카카오뱅크의 자산, 대출채권, 예수부채, 자기자본, 당기순이익은 은행계정 기준이며, 이와 관련된 자료는 금융통계정보시스템, 업무보고서, 감사(검토)보고서, 경영공시에서 확인 가능하다.')]"
      ]
     },
     "execution_count": 2,
     "metadata": {},
     "output_type": "execute_result"
    }
   ],
   "source": [
    "# 데이터프레임의 행들을 각각 Document타입으로 바꾼 뒤, 리스트에 담습니다.\n",
    "documents = create_documents(df)\n",
    "documents[:3]"
   ]
  },
  {
   "cell_type": "code",
   "execution_count": 3,
   "metadata": {},
   "outputs": [],
   "source": [
    "# add_docs를 통해 문서들을 저장합니다.\n",
    "\n",
    "collection_name = 'chrdb.db'\n",
    "DB = ChromaDB(collection_name)\n",
    "DB.add_docs(documents)\n",
    "\n"
   ]
  },
  {
   "cell_type": "code",
   "execution_count": 4,
   "metadata": {},
   "outputs": [
    {
     "name": "stdout",
     "output_type": "stream",
     "text": [
      "Total documents in collection 'chrdb.db': 388\n"
     ]
    }
   ],
   "source": [
    "# verify_db를 통해 db내의 데이터 수를 확인할 수 있고, db객체를 받을 수 있습니다.\n",
    "db = DB.verify_db()\n"
   ]
  },
  {
   "cell_type": "code",
   "execution_count": 5,
   "metadata": {},
   "outputs": [],
   "source": [
    "# 위처럼 import하여 kiwi tokenizer을 사용하는 bm25와 dpr, 앙상블 리트리버를 생성할 수 있습니다.\n",
    "from retrievals import bm25, dpr, ensemble\n",
    "\n",
    "topk = 3\n",
    "\n",
    "DPRRetriever = dpr(db, topk = 3)\n",
    "BM25Retriever = bm25(documents, topk = 3)\n",
    "\n",
    "retrievals = [DPRRetriever, BM25Retriever]\n",
    "weights = [0.5, 0.5]\n",
    "search_type = 'mmr'\n",
    "ensemble_retriever = ensemble(retrievals, topk = topk, weights = weights, search_type = search_type)\n",
    "\n"
   ]
  },
  {
   "cell_type": "code",
   "execution_count": 6,
   "metadata": {},
   "outputs": [
    {
     "data": {
      "text/plain": [
       "[Document(metadata={'company_name': '네이버', 'dir_route': 'datas/네이버_하나증권(2024.10.10)', 'file_name': '네이버_하나증권(2024.10.10).pdf', 'id': 19, 'investment': '하나증권(2024.10.10)', 'original_content': '네이버는 2024년 연결 기준 영업수익 10조 5,184억원(+8.8%YoY), 영업이익 1조 8,994억원 (+27.6%YoY, OPM 18.1%)을 기록할 것으로 전망한다. 서치플랫폼 매출액은 3조 8,546억원 (+7.4%YoY)으로 추정한다. DA 광고 지면 증가 효과는 4분기까지 높은 성장률로 확인될 전 망이다. 커머스 매출액은 2조 9,045억원(+14.1%YoY)으로 전망한다. 네이버는 연내 모바일 쇼핑 탭을 네이버플러스 스토어로 개편할 계획이다. 스마트/브랜드스토어를 중심으로한 개 인화 추천, UI/UX 개선이 도입될 예정이다. 성장 둔화를 겪고 있는 커머스 광고 매출과 커 머스 GMV의 반등을 기대한다.', 'page': 1, 'type': 'paragraph'}, page_content='네이버는 2024년 연결 기준 영업수익 10조 5,184억원, 영업이익 1조 8,994억원을 기록할 것으로 전망하며, 특히 쇼핑 탭을 네이버플러스 스토어로 개편하여 개인화 추천 및 UI/UX 개선을 통해 커머스 광고 매출과 GMV의 반등을 기대함.'),\n",
       " Document(metadata={'company_name': '네이버', 'dir_route': 'datas/네이버_하나증권(2024.10.10)', 'file_name': '네이버_하나증권(2024.10.10).pdf', 'id': 45, 'investment': '하나증권(2024.10.10)', 'original_content': '주: 2Q21 왓패드 인수, 4Q21 이북재팬 인수, 4Q22 순매출>총매출 회계처리 변경 영향 자료: 네이버, 하나증권', 'page': 3, 'type': 'paragraph'}, page_content='네이버의 2021년 2분기 매출액은 전년동기 대비 30.4% 증가한 1조 6,635억원이며 영업이익은 8,362억원으로 전년동기 대비 16.2% 감소했다. 이는 21년 2분기에 있었던 왓패드와 이북 재팬 인수 및 22년 4분기부터 적용된 순매출 > 총매출 회계 처리 방식 변경 때문이다.'),\n",
       " Document(metadata={'company_name': '네이버', 'dir_route': 'datas/네이버_교보증권(2024.11.11)', 'file_name': '네이버_교보증권(2024.11.11).pdf', 'id': 13, 'investment': '교보증권(2024.11.11)', 'original_content': '투자의견 매수, 목표주가 254,000원 유지. 개인화 앱 개편(네이버앱 메인 일평균 체류시간 YoY +10% 이상 성장, 클립 재생수 연초 대비 +81)영향이 서치플랫폼 성장률 가속화로 이어지고 있으며, 자체 경쟁력 강화에 따른 이러한 성장 추세는 타겟팅 고도화와 피드 영 역 확대로 2025년에도 서치플랫폼 매출 성장(SA +8%, DA +11% 전망)을 견인 예상. 2025 년 모바일 영역에 통합된 ‘AI 브리핑’ 도입으로 사용성 더욱 개선 예상. 한편 이커머스 시 장 재편 하 1) 네이버 플러스스토어 출시(10월말), 2) 물류 고도화(당일 배송 강화, 셀러 창 고를 통한 도착보장 도입), 3) 멤버십 혜택 강화(멤버십 대상 도착보장 무료 배송/반품, 넷 플릭스 연동 및 프로모션 강화) 등을 통해 2025년 커머스 GMV +10.3% 성장 전망.', 'page': 1, 'type': 'paragraph'}, page_content=\"네이버는 개인화 앱 개편 영향으로 서치 플랫폼 성장률이 가속화되고 있으며, 자체 경쟁력 강화로 인한 성장 추세는 계속될 것으로 예상된다. 또한 'AI 브리핑' 도입으로 사용성이 개선되며, 다양한 전략을 통해 2025년 커머스 GMV 10.3% 성장을 전망한다.\")]"
      ]
     },
     "execution_count": 6,
     "metadata": {},
     "output_type": "execute_result"
    }
   ],
   "source": [
    "# 다음과 같이 retriever.invoke(query)를 통해 관련 문서를 검색할 수 있습니다.\n",
    "query = '네이버의 2024년 매출을 알려줘.'\n",
    "\n",
    "DPRRetriever.invoke(query)"
   ]
  },
  {
   "cell_type": "code",
   "execution_count": 7,
   "metadata": {},
   "outputs": [
    {
     "data": {
      "text/plain": [
       "[Document(metadata={'id': 19, 'type': 'paragraph', 'dir_route': 'datas/네이버_하나증권(2024.10.10)', 'original_content': '네이버는 2024년 연결 기준 영업수익 10조 5,184억원(+8.8%YoY), 영업이익 1조 8,994억원 (+27.6%YoY, OPM 18.1%)을 기록할 것으로 전망한다. 서치플랫폼 매출액은 3조 8,546억원 (+7.4%YoY)으로 추정한다. DA 광고 지면 증가 효과는 4분기까지 높은 성장률로 확인될 전 망이다. 커머스 매출액은 2조 9,045억원(+14.1%YoY)으로 전망한다. 네이버는 연내 모바일 쇼핑 탭을 네이버플러스 스토어로 개편할 계획이다. 스마트/브랜드스토어를 중심으로한 개 인화 추천, UI/UX 개선이 도입될 예정이다. 성장 둔화를 겪고 있는 커머스 광고 매출과 커 머스 GMV의 반등을 기대한다.', 'file_name': '네이버_하나증권(2024.10.10).pdf', 'page': 1, 'investment': '하나증권(2024.10.10)', 'company_name': '네이버', 'image_route': nan, 'table': nan}, page_content='네이버는 2024년 연결 기준 영업수익 10조 5,184억원, 영업이익 1조 8,994억원을 기록할 것으로 전망하며, 특히 쇼핑 탭을 네이버플러스 스토어로 개편하여 개인화 추천 및 UI/UX 개선을 통해 커머스 광고 매출과 GMV의 반등을 기대함.'),\n",
       " Document(metadata={'id': 11, 'type': 'paragraph', 'dir_route': 'datas/롯데렌탈_하나증권(2024.09.20)', 'original_content': '도 표 1. 2024년 9월 19일 기준 쏘카 주주 구성 및 지분율', 'file_name': '롯데렌탈_하나증권(2024.09.20).pdf', 'page': 2, 'investment': '하나증권(2024.09.20)', 'company_name': '롯데렌탈', 'image_route': nan, 'table': nan}, page_content='도표 1에서는 2024년 9월 19일을 기준으로 한 쏘카의 주주 구성과 지분율을 보여줍니다.'),\n",
       " Document(metadata={'id': 7, 'type': 'paragraph', 'dir_route': 'datas/네이버_교보증권(2024.11.11)', 'original_content': '매출 2.72조원(YoY +11.1%)로 컨센서스(2.62조원) 부합, 영익은 5,253억원(+38.2%) 기록 해 시장예상치(4,865억원) 상회. 서치플랫폼(YoY +11.0%) 중 DA는 피드 지면 확대 및 타 게팅 고도화로 +11.0%, SA는 플레이스광고 성장, 상품 개선 및 외부 매체 상품 확대로 +9.5% 성장. 커머스 매출(YoY +12.0%)은 중개/판매 중심 성장. 도착보장/브랜드솔루션 사용률 증가와 브랜드스토어 거래액 성장으로 On-Platform 거래액(+10.0%) 증가보다 중 개/판매 매출 크게(+24.6%) 증가. 핀테크 결제액은 외부결제(+37.7%), 주문/예약 및 현장 결제 확대 따른 오프라인(YoY +78%) 성장으로 18.6조원(+22.1%) 달성, 핀테크 매출 +13.0% 성장. 컨텐츠 매출은 유료 컨텐츠 및 광고 매출 증대로 웹툰 매출 4,240억원 (+11.6%, 동일환율 기준 +13.5%) 기록한 가운데 스노우(-46.5%, 네이버제트 제외 영향 제거시 YoY +9.0%)에서 네이버제트 연결 제외되며 +6.4%. 클라우드 매출은 라인웍스 유 료 ID수 확대, 뉴로클라우드 및 사우디 주택부 디지털트윈 매출 발생으로 YoY +17.0%.', 'file_name': '네이버_교보증권(2024.11.11).pdf', 'page': 1, 'investment': '교보증권(2024.11.11)', 'company_name': '네이버', 'image_route': nan, 'table': nan}, page_content='교보증권은 네이버의 3분기 실적 발표에서 매출 2.72조 원(YoY +11.1%), 영익 5,253억 원(+38.2%)을 기록하며 시장 예상치를 상회했다고 밝혔다. 특히, 이번 분기에는 콘텐츠 매출이 유료 콘텐츠 및 광고 매출 증대 등으로 인해 큰 폭으로 상승했으며, 클라우드 매출도 높은 성장세를 보였다.')]"
      ]
     },
     "execution_count": 7,
     "metadata": {},
     "output_type": "execute_result"
    }
   ],
   "source": [
    "BM25Retriever.invoke(query)"
   ]
  },
  {
   "cell_type": "code",
   "execution_count": 15,
   "metadata": {},
   "outputs": [
    {
     "data": {
      "text/plain": [
       "[Document(metadata={'company_name': '네이버', 'dir_route': 'datas/네이버_하나증권(2024.10.10)', 'file_name': '네이버_하나증권(2024.10.10).pdf', 'id': 19, 'investment': '하나증권(2024.10.10)', 'original_content': '네이버는 2024년 연결 기준 영업수익 10조 5,184억원(+8.8%YoY), 영업이익 1조 8,994억원 (+27.6%YoY, OPM 18.1%)을 기록할 것으로 전망한다. 서치플랫폼 매출액은 3조 8,546억원 (+7.4%YoY)으로 추정한다. DA 광고 지면 증가 효과는 4분기까지 높은 성장률로 확인될 전 망이다. 커머스 매출액은 2조 9,045억원(+14.1%YoY)으로 전망한다. 네이버는 연내 모바일 쇼핑 탭을 네이버플러스 스토어로 개편할 계획이다. 스마트/브랜드스토어를 중심으로한 개 인화 추천, UI/UX 개선이 도입될 예정이다. 성장 둔화를 겪고 있는 커머스 광고 매출과 커 머스 GMV의 반등을 기대한다.', 'page': 1, 'type': 'paragraph'}, page_content='네이버는 2024년 연결 기준 영업수익 10조 5,184억원, 영업이익 1조 8,994억원을 기록할 것으로 전망하며, 특히 쇼핑 탭을 네이버플러스 스토어로 개편하여 개인화 추천 및 UI/UX 개선을 통해 커머스 광고 매출과 GMV의 반등을 기대함.'),\n",
       " Document(metadata={'company_name': '네이버', 'dir_route': 'datas/네이버_하나증권(2024.10.10)', 'file_name': '네이버_하나증권(2024.10.10).pdf', 'id': 45, 'investment': '하나증권(2024.10.10)', 'original_content': '주: 2Q21 왓패드 인수, 4Q21 이북재팬 인수, 4Q22 순매출>총매출 회계처리 변경 영향 자료: 네이버, 하나증권', 'page': 3, 'type': 'paragraph'}, page_content='네이버의 2021년 2분기 매출액은 전년동기 대비 30.4% 증가한 1조 6,635억원이며 영업이익은 8,362억원으로 전년동기 대비 16.2% 감소했다. 이는 21년 2분기에 있었던 왓패드와 이북 재팬 인수 및 22년 4분기부터 적용된 순매출 > 총매출 회계 처리 방식 변경 때문이다.'),\n",
       " Document(metadata={'id': 11, 'type': 'paragraph', 'dir_route': 'datas/롯데렌탈_하나증권(2024.09.20)', 'original_content': '도 표 1. 2024년 9월 19일 기준 쏘카 주주 구성 및 지분율', 'file_name': '롯데렌탈_하나증권(2024.09.20).pdf', 'page': 2, 'investment': '하나증권(2024.09.20)', 'company_name': '롯데렌탈', 'image_route': nan, 'table': nan}, page_content='도표 1에서는 2024년 9월 19일을 기준으로 한 쏘카의 주주 구성과 지분율을 보여줍니다.'),\n",
       " Document(metadata={'company_name': '네이버', 'dir_route': 'datas/네이버_교보증권(2024.11.11)', 'file_name': '네이버_교보증권(2024.11.11).pdf', 'id': 13, 'investment': '교보증권(2024.11.11)', 'original_content': '투자의견 매수, 목표주가 254,000원 유지. 개인화 앱 개편(네이버앱 메인 일평균 체류시간 YoY +10% 이상 성장, 클립 재생수 연초 대비 +81)영향이 서치플랫폼 성장률 가속화로 이어지고 있으며, 자체 경쟁력 강화에 따른 이러한 성장 추세는 타겟팅 고도화와 피드 영 역 확대로 2025년에도 서치플랫폼 매출 성장(SA +8%, DA +11% 전망)을 견인 예상. 2025 년 모바일 영역에 통합된 ‘AI 브리핑’ 도입으로 사용성 더욱 개선 예상. 한편 이커머스 시 장 재편 하 1) 네이버 플러스스토어 출시(10월말), 2) 물류 고도화(당일 배송 강화, 셀러 창 고를 통한 도착보장 도입), 3) 멤버십 혜택 강화(멤버십 대상 도착보장 무료 배송/반품, 넷 플릭스 연동 및 프로모션 강화) 등을 통해 2025년 커머스 GMV +10.3% 성장 전망.', 'page': 1, 'type': 'paragraph'}, page_content=\"네이버는 개인화 앱 개편 영향으로 서치 플랫폼 성장률이 가속화되고 있으며, 자체 경쟁력 강화로 인한 성장 추세는 계속될 것으로 예상된다. 또한 'AI 브리핑' 도입으로 사용성이 개선되며, 다양한 전략을 통해 2025년 커머스 GMV 10.3% 성장을 전망한다.\"),\n",
       " Document(metadata={'id': 7, 'type': 'paragraph', 'dir_route': 'datas/네이버_교보증권(2024.11.11)', 'original_content': '매출 2.72조원(YoY +11.1%)로 컨센서스(2.62조원) 부합, 영익은 5,253억원(+38.2%) 기록 해 시장예상치(4,865억원) 상회. 서치플랫폼(YoY +11.0%) 중 DA는 피드 지면 확대 및 타 게팅 고도화로 +11.0%, SA는 플레이스광고 성장, 상품 개선 및 외부 매체 상품 확대로 +9.5% 성장. 커머스 매출(YoY +12.0%)은 중개/판매 중심 성장. 도착보장/브랜드솔루션 사용률 증가와 브랜드스토어 거래액 성장으로 On-Platform 거래액(+10.0%) 증가보다 중 개/판매 매출 크게(+24.6%) 증가. 핀테크 결제액은 외부결제(+37.7%), 주문/예약 및 현장 결제 확대 따른 오프라인(YoY +78%) 성장으로 18.6조원(+22.1%) 달성, 핀테크 매출 +13.0% 성장. 컨텐츠 매출은 유료 컨텐츠 및 광고 매출 증대로 웹툰 매출 4,240억원 (+11.6%, 동일환율 기준 +13.5%) 기록한 가운데 스노우(-46.5%, 네이버제트 제외 영향 제거시 YoY +9.0%)에서 네이버제트 연결 제외되며 +6.4%. 클라우드 매출은 라인웍스 유 료 ID수 확대, 뉴로클라우드 및 사우디 주택부 디지털트윈 매출 발생으로 YoY +17.0%.', 'file_name': '네이버_교보증권(2024.11.11).pdf', 'page': 1, 'investment': '교보증권(2024.11.11)', 'company_name': '네이버', 'image_route': nan, 'table': nan}, page_content='교보증권은 네이버의 3분기 실적 발표에서 매출 2.72조 원(YoY +11.1%), 영익 5,253억 원(+38.2%)을 기록하며 시장 예상치를 상회했다고 밝혔다. 특히, 이번 분기에는 콘텐츠 매출이 유료 콘텐츠 및 광고 매출 증대 등으로 인해 큰 폭으로 상승했으며, 클라우드 매출도 높은 성장세를 보였다.')]"
      ]
     },
     "execution_count": 15,
     "metadata": {},
     "output_type": "execute_result"
    }
   ],
   "source": [
    "# 어째서인지 Ensemble retrieval은 topk가 먹질 않습니다.. ㅋㅋ\n",
    "ensemble_retriever.invoke(query)"
   ]
  },
  {
   "cell_type": "code",
   "execution_count": 12,
   "metadata": {},
   "outputs": [
    {
     "data": {
      "text/plain": [
       "[Document(metadata={'company_name': '네이버', 'dir_route': 'datas/네이버_하나증권(2024.10.10)', 'file_name': '네이버_하나증권(2024.10.10).pdf', 'id': 19, 'investment': '하나증권(2024.10.10)', 'original_content': '네이버는 2024년 연결 기준 영업수익 10조 5,184억원(+8.8%YoY), 영업이익 1조 8,994억원 (+27.6%YoY, OPM 18.1%)을 기록할 것으로 전망한다. 서치플랫폼 매출액은 3조 8,546억원 (+7.4%YoY)으로 추정한다. DA 광고 지면 증가 효과는 4분기까지 높은 성장률로 확인될 전 망이다. 커머스 매출액은 2조 9,045억원(+14.1%YoY)으로 전망한다. 네이버는 연내 모바일 쇼핑 탭을 네이버플러스 스토어로 개편할 계획이다. 스마트/브랜드스토어를 중심으로한 개 인화 추천, UI/UX 개선이 도입될 예정이다. 성장 둔화를 겪고 있는 커머스 광고 매출과 커 머스 GMV의 반등을 기대한다.', 'page': 1, 'type': 'paragraph'}, page_content='네이버는 2024년 연결 기준 영업수익 10조 5,184억원, 영업이익 1조 8,994억원을 기록할 것으로 전망하며, 특히 쇼핑 탭을 네이버플러스 스토어로 개편하여 개인화 추천 및 UI/UX 개선을 통해 커머스 광고 매출과 GMV의 반등을 기대함.'),\n",
       " Document(metadata={'company_name': '네이버', 'dir_route': 'datas/네이버_하나증권(2024.10.10)', 'file_name': '네이버_하나증권(2024.10.10).pdf', 'id': 45, 'investment': '하나증권(2024.10.10)', 'original_content': '주: 2Q21 왓패드 인수, 4Q21 이북재팬 인수, 4Q22 순매출>총매출 회계처리 변경 영향 자료: 네이버, 하나증권', 'page': 3, 'type': 'paragraph'}, page_content='네이버의 2021년 2분기 매출액은 전년동기 대비 30.4% 증가한 1조 6,635억원이며 영업이익은 8,362억원으로 전년동기 대비 16.2% 감소했다. 이는 21년 2분기에 있었던 왓패드와 이북 재팬 인수 및 22년 4분기부터 적용된 순매출 > 총매출 회계 처리 방식 변경 때문이다.'),\n",
       " Document(metadata={'id': 11, 'type': 'paragraph', 'dir_route': 'datas/롯데렌탈_하나증권(2024.09.20)', 'original_content': '도 표 1. 2024년 9월 19일 기준 쏘카 주주 구성 및 지분율', 'file_name': '롯데렌탈_하나증권(2024.09.20).pdf', 'page': 2, 'investment': '하나증권(2024.09.20)', 'company_name': '롯데렌탈', 'image_route': nan, 'table': nan}, page_content='도표 1에서는 2024년 9월 19일을 기준으로 한 쏘카의 주주 구성과 지분율을 보여줍니다.'),\n",
       " Document(metadata={'company_name': '네이버', 'dir_route': 'datas/네이버_교보증권(2024.11.11)', 'file_name': '네이버_교보증권(2024.11.11).pdf', 'id': 13, 'investment': '교보증권(2024.11.11)', 'original_content': '투자의견 매수, 목표주가 254,000원 유지. 개인화 앱 개편(네이버앱 메인 일평균 체류시간 YoY +10% 이상 성장, 클립 재생수 연초 대비 +81)영향이 서치플랫폼 성장률 가속화로 이어지고 있으며, 자체 경쟁력 강화에 따른 이러한 성장 추세는 타겟팅 고도화와 피드 영 역 확대로 2025년에도 서치플랫폼 매출 성장(SA +8%, DA +11% 전망)을 견인 예상. 2025 년 모바일 영역에 통합된 ‘AI 브리핑’ 도입으로 사용성 더욱 개선 예상. 한편 이커머스 시 장 재편 하 1) 네이버 플러스스토어 출시(10월말), 2) 물류 고도화(당일 배송 강화, 셀러 창 고를 통한 도착보장 도입), 3) 멤버십 혜택 강화(멤버십 대상 도착보장 무료 배송/반품, 넷 플릭스 연동 및 프로모션 강화) 등을 통해 2025년 커머스 GMV +10.3% 성장 전망.', 'page': 1, 'type': 'paragraph'}, page_content=\"네이버는 개인화 앱 개편 영향으로 서치 플랫폼 성장률이 가속화되고 있으며, 자체 경쟁력 강화로 인한 성장 추세는 계속될 것으로 예상된다. 또한 'AI 브리핑' 도입으로 사용성이 개선되며, 다양한 전략을 통해 2025년 커머스 GMV 10.3% 성장을 전망한다.\"),\n",
       " Document(metadata={'id': 7, 'type': 'paragraph', 'dir_route': 'datas/네이버_교보증권(2024.11.11)', 'original_content': '매출 2.72조원(YoY +11.1%)로 컨센서스(2.62조원) 부합, 영익은 5,253억원(+38.2%) 기록 해 시장예상치(4,865억원) 상회. 서치플랫폼(YoY +11.0%) 중 DA는 피드 지면 확대 및 타 게팅 고도화로 +11.0%, SA는 플레이스광고 성장, 상품 개선 및 외부 매체 상품 확대로 +9.5% 성장. 커머스 매출(YoY +12.0%)은 중개/판매 중심 성장. 도착보장/브랜드솔루션 사용률 증가와 브랜드스토어 거래액 성장으로 On-Platform 거래액(+10.0%) 증가보다 중 개/판매 매출 크게(+24.6%) 증가. 핀테크 결제액은 외부결제(+37.7%), 주문/예약 및 현장 결제 확대 따른 오프라인(YoY +78%) 성장으로 18.6조원(+22.1%) 달성, 핀테크 매출 +13.0% 성장. 컨텐츠 매출은 유료 컨텐츠 및 광고 매출 증대로 웹툰 매출 4,240억원 (+11.6%, 동일환율 기준 +13.5%) 기록한 가운데 스노우(-46.5%, 네이버제트 제외 영향 제거시 YoY +9.0%)에서 네이버제트 연결 제외되며 +6.4%. 클라우드 매출은 라인웍스 유 료 ID수 확대, 뉴로클라우드 및 사우디 주택부 디지털트윈 매출 발생으로 YoY +17.0%.', 'file_name': '네이버_교보증권(2024.11.11).pdf', 'page': 1, 'investment': '교보증권(2024.11.11)', 'company_name': '네이버', 'image_route': nan, 'table': nan}, page_content='교보증권은 네이버의 3분기 실적 발표에서 매출 2.72조 원(YoY +11.1%), 영익 5,253억 원(+38.2%)을 기록하며 시장 예상치를 상회했다고 밝혔다. 특히, 이번 분기에는 콘텐츠 매출이 유료 콘텐츠 및 광고 매출 증대 등으로 인해 큰 폭으로 상승했으며, 클라우드 매출도 높은 성장세를 보였다.')]"
      ]
     },
     "execution_count": 12,
     "metadata": {},
     "output_type": "execute_result"
    }
   ],
   "source": [
    "ensemble_retriever.invoke(query, search_kwargs={'k':3})"
   ]
  },
  {
   "cell_type": "code",
   "execution_count": null,
   "metadata": {},
   "outputs": [
    {
     "name": "stdout",
     "output_type": "stream",
     "text": [
      "acc: 0.8165\n"
     ]
    }
   ],
   "source": [
    "from evaluation import retrieval_evaluate\n",
    "import pandas as pd\n",
    "eval_dataset = pd.read_csv('datas/validation_dataset.csv')\n",
    "\n",
    "# retrieval과 evaldataset을 통해 acc를 평가해볼 수 있습니다.\n",
    "retrieval_evaluate(retrieval=BM25Retriever, eval_dataset = eval_dataset)"
   ]
  },
  {
   "cell_type": "code",
   "execution_count": null,
   "metadata": {},
   "outputs": [],
   "source": []
  }
 ],
 "metadata": {
  "kernelspec": {
   "display_name": "hackerthon",
   "language": "python",
   "name": "python3"
  },
  "language_info": {
   "codemirror_mode": {
    "name": "ipython",
    "version": 3
   },
   "file_extension": ".py",
   "mimetype": "text/x-python",
   "name": "python",
   "nbconvert_exporter": "python",
   "pygments_lexer": "ipython3",
   "version": "3.13.1"
  }
 },
 "nbformat": 4,
 "nbformat_minor": 2
}
