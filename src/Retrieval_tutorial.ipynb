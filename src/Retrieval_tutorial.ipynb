{
 "cells": [
  {
   "cell_type": "code",
   "execution_count": 1,
   "metadata": {},
   "outputs": [
    {
     "name": "stderr",
     "output_type": "stream",
     "text": [
      "/opt/conda/envs/env/lib/python3.11/site-packages/tqdm/auto.py:21: TqdmWarning: IProgress not found. Please update jupyter and ipywidgets. See https://ipywidgets.readthedocs.io/en/stable/user_install.html\n",
      "  from .autonotebook import tqdm as notebook_tqdm\n"
     ]
    },
    {
     "data": {
      "text/html": [
       "<div>\n",
       "<style scoped>\n",
       "    .dataframe tbody tr th:only-of-type {\n",
       "        vertical-align: middle;\n",
       "    }\n",
       "\n",
       "    .dataframe tbody tr th {\n",
       "        vertical-align: top;\n",
       "    }\n",
       "\n",
       "    .dataframe thead th {\n",
       "        text-align: right;\n",
       "    }\n",
       "</style>\n",
       "<table border=\"1\" class=\"dataframe\">\n",
       "  <thead>\n",
       "    <tr style=\"text-align: right;\">\n",
       "      <th></th>\n",
       "      <th>id</th>\n",
       "      <th>type</th>\n",
       "      <th>dir_route</th>\n",
       "      <th>original_content</th>\n",
       "      <th>file_name</th>\n",
       "      <th>page</th>\n",
       "      <th>investment</th>\n",
       "      <th>company_name</th>\n",
       "      <th>summary</th>\n",
       "      <th>image_route</th>\n",
       "      <th>table</th>\n",
       "    </tr>\n",
       "  </thead>\n",
       "  <tbody>\n",
       "    <tr>\n",
       "      <th>0</th>\n",
       "      <td>3</td>\n",
       "      <td>paragraph</td>\n",
       "      <td>datas/엘앤에프_삼성증권(2024.10.17)</td>\n",
       "      <td>조현렬 Senior Analyst hyunryul.cho@samsung.com</td>\n",
       "      <td>엘앤에프_삼성증권(2024.10.17).pdf</td>\n",
       "      <td>1</td>\n",
       "      <td>삼성증권(2024.10.17)</td>\n",
       "      <td>엘앤에프</td>\n",
       "      <td>조현렬 Senior Analyst가 엘앤에프에 대한 분석을 진행함</td>\n",
       "      <td>NaN</td>\n",
       "      <td>NaN</td>\n",
       "    </tr>\n",
       "    <tr>\n",
       "      <th>5</th>\n",
       "      <td>12</td>\n",
       "      <td>paragraph</td>\n",
       "      <td>datas/엘앤에프_삼성증권(2024.10.17)</td>\n",
       "      <td>BUY★★★: 5 / BUY: 4 / HOLD: 3 / SELL: 2 / SELL★...</td>\n",
       "      <td>엘앤에프_삼성증권(2024.10.17).pdf</td>\n",
       "      <td>1</td>\n",
       "      <td>삼성증권(2024.10.17)</td>\n",
       "      <td>엘앤에프</td>\n",
       "      <td>매수 등급인 BUY이며, 별 개수는 세 개이다.</td>\n",
       "      <td>NaN</td>\n",
       "      <td>NaN</td>\n",
       "    </tr>\n",
       "    <tr>\n",
       "      <th>7</th>\n",
       "      <td>17</td>\n",
       "      <td>paragraph</td>\n",
       "      <td>datas/엘앤에프_삼성증권(2024.10.17)</td>\n",
       "      <td>Investor Day takeaways, Diversification: 지난 16...</td>\n",
       "      <td>엘앤에프_삼성증권(2024.10.17).pdf</td>\n",
       "      <td>1</td>\n",
       "      <td>삼성증권(2024.10.17)</td>\n",
       "      <td>엘앤에프</td>\n",
       "      <td>엘앤에프는 투자자 데이에서 다양한 분야로의 다각화를 중심으로 한 중기 전략을 발표했...</td>\n",
       "      <td>NaN</td>\n",
       "      <td>NaN</td>\n",
       "    </tr>\n",
       "  </tbody>\n",
       "</table>\n",
       "</div>"
      ],
      "text/plain": [
       "   id       type                                  dir_route  \\\n",
       "0   3  paragraph  datas/엘앤에프_삼성증권(2024.10.17)   \n",
       "5  12  paragraph  datas/엘앤에프_삼성증권(2024.10.17)   \n",
       "7  17  paragraph  datas/엘앤에프_삼성증권(2024.10.17)   \n",
       "\n",
       "                                    original_content  \\\n",
       "0        조현렬 Senior Analyst hyunryul.cho@samsung.com   \n",
       "5  BUY★★★: 5 / BUY: 4 / HOLD: 3 / SELL: 2 / SELL★...   \n",
       "7  Investor Day takeaways, Diversification: 지난 16...   \n",
       "\n",
       "                                 file_name  page                investment  \\\n",
       "0  엘앤에프_삼성증권(2024.10.17).pdf     1  삼성증권(2024.10.17)   \n",
       "5  엘앤에프_삼성증권(2024.10.17).pdf     1  삼성증권(2024.10.17)   \n",
       "7  엘앤에프_삼성증권(2024.10.17).pdf     1  삼성증권(2024.10.17)   \n",
       "\n",
       "  company_name                                            summary image_route  \\\n",
       "0   엘앤에프               조현렬 Senior Analyst가 엘앤에프에 대한 분석을 진행함         NaN   \n",
       "5   엘앤에프                         매수 등급인 BUY이며, 별 개수는 세 개이다.         NaN   \n",
       "7   엘앤에프  엘앤에프는 투자자 데이에서 다양한 분야로의 다각화를 중심으로 한 중기 전략을 발표했...         NaN   \n",
       "\n",
       "  table  \n",
       "0   NaN  \n",
       "5   NaN  \n",
       "7   NaN  "
      ]
     },
     "execution_count": 1,
     "metadata": {},
     "output_type": "execute_result"
    }
   ],
   "source": [
    "from DB.chromadb_storing import ChromaDB\n",
    "from langchain.schema import Document\n",
    "from utils import get_only_paragraphs, get_all_datas, create_documents\n",
    "BASE_DIR = './datas' # 데이터가 저장돼 있는 루트를 의미합니다.\n",
    "\n",
    "df = get_only_paragraphs(BASE_DIR)\n",
    "# df = get_all_datas(BASE_DIR) # 이미지와 테이블이 포함된 전체 데이터도 가져올 수 있습니다.\n",
    "df[:3]\n"
   ]
  },
  {
   "cell_type": "code",
   "execution_count": 2,
   "metadata": {},
   "outputs": [
    {
     "data": {
      "text/plain": [
       "[Document(metadata={'id': 3, 'type': 'paragraph', 'dir_route': 'datas/엘앤에프_삼성증권(2024.10.17)', 'original_content': '조현렬 Senior Analyst hyunryul.cho@samsung.com', 'file_name': '엘앤에프_삼성증권(2024.10.17).pdf', 'page': 1, 'investment': '삼성증권(2024.10.17)', 'company_name': '엘앤에프', 'image_route': nan, 'table': nan}, page_content='조현렬 Senior Analyst가 엘앤에프에 대한 분석을 진행함'),\n",
       " Document(metadata={'id': 12, 'type': 'paragraph', 'dir_route': 'datas/엘앤에프_삼성증권(2024.10.17)', 'original_content': 'BUY★★★: 5 / BUY: 4 / HOLD: 3 / SELL: 2 / SELL★★★: 1', 'file_name': '엘앤에프_삼성증권(2024.10.17).pdf', 'page': 1, 'investment': '삼성증권(2024.10.17)', 'company_name': '엘앤에프', 'image_route': nan, 'table': nan}, page_content='매수 등급인 BUY이며, 별 개수는 세 개이다.'),\n",
       " Document(metadata={'id': 17, 'type': 'paragraph', 'dir_route': 'datas/엘앤에프_삼성증권(2024.10.17)', 'original_content': 'Investor Day takeaways, Diversification: 지난 16일 동사는 Investor Day를 통해 중장기 전 략을 공유. 향후 3년 중기 전략의 핵심은 다각화(Diversification). 특히 제품 다각화(하이니 켈→미드니켈 및 LFP), 고객 다각화(LG에너지솔루션→한국, 유럽, 일본 전기차 및 셀 업체), 사업 다각화(양극재→전구체, 리튬 톨링, 음극재)에 대한 실행 목표. 출하량은 2023년 7.8만 톤(당사 추정) 대비 2027년 15만 톤 이상을 전망하고, 21700 신규 제품 출시 및 46 시리즈 제품 공급 본격화를 통해 출하량 성장 재개를 목표. 다만 영업이익률 목표는 2025년 2%, 2026년 4%, 2027년 7%로 전망하여, 수익성 정상화 시점은 2026년 이후를 목표. 고객사 의존도의 경우, 최대 매출처 의존도를 2024년 80%에서 2027년 50%까지 하향 목표.', 'file_name': '엘앤에프_삼성증권(2024.10.17).pdf', 'page': 1, 'investment': '삼성증권(2024.10.17)', 'company_name': '엘앤에프', 'image_route': nan, 'table': nan}, page_content='엘앤에프는 투자자 데이에서 다양한 분야로의 다각화를 중심으로 한 중기 전략을 발표했다. 제품 다각화로는 하이니켈에서 미드니켈 및 LFP로의 전환을 계획하고 있으며, 고객 다각화로는 한국, 유럽, 일본 등의 전기차 및 셀 업체와 협력하며, 사업 다각화로는 양극재에서 전구체, 리튬 톨링, 음극재로 확장할 예정이다. 이를 통해 출하량 증가와 함께 이익률 개선을 목표로 하고 있다.')]"
      ]
     },
     "execution_count": 2,
     "metadata": {},
     "output_type": "execute_result"
    }
   ],
   "source": [
    "# 데이터프레임의 행들을 각각 Document타입으로 바꾼 뒤, 리스트에 담습니다.\n",
    "documents = create_documents(df)\n",
    "documents[:3]"
   ]
  },
  {
   "cell_type": "code",
   "execution_count": 3,
   "metadata": {},
   "outputs": [
    {
     "name": "stdout",
     "output_type": "stream",
     "text": [
      "Received 388 documents for embedding.\n"
     ]
    },
    {
     "name": "stderr",
     "output_type": "stream",
     "text": [
      "/data/ephemeral/home/level4-nlp-finalproject-hackathon-nlp-09-lv3/src/DB/chromadb_storing.py:55: LangChainDeprecationWarning: The class `Chroma` was deprecated in LangChain 0.2.9 and will be removed in 1.0. An updated version of the class exists in the :class:`~langchain-chroma package and should be used instead. To use it run `pip install -U :class:`~langchain-chroma` and import as `from :class:`~langchain_chroma import Chroma``.\n",
      "  self.db = Chroma(\n"
     ]
    },
    {
     "name": "stdout",
     "output_type": "stream",
     "text": [
      "Adding batch 1 of 4...\n"
     ]
    },
    {
     "name": "stderr",
     "output_type": "stream",
     "text": [
      "/opt/conda/envs/env/lib/python3.11/site-packages/torch/_utils.py:831: UserWarning: TypedStorage is deprecated. It will be removed in the future and UntypedStorage will be the only storage class. This should only matter to you if you are using storages directly.  To access UntypedStorage directly, use tensor.untyped_storage() instead of tensor.storage()\n",
      "  return self.fget.__get__(instance, owner)()\n"
     ]
    },
    {
     "name": "stdout",
     "output_type": "stream",
     "text": [
      "Adding batch 2 of 4...\n",
      "Adding batch 3 of 4...\n",
      "Adding batch 4 of 4...\n",
      "Collection 'chrdb.db' created and persisted at 'DB/DB_KF_DebertaEmb'.\n"
     ]
    },
    {
     "name": "stderr",
     "output_type": "stream",
     "text": [
      "/data/ephemeral/home/level4-nlp-finalproject-hackathon-nlp-09-lv3/src/DB/chromadb_storing.py:72: LangChainDeprecationWarning: Since Chroma 0.4.x the manual persistence method is no longer supported as docs are automatically persisted.\n",
      "  self.db.persist()\n"
     ]
    }
   ],
   "source": [
    "# add_docs를 통해 문서들을 저장합니다.\n",
    "\n",
    "collection_name = 'chrdb.db'\n",
    "persist_directory = 'DB'\n",
    "DB = ChromaDB(collection_name, persist_directory, mode = 'KF_DebertaEmb')\n",
    "DB.create_and_add(documents,)\n",
    "\n"
   ]
  },
  {
   "cell_type": "code",
   "execution_count": 5,
   "metadata": {},
   "outputs": [
    {
     "name": "stdout",
     "output_type": "stream",
     "text": [
      "Total documents in collection 'chrdb.db': 388\n"
     ]
    }
   ],
   "source": [
    "# verify_db를 통해 db내의 데이터 수를 확인할 수 있고, db객체를 받을 수 있습니다.\n",
    "db = DB.verify_db()"
   ]
  },
  {
   "cell_type": "code",
   "execution_count": null,
   "metadata": {},
   "outputs": [
    {
     "name": "stdout",
     "output_type": "stream",
     "text": [
      "Collection 'chrdb.db' loaded from 'DB/DB_KF_DebertaEmb'.\n"
     ]
    },
    {
     "name": "stderr",
     "output_type": "stream",
     "text": [
      "/data/ephemeral/home/level4-nlp-finalproject-hackathon-nlp-09-lv3/src/DB/chromadb_storing.py:101: LangChainDeprecationWarning: The class `Chroma` was deprecated in LangChain 0.2.9 and will be removed in 1.0. An updated version of the class exists in the :class:`~langchain-chroma package and should be used instead. To use it run `pip install -U :class:`~langchain-chroma` and import as `from :class:`~langchain_chroma import Chroma``.\n",
      "  self.db = Chroma(\n"
     ]
    },
    {
     "data": {
      "text/plain": [
       "<langchain_community.vectorstores.chroma.Chroma at 0x7f651f1cca10>"
      ]
     },
     "execution_count": 4,
     "metadata": {},
     "output_type": "execute_result"
    }
   ],
   "source": [
    "# 데이터 로드\n",
    "collection_name = 'chrdb.db'\n",
    "persist_directory = 'DB'\n",
    "DB = ChromaDB(collection_name, persist_directory,mode = 'KF_DebertaEmb')\n",
    "#                   [가능한 모델]\n",
    "                #   1. NaverCloudEmb\n",
    "                #   2. KF_DebertaEmb\n",
    "                #   3. Kure_Emb - 공개된 모델이 아님 (Access키 필요)\n",
    "DB.load_collection()"
   ]
  },
  {
   "cell_type": "code",
   "execution_count": 6,
   "metadata": {},
   "outputs": [
    {
     "name": "stdout",
     "output_type": "stream",
     "text": [
      "Total documents in collection 'chrdb.db': 388\n"
     ]
    }
   ],
   "source": [
    "# verify_db를 통해 db내의 데이터 수를 확인할 수 있고, db객체를 받을 수 있습니다.\n",
    "db = DB.verify_db()"
   ]
  },
  {
   "cell_type": "code",
   "execution_count": 10,
   "metadata": {},
   "outputs": [],
   "source": [
    "import sqlite3\n",
    "def inspect_sqlite_db(db_path):\n",
    "    \"\"\"\n",
    "    Inspect the structure and contents of an SQLite3 database.\n",
    "    \n",
    "    :param db_path: Path to the SQLite3 database file.\n",
    "    \"\"\"\n",
    "    try:\n",
    "        # 데이터베이스 연결\n",
    "        conn = sqlite3.connect(db_path)\n",
    "        cursor = conn.cursor()\n",
    "\n",
    "        # 모든 테이블 이름 가져오기\n",
    "        cursor.execute(\"SELECT name FROM sqlite_master WHERE type='table';\")\n",
    "        tables = cursor.fetchall()\n",
    "        print(\"Tables in the database:\")\n",
    "        for table in tables:\n",
    "            print(f\"- {table[0]}\")\n",
    "\n",
    "        # 각 테이블의 스키마와 데이터를 확인\n",
    "        for table in tables:\n",
    "            table_name = table[0]\n",
    "            print(f\"\\nSchema for table '{table_name}':\")\n",
    "            cursor.execute(f\"PRAGMA table_info({table_name});\")\n",
    "            schema = cursor.fetchall()\n",
    "            for column in schema:\n",
    "                print(column)\n",
    "\n",
    "            print(f\"\\nData in table '{table_name}':\")\n",
    "            cursor.execute(f\"SELECT * FROM {table_name} LIMIT 5;\")\n",
    "            rows = cursor.fetchall()\n",
    "            for row in rows:\n",
    "                print(row)\n",
    "\n",
    "        # 연결 종료\n",
    "        conn.close()\n",
    "    except sqlite3.Error as e:\n",
    "        print(f\"SQLite error: {e}\")"
   ]
  },
  {
   "cell_type": "code",
   "execution_count": 11,
   "metadata": {},
   "outputs": [
    {
     "name": "stdout",
     "output_type": "stream",
     "text": [
      "SQLite error: unable to open database file\n"
     ]
    }
   ],
   "source": [
    "db_path = 'datas/'  # SQLite3 파일 경로\n",
    "inspect_sqlite_db(db_path)"
   ]
  },
  {
   "cell_type": "code",
   "execution_count": 12,
   "metadata": {},
   "outputs": [],
   "source": [
    "# 위처럼 import하여 kiwi tokenizer을 사용하는 bm25와 dpr, 앙상블 리트리버를 생성할 수 있습니다.\n",
    "from retrievals import bm25, dpr, ensemble\n",
    "\n",
    "topk = 3\n",
    "\n",
    "DPRRetriever = dpr(db, topk = 3)\n",
    "BM25Retriever = bm25(documents, topk = 3)\n",
    "\n",
    "retrievals = [DPRRetriever, BM25Retriever]\n",
    "weights = [0.5, 0.5]\n",
    "search_type = 'mmr'\n",
    "ensemble_retriever = ensemble(retrievals, topk = topk, weights = weights, search_type = search_type)\n",
    "\n"
   ]
  },
  {
   "cell_type": "code",
   "execution_count": 13,
   "metadata": {},
   "outputs": [
    {
     "name": "stderr",
     "output_type": "stream",
     "text": [
      "/opt/conda/envs/env/lib/python3.11/site-packages/torch/_utils.py:831: UserWarning: TypedStorage is deprecated. It will be removed in the future and UntypedStorage will be the only storage class. This should only matter to you if you are using storages directly.  To access UntypedStorage directly, use tensor.untyped_storage() instead of tensor.storage()\n",
      "  return self.fget.__get__(instance, owner)()\n"
     ]
    },
    {
     "data": {
      "text/plain": [
       "[Document(metadata={'company_name': '크래프톤', 'dir_route': 'datas/크래프톤_미래에셋증권(2024.05.09)', 'file_name': '크래프톤_미래에셋증권(2024.05.09).pdf', 'id': 14, 'investment': '미래에셋증권(2024.05.09)', 'original_content': '주: K-IFRS 연결 기준, 순이익은 지배주주 귀속 순이익 자료: 크래프톤, 미래에셋증권 리서치센터', 'page': 1, 'type': 'paragraph'}, page_content='크래프톤의 2024년 05월 09일 미래에셋증권 리포트에 따르면, K-IFRS 연결 기준으로 순이익은 지배주주 귀속 순이익이라고 밝혔다.'),\n",
       " Document(metadata={'company_name': '크래프톤', 'dir_route': 'datas/크래프톤_유안타증권(2024.09.24)', 'file_name': '크래프톤_유안타증권(2024.09.24).pdf', 'id': 59, 'investment': '유안타증권(2024.09.24)', 'original_content': '주: 영업이익 산출 기준은 기존 k-GAAP과 동일. 즉, 매출액에서 매출원가와 판관비만 차감', 'page': 5, 'type': 'paragraph'}, page_content='크래프톤의 2024년 9월 24일 유안타 증권 리포트에서는 K-GAAP 방식으로 영업 이익을 산출하였으며, 이는 매출액에서 매출 원가와 판매 관리비를 차감한 값이다.'),\n",
       " Document(metadata={'company_name': '네이버', 'dir_route': 'datas/네이버_하나증권(2024.10.10)', 'file_name': '네이버_하나증권(2024.10.10).pdf', 'id': 45, 'investment': '하나증권(2024.10.10)', 'original_content': '주: 2Q21 왓패드 인수, 4Q21 이북재팬 인수, 4Q22 순매출>총매출 회계처리 변경 영향 자료: 네이버, 하나증권', 'page': 3, 'type': 'paragraph'}, page_content='네이버의 2021년 2분기 매출액은 전년동기 대비 30.4% 증가한 1조 6,635억원이며 영업이익은 8,362억원으로 전년동기 대비 16.2% 감소했다. 이는 21년 2분기에 있었던 왓패드와 이북 재팬 인수 및 22년 4분기부터 적용된 순매출 > 총매출 회계 처리 방식 변경 때문이다.')]"
      ]
     },
     "execution_count": 13,
     "metadata": {},
     "output_type": "execute_result"
    }
   ],
   "source": [
    "# 다음과 같이 retriever.invoke(query)를 통해 관련 문서를 검색할 수 있습니다.\n",
    "query = '네이버의 2024년 매출을 알려줘.'\n",
    "\n",
    "DPRRetriever.invoke(query)"
   ]
  },
  {
   "cell_type": "code",
   "execution_count": 14,
   "metadata": {},
   "outputs": [
    {
     "data": {
      "text/plain": [
       "[Document(metadata={'id': 19, 'type': 'paragraph', 'dir_route': 'datas/네이버_하나증권(2024.10.10)', 'original_content': '네이버는 2024년 연결 기준 영업수익 10조 5,184억원(+8.8%YoY), 영업이익 1조 8,994억원 (+27.6%YoY, OPM 18.1%)을 기록할 것으로 전망한다. 서치플랫폼 매출액은 3조 8,546억원 (+7.4%YoY)으로 추정한다. DA 광고 지면 증가 효과는 4분기까지 높은 성장률로 확인될 전 망이다. 커머스 매출액은 2조 9,045억원(+14.1%YoY)으로 전망한다. 네이버는 연내 모바일 쇼핑 탭을 네이버플러스 스토어로 개편할 계획이다. 스마트/브랜드스토어를 중심으로한 개 인화 추천, UI/UX 개선이 도입될 예정이다. 성장 둔화를 겪고 있는 커머스 광고 매출과 커 머스 GMV의 반등을 기대한다.', 'file_name': '네이버_하나증권(2024.10.10).pdf', 'page': 1, 'investment': '하나증권(2024.10.10)', 'company_name': '네이버', 'image_route': nan, 'table': nan}, page_content='네이버는 2024년 연결 기준 영업수익 10조 5,184억원, 영업이익 1조 8,994억원을 기록할 것으로 전망하며, 특히 쇼핑 탭을 네이버플러스 스토어로 개편하여 개인화 추천 및 UI/UX 개선을 통해 커머스 광고 매출과 GMV의 반등을 기대함.'),\n",
       " Document(metadata={'id': 11, 'type': 'paragraph', 'dir_route': 'datas/롯데렌탈_하나증권(2024.09.20)', 'original_content': '도 표 1. 2024년 9월 19일 기준 쏘카 주주 구성 및 지분율', 'file_name': '롯데렌탈_하나증권(2024.09.20).pdf', 'page': 2, 'investment': '하나증권(2024.09.20)', 'company_name': '롯데렌탈', 'image_route': nan, 'table': nan}, page_content='도표 1에서는 2024년 9월 19일을 기준으로 한 쏘카의 주주 구성과 지분율을 보여줍니다.'),\n",
       " Document(metadata={'id': 7, 'type': 'paragraph', 'dir_route': 'datas/네이버_교보증권(2024.11.11)', 'original_content': '매출 2.72조원(YoY +11.1%)로 컨센서스(2.62조원) 부합, 영익은 5,253억원(+38.2%) 기록 해 시장예상치(4,865억원) 상회. 서치플랫폼(YoY +11.0%) 중 DA는 피드 지면 확대 및 타 게팅 고도화로 +11.0%, SA는 플레이스광고 성장, 상품 개선 및 외부 매체 상품 확대로 +9.5% 성장. 커머스 매출(YoY +12.0%)은 중개/판매 중심 성장. 도착보장/브랜드솔루션 사용률 증가와 브랜드스토어 거래액 성장으로 On-Platform 거래액(+10.0%) 증가보다 중 개/판매 매출 크게(+24.6%) 증가. 핀테크 결제액은 외부결제(+37.7%), 주문/예약 및 현장 결제 확대 따른 오프라인(YoY +78%) 성장으로 18.6조원(+22.1%) 달성, 핀테크 매출 +13.0% 성장. 컨텐츠 매출은 유료 컨텐츠 및 광고 매출 증대로 웹툰 매출 4,240억원 (+11.6%, 동일환율 기준 +13.5%) 기록한 가운데 스노우(-46.5%, 네이버제트 제외 영향 제거시 YoY +9.0%)에서 네이버제트 연결 제외되며 +6.4%. 클라우드 매출은 라인웍스 유 료 ID수 확대, 뉴로클라우드 및 사우디 주택부 디지털트윈 매출 발생으로 YoY +17.0%.', 'file_name': '네이버_교보증권(2024.11.11).pdf', 'page': 1, 'investment': '교보증권(2024.11.11)', 'company_name': '네이버', 'image_route': nan, 'table': nan}, page_content='교보증권은 네이버의 3분기 실적 발표에서 매출 2.72조 원(YoY +11.1%), 영익 5,253억 원(+38.2%)을 기록하며 시장 예상치를 상회했다고 밝혔다. 특히, 이번 분기에는 콘텐츠 매출이 유료 콘텐츠 및 광고 매출 증대 등으로 인해 큰 폭으로 상승했으며, 클라우드 매출도 높은 성장세를 보였다.')]"
      ]
     },
     "execution_count": 14,
     "metadata": {},
     "output_type": "execute_result"
    }
   ],
   "source": [
    "BM25Retriever.invoke(query)"
   ]
  },
  {
   "cell_type": "code",
   "execution_count": 15,
   "metadata": {},
   "outputs": [
    {
     "data": {
      "text/plain": [
       "[Document(metadata={'company_name': '크래프톤', 'dir_route': 'datas/크래프톤_미래에셋증권(2024.05.09)', 'file_name': '크래프톤_미래에셋증권(2024.05.09).pdf', 'id': 14, 'investment': '미래에셋증권(2024.05.09)', 'original_content': '주: K-IFRS 연결 기준, 순이익은 지배주주 귀속 순이익 자료: 크래프톤, 미래에셋증권 리서치센터', 'page': 1, 'type': 'paragraph'}, page_content='크래프톤의 2024년 05월 09일 미래에셋증권 리포트에 따르면, K-IFRS 연결 기준으로 순이익은 지배주주 귀속 순이익이라고 밝혔다.'),\n",
       " Document(metadata={'id': 19, 'type': 'paragraph', 'dir_route': 'datas/네이버_하나증권(2024.10.10)', 'original_content': '네이버는 2024년 연결 기준 영업수익 10조 5,184억원(+8.8%YoY), 영업이익 1조 8,994억원 (+27.6%YoY, OPM 18.1%)을 기록할 것으로 전망한다. 서치플랫폼 매출액은 3조 8,546억원 (+7.4%YoY)으로 추정한다. DA 광고 지면 증가 효과는 4분기까지 높은 성장률로 확인될 전 망이다. 커머스 매출액은 2조 9,045억원(+14.1%YoY)으로 전망한다. 네이버는 연내 모바일 쇼핑 탭을 네이버플러스 스토어로 개편할 계획이다. 스마트/브랜드스토어를 중심으로한 개 인화 추천, UI/UX 개선이 도입될 예정이다. 성장 둔화를 겪고 있는 커머스 광고 매출과 커 머스 GMV의 반등을 기대한다.', 'file_name': '네이버_하나증권(2024.10.10).pdf', 'page': 1, 'investment': '하나증권(2024.10.10)', 'company_name': '네이버', 'image_route': nan, 'table': nan}, page_content='네이버는 2024년 연결 기준 영업수익 10조 5,184억원, 영업이익 1조 8,994억원을 기록할 것으로 전망하며, 특히 쇼핑 탭을 네이버플러스 스토어로 개편하여 개인화 추천 및 UI/UX 개선을 통해 커머스 광고 매출과 GMV의 반등을 기대함.'),\n",
       " Document(metadata={'company_name': '크래프톤', 'dir_route': 'datas/크래프톤_유안타증권(2024.09.24)', 'file_name': '크래프톤_유안타증권(2024.09.24).pdf', 'id': 59, 'investment': '유안타증권(2024.09.24)', 'original_content': '주: 영업이익 산출 기준은 기존 k-GAAP과 동일. 즉, 매출액에서 매출원가와 판관비만 차감', 'page': 5, 'type': 'paragraph'}, page_content='크래프톤의 2024년 9월 24일 유안타 증권 리포트에서는 K-GAAP 방식으로 영업 이익을 산출하였으며, 이는 매출액에서 매출 원가와 판매 관리비를 차감한 값이다.'),\n",
       " Document(metadata={'id': 11, 'type': 'paragraph', 'dir_route': 'datas/롯데렌탈_하나증권(2024.09.20)', 'original_content': '도 표 1. 2024년 9월 19일 기준 쏘카 주주 구성 및 지분율', 'file_name': '롯데렌탈_하나증권(2024.09.20).pdf', 'page': 2, 'investment': '하나증권(2024.09.20)', 'company_name': '롯데렌탈', 'image_route': nan, 'table': nan}, page_content='도표 1에서는 2024년 9월 19일을 기준으로 한 쏘카의 주주 구성과 지분율을 보여줍니다.'),\n",
       " Document(metadata={'company_name': '네이버', 'dir_route': 'datas/네이버_하나증권(2024.10.10)', 'file_name': '네이버_하나증권(2024.10.10).pdf', 'id': 45, 'investment': '하나증권(2024.10.10)', 'original_content': '주: 2Q21 왓패드 인수, 4Q21 이북재팬 인수, 4Q22 순매출>총매출 회계처리 변경 영향 자료: 네이버, 하나증권', 'page': 3, 'type': 'paragraph'}, page_content='네이버의 2021년 2분기 매출액은 전년동기 대비 30.4% 증가한 1조 6,635억원이며 영업이익은 8,362억원으로 전년동기 대비 16.2% 감소했다. 이는 21년 2분기에 있었던 왓패드와 이북 재팬 인수 및 22년 4분기부터 적용된 순매출 > 총매출 회계 처리 방식 변경 때문이다.'),\n",
       " Document(metadata={'id': 7, 'type': 'paragraph', 'dir_route': 'datas/네이버_교보증권(2024.11.11)', 'original_content': '매출 2.72조원(YoY +11.1%)로 컨센서스(2.62조원) 부합, 영익은 5,253억원(+38.2%) 기록 해 시장예상치(4,865억원) 상회. 서치플랫폼(YoY +11.0%) 중 DA는 피드 지면 확대 및 타 게팅 고도화로 +11.0%, SA는 플레이스광고 성장, 상품 개선 및 외부 매체 상품 확대로 +9.5% 성장. 커머스 매출(YoY +12.0%)은 중개/판매 중심 성장. 도착보장/브랜드솔루션 사용률 증가와 브랜드스토어 거래액 성장으로 On-Platform 거래액(+10.0%) 증가보다 중 개/판매 매출 크게(+24.6%) 증가. 핀테크 결제액은 외부결제(+37.7%), 주문/예약 및 현장 결제 확대 따른 오프라인(YoY +78%) 성장으로 18.6조원(+22.1%) 달성, 핀테크 매출 +13.0% 성장. 컨텐츠 매출은 유료 컨텐츠 및 광고 매출 증대로 웹툰 매출 4,240억원 (+11.6%, 동일환율 기준 +13.5%) 기록한 가운데 스노우(-46.5%, 네이버제트 제외 영향 제거시 YoY +9.0%)에서 네이버제트 연결 제외되며 +6.4%. 클라우드 매출은 라인웍스 유 료 ID수 확대, 뉴로클라우드 및 사우디 주택부 디지털트윈 매출 발생으로 YoY +17.0%.', 'file_name': '네이버_교보증권(2024.11.11).pdf', 'page': 1, 'investment': '교보증권(2024.11.11)', 'company_name': '네이버', 'image_route': nan, 'table': nan}, page_content='교보증권은 네이버의 3분기 실적 발표에서 매출 2.72조 원(YoY +11.1%), 영익 5,253억 원(+38.2%)을 기록하며 시장 예상치를 상회했다고 밝혔다. 특히, 이번 분기에는 콘텐츠 매출이 유료 콘텐츠 및 광고 매출 증대 등으로 인해 큰 폭으로 상승했으며, 클라우드 매출도 높은 성장세를 보였다.')]"
      ]
     },
     "execution_count": 15,
     "metadata": {},
     "output_type": "execute_result"
    }
   ],
   "source": [
    "# 어째서인지 Ensemble retrieval은 topk가 먹질 않습니다.. ㅋㅋ\n",
    "ensemble_retriever.invoke(query)"
   ]
  },
  {
   "cell_type": "code",
   "execution_count": 16,
   "metadata": {},
   "outputs": [
    {
     "data": {
      "text/plain": [
       "[Document(metadata={'company_name': '크래프톤', 'dir_route': 'datas/크래프톤_미래에셋증권(2024.05.09)', 'file_name': '크래프톤_미래에셋증권(2024.05.09).pdf', 'id': 14, 'investment': '미래에셋증권(2024.05.09)', 'original_content': '주: K-IFRS 연결 기준, 순이익은 지배주주 귀속 순이익 자료: 크래프톤, 미래에셋증권 리서치센터', 'page': 1, 'type': 'paragraph'}, page_content='크래프톤의 2024년 05월 09일 미래에셋증권 리포트에 따르면, K-IFRS 연결 기준으로 순이익은 지배주주 귀속 순이익이라고 밝혔다.'),\n",
       " Document(metadata={'id': 19, 'type': 'paragraph', 'dir_route': 'datas/네이버_하나증권(2024.10.10)', 'original_content': '네이버는 2024년 연결 기준 영업수익 10조 5,184억원(+8.8%YoY), 영업이익 1조 8,994억원 (+27.6%YoY, OPM 18.1%)을 기록할 것으로 전망한다. 서치플랫폼 매출액은 3조 8,546억원 (+7.4%YoY)으로 추정한다. DA 광고 지면 증가 효과는 4분기까지 높은 성장률로 확인될 전 망이다. 커머스 매출액은 2조 9,045억원(+14.1%YoY)으로 전망한다. 네이버는 연내 모바일 쇼핑 탭을 네이버플러스 스토어로 개편할 계획이다. 스마트/브랜드스토어를 중심으로한 개 인화 추천, UI/UX 개선이 도입될 예정이다. 성장 둔화를 겪고 있는 커머스 광고 매출과 커 머스 GMV의 반등을 기대한다.', 'file_name': '네이버_하나증권(2024.10.10).pdf', 'page': 1, 'investment': '하나증권(2024.10.10)', 'company_name': '네이버', 'image_route': nan, 'table': nan}, page_content='네이버는 2024년 연결 기준 영업수익 10조 5,184억원, 영업이익 1조 8,994억원을 기록할 것으로 전망하며, 특히 쇼핑 탭을 네이버플러스 스토어로 개편하여 개인화 추천 및 UI/UX 개선을 통해 커머스 광고 매출과 GMV의 반등을 기대함.'),\n",
       " Document(metadata={'company_name': '크래프톤', 'dir_route': 'datas/크래프톤_유안타증권(2024.09.24)', 'file_name': '크래프톤_유안타증권(2024.09.24).pdf', 'id': 59, 'investment': '유안타증권(2024.09.24)', 'original_content': '주: 영업이익 산출 기준은 기존 k-GAAP과 동일. 즉, 매출액에서 매출원가와 판관비만 차감', 'page': 5, 'type': 'paragraph'}, page_content='크래프톤의 2024년 9월 24일 유안타 증권 리포트에서는 K-GAAP 방식으로 영업 이익을 산출하였으며, 이는 매출액에서 매출 원가와 판매 관리비를 차감한 값이다.'),\n",
       " Document(metadata={'id': 11, 'type': 'paragraph', 'dir_route': 'datas/롯데렌탈_하나증권(2024.09.20)', 'original_content': '도 표 1. 2024년 9월 19일 기준 쏘카 주주 구성 및 지분율', 'file_name': '롯데렌탈_하나증권(2024.09.20).pdf', 'page': 2, 'investment': '하나증권(2024.09.20)', 'company_name': '롯데렌탈', 'image_route': nan, 'table': nan}, page_content='도표 1에서는 2024년 9월 19일을 기준으로 한 쏘카의 주주 구성과 지분율을 보여줍니다.'),\n",
       " Document(metadata={'company_name': '네이버', 'dir_route': 'datas/네이버_하나증권(2024.10.10)', 'file_name': '네이버_하나증권(2024.10.10).pdf', 'id': 45, 'investment': '하나증권(2024.10.10)', 'original_content': '주: 2Q21 왓패드 인수, 4Q21 이북재팬 인수, 4Q22 순매출>총매출 회계처리 변경 영향 자료: 네이버, 하나증권', 'page': 3, 'type': 'paragraph'}, page_content='네이버의 2021년 2분기 매출액은 전년동기 대비 30.4% 증가한 1조 6,635억원이며 영업이익은 8,362억원으로 전년동기 대비 16.2% 감소했다. 이는 21년 2분기에 있었던 왓패드와 이북 재팬 인수 및 22년 4분기부터 적용된 순매출 > 총매출 회계 처리 방식 변경 때문이다.'),\n",
       " Document(metadata={'id': 7, 'type': 'paragraph', 'dir_route': 'datas/네이버_교보증권(2024.11.11)', 'original_content': '매출 2.72조원(YoY +11.1%)로 컨센서스(2.62조원) 부합, 영익은 5,253억원(+38.2%) 기록 해 시장예상치(4,865억원) 상회. 서치플랫폼(YoY +11.0%) 중 DA는 피드 지면 확대 및 타 게팅 고도화로 +11.0%, SA는 플레이스광고 성장, 상품 개선 및 외부 매체 상품 확대로 +9.5% 성장. 커머스 매출(YoY +12.0%)은 중개/판매 중심 성장. 도착보장/브랜드솔루션 사용률 증가와 브랜드스토어 거래액 성장으로 On-Platform 거래액(+10.0%) 증가보다 중 개/판매 매출 크게(+24.6%) 증가. 핀테크 결제액은 외부결제(+37.7%), 주문/예약 및 현장 결제 확대 따른 오프라인(YoY +78%) 성장으로 18.6조원(+22.1%) 달성, 핀테크 매출 +13.0% 성장. 컨텐츠 매출은 유료 컨텐츠 및 광고 매출 증대로 웹툰 매출 4,240억원 (+11.6%, 동일환율 기준 +13.5%) 기록한 가운데 스노우(-46.5%, 네이버제트 제외 영향 제거시 YoY +9.0%)에서 네이버제트 연결 제외되며 +6.4%. 클라우드 매출은 라인웍스 유 료 ID수 확대, 뉴로클라우드 및 사우디 주택부 디지털트윈 매출 발생으로 YoY +17.0%.', 'file_name': '네이버_교보증권(2024.11.11).pdf', 'page': 1, 'investment': '교보증권(2024.11.11)', 'company_name': '네이버', 'image_route': nan, 'table': nan}, page_content='교보증권은 네이버의 3분기 실적 발표에서 매출 2.72조 원(YoY +11.1%), 영익 5,253억 원(+38.2%)을 기록하며 시장 예상치를 상회했다고 밝혔다. 특히, 이번 분기에는 콘텐츠 매출이 유료 콘텐츠 및 광고 매출 증대 등으로 인해 큰 폭으로 상승했으며, 클라우드 매출도 높은 성장세를 보였다.')]"
      ]
     },
     "execution_count": 16,
     "metadata": {},
     "output_type": "execute_result"
    }
   ],
   "source": [
    "ensemble_retriever.invoke(query, search_kwargs={'k':3})"
   ]
  },
  {
   "cell_type": "code",
   "execution_count": 18,
   "metadata": {},
   "outputs": [
    {
     "name": "stdout",
     "output_type": "stream",
     "text": [
      "acc: 0.7116\n"
     ]
    }
   ],
   "source": [
    "from evaluation import retrieval_evaluate\n",
    "import pandas as pd\n",
    "eval_dataset = pd.read_csv('datas/validation_dataset.csv')\n",
    "\n",
    "# retrieval과 evaldataset을 통해 acc를 평가해볼 수 있습니다.\n",
    "retrieval_evaluate(retrieval=DPRRetriever, eval_dataset = eval_dataset)"
   ]
  },
  {
   "cell_type": "code",
   "execution_count": null,
   "metadata": {},
   "outputs": [],
   "source": []
  }
 ],
 "metadata": {
  "kernelspec": {
   "display_name": "env",
   "language": "python",
   "name": "python3"
  },
  "language_info": {
   "codemirror_mode": {
    "name": "ipython",
    "version": 3
   },
   "file_extension": ".py",
   "mimetype": "text/x-python",
   "name": "python",
   "nbconvert_exporter": "python",
   "pygments_lexer": "ipython3",
   "version": "3.11.11"
  }
 },
 "nbformat": 4,
 "nbformat_minor": 2
}
