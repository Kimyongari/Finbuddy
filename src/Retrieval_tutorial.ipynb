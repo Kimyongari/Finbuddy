{
 "cells": [
  {
   "cell_type": "code",
   "execution_count": 1,
   "metadata": {},
   "outputs": [
    {
     "data": {
      "text/html": [
       "<div>\n",
       "<style scoped>\n",
       "    .dataframe tbody tr th:only-of-type {\n",
       "        vertical-align: middle;\n",
       "    }\n",
       "\n",
       "    .dataframe tbody tr th {\n",
       "        vertical-align: top;\n",
       "    }\n",
       "\n",
       "    .dataframe thead th {\n",
       "        text-align: right;\n",
       "    }\n",
       "</style>\n",
       "<table border=\"1\" class=\"dataframe\">\n",
       "  <thead>\n",
       "    <tr style=\"text-align: right;\">\n",
       "      <th></th>\n",
       "      <th>id</th>\n",
       "      <th>type</th>\n",
       "      <th>dir_route</th>\n",
       "      <th>original_content</th>\n",
       "      <th>file_name</th>\n",
       "      <th>page</th>\n",
       "      <th>investment</th>\n",
       "      <th>company_name</th>\n",
       "      <th>summary</th>\n",
       "      <th>image_route</th>\n",
       "      <th>table</th>\n",
       "    </tr>\n",
       "  </thead>\n",
       "  <tbody>\n",
       "    <tr>\n",
       "      <th>490</th>\n",
       "      <td>67</td>\n",
       "      <td>paragraph</td>\n",
       "      <td>datas/SK하이닉스_한화투자증권(2024.11.27)</td>\n",
       "      <td>당사는 산업에 대해 향후 1 년간 해당 업종의 수익률이 과거 수익률에 비해 양호한 ...</td>\n",
       "      <td>SK하이닉스_한화투자증권(2024.11.27).pdf</td>\n",
       "      <td>6</td>\n",
       "      <td>한화투자증권(2024.11.27)</td>\n",
       "      <td>SK하이닉스</td>\n",
       "      <td>당사는 앞으로 1년간 해당 업종의 수익률이 좋을 것으로 예상되면 Positive(긍...</td>\n",
       "      <td>NaN</td>\n",
       "      <td>NaN</td>\n",
       "    </tr>\n",
       "    <tr>\n",
       "      <th>433</th>\n",
       "      <td>159</td>\n",
       "      <td>figure</td>\n",
       "      <td>datas/카카오뱅크_삼성증권(2024.11.27)</td>\n",
       "      <td>NaN</td>\n",
       "      <td>카카오뱅크_삼성증권(2024.11.27).pdf</td>\n",
       "      <td>9</td>\n",
       "      <td>삼성증권(2024.11.27)</td>\n",
       "      <td>카카오뱅크</td>\n",
       "      <td>카카오뱅크의 2024년 DPS 예상치가 51.5%로 가장 높으며, 다른 은행들과 비...</td>\n",
       "      <td>datas/카카오뱅크_삼성증권(2024.11.27)/pag...</td>\n",
       "      <td>NaN</td>\n",
       "    </tr>\n",
       "    <tr>\n",
       "      <th>55</th>\n",
       "      <td>123</td>\n",
       "      <td>paragraph</td>\n",
       "      <td>datas/카카오뱅크_한국신용평가(2024.09.13)</td>\n",
       "      <td>이 러한 보수적인 유동성 관리 정책과 충성도 높은 수신기반을 고려하면 향후에도 규제...</td>\n",
       "      <td>카카오뱅크_한국신용평가(2024.09.13).pdf</td>\n",
       "      <td>8</td>\n",
       "      <td>한국신용평가(2024.09.13)</td>\n",
       "      <td>카카오뱅크</td>\n",
       "      <td>카카오뱅크는 현재까지 안정적인 유동성 관리와 충성도 높은 수신 기반을 갖추고 있으며...</td>\n",
       "      <td>NaN</td>\n",
       "      <td>NaN</td>\n",
       "    </tr>\n",
       "    <tr>\n",
       "      <th>675</th>\n",
       "      <td>3</td>\n",
       "      <td>paragraph</td>\n",
       "      <td>datas/크래프톤_삼성증권(2024.9.11)</td>\n",
       "      <td>오동환 Senior Analyst dh1.oh@samsung.com</td>\n",
       "      <td>크래프톤_삼성증권(2024.9.11).pdf</td>\n",
       "      <td>1</td>\n",
       "      <td>삼성증권(2024.9.11)</td>\n",
       "      <td>크래프톤</td>\n",
       "      <td>오동환 시니어 애널리스트는 '크래프톤'에 대한 분석 보고서를 발표했다. 이 보고서에...</td>\n",
       "      <td>NaN</td>\n",
       "      <td>NaN</td>\n",
       "    </tr>\n",
       "    <tr>\n",
       "      <th>569</th>\n",
       "      <td>45</td>\n",
       "      <td>figure</td>\n",
       "      <td>datas/크래프톤_유안타증권(2024.09.24)</td>\n",
       "      <td>NaN</td>\n",
       "      <td>크래프톤_유안타증권(2024.09.24).pdf</td>\n",
       "      <td>4</td>\n",
       "      <td>유안타증권(2024.09.24)</td>\n",
       "      <td>크래프톤</td>\n",
       "      <td>이 이미지는 2024년 9월 24일 기준으로 'BATTLEGROUNDS MOBILE...</td>\n",
       "      <td>datas/크래프톤_유안타증권(2024.09.24)/page...</td>\n",
       "      <td>NaN</td>\n",
       "    </tr>\n",
       "  </tbody>\n",
       "</table>\n",
       "</div>"
      ],
      "text/plain": [
       "      id       type                                        dir_route  \\\n",
       "490   67  paragraph    datas/SK하이닉스_한화투자증권(2024.11.27)   \n",
       "433  159     figure       datas/카카오뱅크_삼성증권(2024.11.27)   \n",
       "55   123  paragraph  datas/카카오뱅크_한국신용평가(2024.09.13)   \n",
       "675    3  paragraph          datas/크래프톤_삼성증권(2024.9.11)   \n",
       "569   45     figure        datas/크래프톤_유안타증권(2024.09.24)   \n",
       "\n",
       "                                      original_content  \\\n",
       "490  당사는 산업에 대해 향후 1 년간 해당 업종의 수익률이 과거 수익률에 비해 양호한 ...   \n",
       "433                                                NaN   \n",
       "55   이 러한 보수적인 유동성 관리 정책과 충성도 높은 수신기반을 고려하면 향후에도 규제...   \n",
       "675              오동환 Senior Analyst dh1.oh@samsung.com   \n",
       "569                                                NaN   \n",
       "\n",
       "                                         file_name  page  \\\n",
       "490    SK하이닉스_한화투자증권(2024.11.27).pdf     6   \n",
       "433       카카오뱅크_삼성증권(2024.11.27).pdf     9   \n",
       "55   카카오뱅크_한국신용평가(2024.09.13).pdf     8   \n",
       "675          크래프톤_삼성증권(2024.9.11).pdf     1   \n",
       "569        크래프톤_유안타증권(2024.09.24).pdf     4   \n",
       "\n",
       "                        investment company_name  \\\n",
       "490    한화투자증권(2024.11.27)  SK하이닉스   \n",
       "433       삼성증권(2024.11.27)  카카오뱅크   \n",
       "55   한국신용평가(2024.09.13)  카카오뱅크   \n",
       "675        삼성증권(2024.9.11)    크래프톤   \n",
       "569      유안타증권(2024.09.24)    크래프톤   \n",
       "\n",
       "                                               summary  \\\n",
       "490  당사는 앞으로 1년간 해당 업종의 수익률이 좋을 것으로 예상되면 Positive(긍...   \n",
       "433  카카오뱅크의 2024년 DPS 예상치가 51.5%로 가장 높으며, 다른 은행들과 비...   \n",
       "55   카카오뱅크는 현재까지 안정적인 유동성 관리와 충성도 높은 수신 기반을 갖추고 있으며...   \n",
       "675  오동환 시니어 애널리스트는 '크래프톤'에 대한 분석 보고서를 발표했다. 이 보고서에...   \n",
       "569  이 이미지는 2024년 9월 24일 기준으로 'BATTLEGROUNDS MOBILE...   \n",
       "\n",
       "                                           image_route table  \n",
       "490                                                NaN   NaN  \n",
       "433  datas/카카오뱅크_삼성증권(2024.11.27)/pag...   NaN  \n",
       "55                                                 NaN   NaN  \n",
       "675                                                NaN   NaN  \n",
       "569  datas/크래프톤_유안타증권(2024.09.24)/page...   NaN  "
      ]
     },
     "execution_count": 1,
     "metadata": {},
     "output_type": "execute_result"
    }
   ],
   "source": [
    "from DB.Chromadb import ChromaDB\n",
    "from langchain.schema import Document\n",
    "from glob import glob\n",
    "import os\n",
    "import pandas as pd\n",
    "\n",
    "\n",
    "BASE_DIR = 'datas' # 데이터가 저장돼 있는 루트를 의미합니다.\n",
    "csv_routes = glob(os.path.join(BASE_DIR, '*/*.csv'))\n",
    "df = pd.DataFrame()\n",
    "for route in csv_routes:\n",
    "    d = pd.read_csv(route)\n",
    "    df = pd.concat([df, d])\n",
    "df = df.reset_index(drop=True)\n",
    "\n",
    "df.sample(5)\n",
    "\n"
   ]
  },
  {
   "cell_type": "code",
   "execution_count": 2,
   "metadata": {},
   "outputs": [],
   "source": [
    "# 모든 문서를 Document라는 형태로 리스트에 저장합니다.\n",
    "# 정량평가를 위해서는 type이 paragraph인 문서들만 넣어야 하지만, 일단 전부 넣도록 합니다.\n",
    "def create_documents(df):\n",
    "    documents = []\n",
    "    for _, row in df.iterrows():\n",
    "        metadata = row.to_dict()\n",
    "        text = metadata.pop(\"summary\") \n",
    "        documents.append(Document(page_content=text, metadata=metadata))\n",
    "    return documents"
   ]
  },
  {
   "cell_type": "code",
   "execution_count": 3,
   "metadata": {},
   "outputs": [],
   "source": [
    "documents = create_documents(df[:200])"
   ]
  },
  {
   "cell_type": "code",
   "execution_count": 4,
   "metadata": {},
   "outputs": [
    {
     "data": {
      "text/plain": [
       "[Document(metadata={'id': 5, 'type': 'paragraph', 'dir_route': 'datas/카카오뱅크_한국신용평가(2024.09.13)', 'original_content': '김경근 선임애널리스트 02-787-2383 kyungkeun.kim@kisrating.com', 'file_name': '카카오뱅크_한국신용평가(2024.09.13).pdf', 'page': 1, 'investment': '한국신용평가(2024.09.13)', 'company_name': '카카오뱅크', 'image_route': nan, 'table': nan}, page_content='김경근 선임애널리스트가 쓴 카카오뱅크 관련 한국신용평가 리포트 입니다.'),\n",
       " Document(metadata={'id': 6, 'type': 'paragraph', 'dir_route': 'datas/카카오뱅크_한국신용평가(2024.09.13)', 'original_content': '위 지원 실장 02-787-2279 geewon.wee@kisrating.com', 'file_name': '카카오뱅크_한국신용평가(2024.09.13).pdf', 'page': 1, 'investment': '한국신용평가(2024.09.13)', 'company_name': '카카오뱅크', 'image_route': nan, 'table': nan}, page_content='위 지원 실장, ***-***-****, g*********@*********.***으로 연락 가능한 한국신용평가에서 카카오뱅크에 대한 리포트를 발표함.'),\n",
       " Document(metadata={'id': 10, 'type': 'figure', 'dir_route': 'datas/카카오뱅크_한국신용평가(2024.09.13)', 'original_content': nan, 'file_name': '카카오뱅크_한국신용평가(2024.09.13).pdf', 'page': 1, 'investment': '한국신용평가(2024.09.13)', 'company_name': '카카오뱅크', 'image_route': 'datas/카카오뱅크_한국신용평가(2024.09.13)/page_1_id_10_image.png', 'table': nan}, page_content='카카오는 2021년부터 2024년까지의 발행자 등급 변동 추이를 보여주는 그래프입니다. AA+ 등급이 지속적으로 유지되고 있음을 나타냅니다.'),\n",
       " Document(metadata={'id': 11, 'type': 'table', 'dir_route': 'datas/카카오뱅크_한국신용평가(2024.09.13)', 'original_content': nan, 'file_name': '카카오뱅크_한국신용평가(2024.09.13).pdf', 'page': 1, 'investment': '한국신용평가(2024.09.13)', 'company_name': '카카오뱅크', 'image_route': 'datas/카카오뱅크_한국신용평가(2024.09.13)/page_1_id_11_image.png', 'table': '| 유사시 계열 지원가능성 |   +   |   0   |   -   |\\n|---------------------|-------|-------|-------|'}, page_content='이 테이블은 카카오뱅크의 유사시 계열 지원 가능성을 나타내며, 각 항목에 대한 지원 여부를 표시하고 있습니다.'),\n",
       " Document(metadata={'id': 13, 'type': 'table', 'dir_route': 'datas/카카오뱅크_한국신용평가(2024.09.13)', 'original_content': nan, 'file_name': '카카오뱅크_한국신용평가(2024.09.13).pdf', 'page': 1, 'investment': '한국신용평가(2024.09.13)', 'company_name': '카카오뱅크', 'image_route': 'datas/카카오뱅크_한국신용평가(2024.09.13)/page_1_id_13_image.png', 'table': '| 평가 개요   | 평가대상      | 종류 | 현재등급       | 직전등급       | Rating Action | 비교         |\\n|--------------|---------------|------|----------------|----------------|---------------|--------------|\\n| Issuer Rating | 본            | AA+/안정적 | AA+/안정적 | 유지           | 원화 및 외화 |'}, page_content='이 테이블은 카카오뱅크의 신용 평가 정보를 요약하고 있으며, 현재 등급과 직전 등급, 평가 대상 및 관련 정보를 포함하고 있습니다.')]"
      ]
     },
     "execution_count": 4,
     "metadata": {},
     "output_type": "execute_result"
    }
   ],
   "source": [
    "\n",
    "documents[:5]\n"
   ]
  },
  {
   "cell_type": "code",
   "execution_count": 5,
   "metadata": {},
   "outputs": [],
   "source": [
    "# add_docs를 통해 문서들을 저장합니다.\n",
    "\n",
    "collection_name = 'chrdb.db'\n",
    "DB = ChromaDB(BASE_DIR, collection_name)\n",
    "DB.add_docs(documents)\n",
    "\n"
   ]
  },
  {
   "cell_type": "code",
   "execution_count": 6,
   "metadata": {},
   "outputs": [
    {
     "name": "stdout",
     "output_type": "stream",
     "text": [
      "Total documents in collection 'chrdb.db': 200\n"
     ]
    }
   ],
   "source": [
    "# verify_db를 통해 db내의 데이터 수를 확인할 수 있고, db객체를 받을 수 있습니다.\n",
    "db = DB.verify_db()\n"
   ]
  },
  {
   "cell_type": "code",
   "execution_count": 7,
   "metadata": {},
   "outputs": [],
   "source": [
    "# 위처럼 import하여 kiwi tokenizer을 사용하는 bm25와 dpr을 생성할 수 있습니다.\n",
    "from retrievals import bm25, dpr\n",
    "DPRretirever = dpr(db, topk = 3)\n",
    "BM25Retriever = bm25(documents, topk = 3)\n"
   ]
  },
  {
   "cell_type": "code",
   "execution_count": 12,
   "metadata": {},
   "outputs": [
    {
     "data": {
      "text/plain": [
       "[Document(metadata={'company_name': '네이버', 'dir_route': 'datas/네이버_SK증권(2024.11.18)', 'file_name': '네이버_SK증권(2024.11.18).pdf', 'id': 57, 'image_route': 'datas/네이버_SK증권(2024.11.18)/page_4_id_57_image.png', 'investment': 'SK증권(2024.11.18)', 'page': 4, 'table': '| 항목                     | 2022   | 2023   | 2024E  | 2025E  | 2026E  |\\n|------------------------|--------|--------|--------|--------|--------|\\n| 매출액                  | 8,220  | 9,671  | 10,621 | 11,524 | 12,571 |\\n| 매출원가                | 0      | 0      | 0      | 0      | 0      |\\n| 매출총이익              | 8,220  | 9,671  | 10,621 | 11,524 | 12,571 |\\n| 매출총이익률            | 100.0  | 100.0  | 100.0  | 100.0  | 100.0  |\\n| 판매비와 관리비 영업이익 | 6,915  | 8,182  | 8,652  | 9,156  | 9,869  |\\n| 영업이익률              | 1,305  | 1,489  | 1,969  | 2,369  | 2,702  |\\n| 비영업손익              | -221   | -7     | 393    | 123    | 205    |\\n| 순금융손익              | -13    | -26    | 161    | 175    | 191    |\\n| 외환관련손익            | -79    | -43    | 0      | 0      | 0      |\\n| 관계기업 투자손익      | 97     | 267    | 175    | 192    | 220    |\\n| 세전계속사업이익        | 1,084  | 1,481  | 2,362  | 2,492  | 2,908  |\\n| 세전계속사업이익률      | 13.2   | 15.3   | 22.2   | 21.6   | 23.1   |\\n| 계속사업법인세          | 411    | 496    | 486    | 528    | 617    |\\n| 계속사업이익            | 673    | 985    | 1,876  | 1,963  | 2,291  |\\n| 중단사업이익            | 0      | 0      | 0      | 0      | 0      |\\n| *법인세효과             | 0      | 0      | 0      | 0      | 0      |\\n| 당기순이익              | 673    | 985    | 1,876  | 1,963  | 2,291  |\\n| 순이익률                | 8.2    | 10.2   | 17.7   | 17.0   | 18.2   |\\n| 지배주주지분            | 760    | 1,012  | 1,819  | 1,927  | 2,249  |\\n| 지배주주귀속순이익률    | 9.2    | 10.5   | 17.1   | 16.7   | 17.9   |\\n| 비지배주주              | -87    | -27    | 57     | 36     | 42     |\\n| 총포괄이익              | -715   | 724    | 1,397  | 1,963  | 2,291  |\\n| 지배주주                | -681   | 749    | 1,433  | 2,130  | 2,486  |\\n| 비지배주주              | -34    | -24    | -36    | -167   | -195   |\\n| EBITDA                 | 1,866  | 2,071  | 2,660  | 3,162  | 3,491  |', 'type': 'table'}, page_content='이 테이블은 네이버의 2022년부터 2026년까지의 손익계산서를 나타내며, 매출, 영업이익, 순이익 등 주요 재무 지표를 포함하고 있습니다.'),\n",
       " Document(metadata={'company_name': '네이버', 'dir_route': 'datas/네이버_SK증권(2024.11.18)', 'file_name': '네이버_SK증권(2024.11.18).pdf', 'id': 20, 'image_route': 'datas/네이버_SK증권(2024.11.18)/page_1_id_20_image.png', 'investment': 'SK증권(2024.11.18)', 'page': 1, 'table': '| 구분               | 단위     | 2021   | 2022   | 2023   | 2024E  | 2025E  | 2026E  |\\n|--------------------|----------|--------|--------|--------|--------|--------|--------|\\n| 매출액             | 십억원   | 6,818  | 8,220  | 9,671  | 10,621 | 11,524 | 12,571 |\\n| 영업이익           | 십억원   | 1,325  | 1,305  | 1,489  | 1,969  | 2,369  | 2,702  |\\n| 순이익(지배주주)   | 십억원   | 16,490 | 7,760  | 1,012  | 1,819  | 1,927  | 2,249  |\\n| EPS                | 원      | 9,082  | 4,634  | 6,233  | 11,478 | 12,165 | 14,195 |\\n| PER                | 배      | 41.7   | 38.3   | 35.9   | 15.3   | 14.5   | 12.4   |\\n| PBR                | 배      | 2.5    | 1.2    | 1.5    | 1.1    | 1.0    | 1.0    |\\n| EV/EBITDA          | 배      | 35.8   | 16.1   | 18.0   | 10.7   | 8.6    | 7.7    |\\n| ROE                | %       | 106.7  | 3.3    | 4.4    | 7.6    | 7.6    | 8.2    |', 'type': 'table'}, page_content='이 표는 네이버의 2021년부터 2026년까지의 영업 실적 및 투자 지표를 나타내며, 매출액, 영업이익, 순이익, EPS, PER, PBR, EV/EBITDA, ROE 등의 데이터를 포함하고 있습니다.'),\n",
       " Document(metadata={'company_name': '네이버', 'dir_route': 'datas/네이버_SK증권(2024.11.18)', 'file_name': '네이버_SK증권(2024.11.18).pdf', 'id': 52, 'image_route': 'datas/네이버_SK증권(2024.11.18)/page_4_id_52_image.png', 'investment': 'SK증권(2024.11.18)', 'page': 4, 'table': '| 재무상태표         | 2022      | 2023      | 2024E     | 2025E     | 2026E     |\\n|------------------|-----------|-----------|-----------|-----------|-----------|\\n| 유동자산          |           |           |           |           |           |\\n| 현금및현금성자산  | 6,640     | 7,028     | 9,703     | 11,104    | 12,094    |\\n| 매출채권 및 기타채권 | 2,724     | 3,576     | 4,322     | 5,287     | 5,749     |\\n| 재고자산          | 1,515     | 1,706     | 1,902     | 2,076     | 2,286     |\\n| 재무자산          | 9         | 15        | 22        | 24        | 26        |\\n| 비유동자산        | 27,459    | 28,710    | 25,335    | 25,851    | 27,486    |\\n| 장기금융자산      | 3,803     | 3,642     | 3,199     | 3,202     | 3,207     |\\n| 유형자산          | 2,458     | 2,742     | 2,880     | 2,792     | 2,959     |\\n| 무형자산          | 1,481     | 3,446     | 3,520     | 3,464     | 3,409     |\\n| 자산총계          | 33,899    | 35,738    | 35,036    | 36,956    | 39,580    |\\n| 유동부채          | 5,481     | 6,306     | 3,975     | 4,266     | 4,616     |\\n| 단기금융부채      | 1,575     | 1,011     | 1,103     | 1,236     | 1,326     |\\n| 매입채무 및 기타채무 | 899       | 1,313     | 1,391     | 1,518     | 1,672     |\\n| 비유동부채        | 4,968     | 5,194     | 5,029     | 4,884     | 5,086     |\\n| 장기금융부채      | 2,622     | 3,168     | 3,122     | 2,810     | 2,810     |\\n| 장기매입채무 및 기타채무 | 80        | 103       | 79        | 79        | 79        |\\n| 부채총계          | 10,449    | 11,500    | 9,003     | 9,150     | 9,703     |\\n| 지배주주지분      | 22,744    | 23,206    | 24,585    | 26,322    | 28,351    |\\n| 자본금            | 16        | 16        | 16        | 16        | 16        |\\n| 기타잉여금        | 1,556     | 1,243     | 1,388     | 1,388     | 1,388     |\\n| 자본조정사항      | -840      | -607      | -585      | -585      | -585      |\\n| 자기주식          | -1,017    | -853      | -853      | -853      | -853      |\\n| 비지배주주지분    | 23,646    | 24,544    | 26,243    | 27,890    | 30,009    |\\n| 자본총계          | 23,450    | 24,238    | 26,032    | 27,805    | 29,876    |\\n| 부채자본총계      | 33,899    | 35,738    | 35,036    | 36,956    | 39,580    |', 'type': 'table'}, page_content='이 테이블은 네이버의 2022년부터 2026년까지의 재무상태를 나타내며, 유동자산, 비유동자산, 부채 및 자본 항목의 변화를 보여줍니다.')]"
      ]
     },
     "execution_count": 12,
     "metadata": {},
     "output_type": "execute_result"
    }
   ],
   "source": [
    "query = '네이버의 2024년 매출을 알려줘.'\n",
    "DPRretirever.invoke(query)"
   ]
  },
  {
   "cell_type": "code",
   "execution_count": 13,
   "metadata": {},
   "outputs": [
    {
     "data": {
      "text/plain": [
       "[Document(metadata={'id': 54, 'type': 'table', 'dir_route': 'datas/네이버_SK증권(2024.11.18)', 'original_content': nan, 'file_name': '네이버_SK증권(2024.11.18).pdf', 'page': 4, 'investment': 'SK증권(2024.11.18)', 'company_name': '네이버', 'image_route': 'datas/네이버_SK증권(2024.11.18)/page_4_id_54_image.png', 'table': '| 항목                     | 2022    | 2023    | 2024E   | 2025E   | 2026E   |\\n|------------------------|---------|---------|---------|---------|---------|\\n| **영업활동현금흐름**       |         |         |         |         |         |\\n| 당기순이익(손실)          | 1,453   | 2,002   | 499     | 2,943   | 3,302   |\\n| 비현금성항목목록          | 1,318   | 1,327   | 1,432   | 1,151   | 1,218   |\\n| 유형자산감가상각비        | 519     | 528     | 640     | 738     | 733     |\\n| 무형자산상각비            | 42      | 54      | 51      | 56      | 55      |\\n| 기타                     | 757     | 745     | 741     | 357     | 430     |\\n| **투자활동현금흐름**       |         |         |         |         |         |\\n| 유전자본감소(증가)        | 307     | 360     | -2,406  | 182     | 219     |\\n| 매출채권및재고자산(증가)  | -56     | 43      | -18     | -174    | -210    |\\n| 재고자산(증가)            | 17      | -2      | 0       | -2      | -2      |\\n| 매입채무및재고자산(증가)  | 133     | 347     | -287    | 127     | 153     |\\n| 기타                     | -1,706  | -1,352  | -966    | -882    | -1,042  |\\n| 법인세납부                | -861    | -682    | -563    | -528    | -671    |\\n| **재무활동현금흐름**       |         |         |         |         |         |\\n| 단기금융부채의증가(감소)  | -219    | -371    | 315     | 101     | 12      |\\n| 장기금융부채의증가(감소)  | -173    | 191     | -323    | -312    | 0       |\\n| 자본의증가(감소)          | 66      | -314    | 146     | 0       | 0       |\\n| 배당금지급                | -213    | -62     | -119    | -191    | -220    |\\n| 기타                     | 199     | 446     | 165     | 0       | 0       |\\n| **현금의 증가(감소)**      | -57     | 852     | 746     | 964     | 463     |\\n| 기초현금                  | 2,781   | 2,724   | 3,576   | 4,322   | 5,287   |\\n| 기말현금                  | 2,724   | 3,576   | 4,322   | 5,287   | 5,749   |\\n| FCF                      | 765     | 1,369   | -481    | 2,293   | 2,402   |'}, page_content='이 표는 네이버의 2022년부터 2026년까지의 현금흐름을 나타내며, 영업활동, 투자활동, 재무활동의 현금흐름을 상세히 보여줍니다.'),\n",
       " Document(metadata={'id': 33, 'type': 'figure', 'dir_route': 'datas/네이버_SK증권(2024.11.18)', 'original_content': nan, 'file_name': '네이버_SK증권(2024.11.18).pdf', 'page': 3, 'investment': 'SK증권(2024.11.18)', 'company_name': '네이버', 'image_route': 'datas/네이버_SK증권(2024.11.18)/page_3_id_33_image.png', 'table': nan}, page_content='네이버의 AI 라인업을 보여주는 그래프이며, 2023년부터 2024년까지의 다양한 AI 프로젝트와 제품들이 나열되어 있다. 각 프로젝트는 HyperCLOVA, CUE, CLova 등으로 구분되어 있다.'),\n",
       " Document(metadata={'id': 13, 'type': 'table', 'dir_route': 'datas/네이버_SK증권(2024.11.18)', 'original_content': nan, 'file_name': '네이버_SK증권(2024.11.18).pdf', 'page': 1, 'investment': 'SK증권(2024.11.18)', 'company_name': '네이버', 'image_route': 'datas/네이버_SK증권(2024.11.18)/page_1_id_13_image.png', 'table': '| Stock Data         |        |\\n|--------------------|--------|\\n| 주가(24/11/11)     | 176,000 원 |\\n| KOSPI              | 2,531.66 pt |\\n| 52주 최고가       | 231,500 원 |\\n| 52주 최저가       | 155,000 원 |\\n| 60일 평균 거래대금 | 126 십억원  |'}, page_content='이 테이블은 네이버의 주식 데이터로, 특정 날짜의 주가, KOSPI 지수, 52주 최고 및 최저가, 60일 평균 거래대금을 나타냅니다.')]"
      ]
     },
     "execution_count": 13,
     "metadata": {},
     "output_type": "execute_result"
    }
   ],
   "source": [
    "BM25Retriever.invoke(query)"
   ]
  },
  {
   "cell_type": "code",
   "execution_count": null,
   "metadata": {},
   "outputs": [],
   "source": []
  }
 ],
 "metadata": {
  "kernelspec": {
   "display_name": "hackerthon",
   "language": "python",
   "name": "python3"
  },
  "language_info": {
   "codemirror_mode": {
    "name": "ipython",
    "version": 3
   },
   "file_extension": ".py",
   "mimetype": "text/x-python",
   "name": "python",
   "nbconvert_exporter": "python",
   "pygments_lexer": "ipython3",
   "version": "3.13.1"
  }
 },
 "nbformat": 4,
 "nbformat_minor": 2
}
