{
 "cells": [
  {
   "cell_type": "code",
   "execution_count": 1,
   "metadata": {},
   "outputs": [
    {
     "name": "stderr",
     "output_type": "stream",
     "text": [
      "/opt/conda/lib/python3.10/site-packages/tqdm/auto.py:21: TqdmWarning: IProgress not found. Please update jupyter and ipywidgets. See https://ipywidgets.readthedocs.io/en/stable/user_install.html\n",
      "  from .autonotebook import tqdm as notebook_tqdm\n"
     ]
    },
    {
     "data": {
      "text/html": [
       "<div>\n",
       "<style scoped>\n",
       "    .dataframe tbody tr th:only-of-type {\n",
       "        vertical-align: middle;\n",
       "    }\n",
       "\n",
       "    .dataframe tbody tr th {\n",
       "        vertical-align: top;\n",
       "    }\n",
       "\n",
       "    .dataframe thead th {\n",
       "        text-align: right;\n",
       "    }\n",
       "</style>\n",
       "<table border=\"1\" class=\"dataframe\">\n",
       "  <thead>\n",
       "    <tr style=\"text-align: right;\">\n",
       "      <th></th>\n",
       "      <th>id</th>\n",
       "      <th>type</th>\n",
       "      <th>image_route</th>\n",
       "      <th>dir_route</th>\n",
       "      <th>file_name</th>\n",
       "      <th>page</th>\n",
       "      <th>investment</th>\n",
       "      <th>company_name</th>\n",
       "      <th>summary</th>\n",
       "      <th>table</th>\n",
       "      <th>original_content</th>\n",
       "    </tr>\n",
       "  </thead>\n",
       "  <tbody>\n",
       "    <tr>\n",
       "      <th>5</th>\n",
       "      <td>12</td>\n",
       "      <td>paragraph</td>\n",
       "      <td>NaN</td>\n",
       "      <td>datas/SK하이닉스_교보증권(2024.10.25)</td>\n",
       "      <td>SK하이닉스_교보증권(2024.10.25).pdf</td>\n",
       "      <td>1</td>\n",
       "      <td>교보증권(2024.10.25)</td>\n",
       "      <td>SK하이닉스</td>\n",
       "      <td>SK하이닉스는 3Q24에 17.57조 원의 매출액과 7.03조 원의 영업이익을 기록...</td>\n",
       "      <td>NaN</td>\n",
       "      <td>SK하이닉스의 3Q24 17.57조원(YoY +94%, QoQ +7%), 영업이익은...</td>\n",
       "    </tr>\n",
       "    <tr>\n",
       "      <th>6</th>\n",
       "      <td>15</td>\n",
       "      <td>paragraph</td>\n",
       "      <td>NaN</td>\n",
       "      <td>datas/SK하이닉스_교보증권(2024.10.25)</td>\n",
       "      <td>SK하이닉스_교보증권(2024.10.25).pdf</td>\n",
       "      <td>1</td>\n",
       "      <td>교보증권(2024.10.25)</td>\n",
       "      <td>SK하이닉스</td>\n",
       "      <td>SK하이닉스 4분기 매출액 19.9조원 (YoY+76%, QoQ+13%), 영업이익...</td>\n",
       "      <td>NaN</td>\n",
       "      <td>4Q24 매출액 19.9조원(YoY+76%, QoQ+13%), 영업이익 8.3조원(...</td>\n",
       "    </tr>\n",
       "    <tr>\n",
       "      <th>7</th>\n",
       "      <td>17</td>\n",
       "      <td>paragraph</td>\n",
       "      <td>NaN</td>\n",
       "      <td>datas/SK하이닉스_교보증권(2024.10.25)</td>\n",
       "      <td>SK하이닉스_교보증권(2024.10.25).pdf</td>\n",
       "      <td>1</td>\n",
       "      <td>교보증권(2024.10.25)</td>\n",
       "      <td>SK하이닉스</td>\n",
       "      <td>SK하이닉스는 HBM과 eSSD 등 프리미엄 제품의 높은 시장 지배력을 바탕으로 2...</td>\n",
       "      <td>NaN</td>\n",
       "      <td>시장 불확실성속에서도 HBM과 eSSD등 프리미엄 제품의 견고한 시장 지배력이 돋 ...</td>\n",
       "    </tr>\n",
       "  </tbody>\n",
       "</table>\n",
       "</div>"
      ],
      "text/plain": [
       "   id       type image_route                                 dir_route  \\\n",
       "5  12  paragraph         NaN  datas/SK하이닉스_교보증권(2024.10.25)   \n",
       "6  15  paragraph         NaN  datas/SK하이닉스_교보증권(2024.10.25)   \n",
       "7  17  paragraph         NaN  datas/SK하이닉스_교보증권(2024.10.25)   \n",
       "\n",
       "                                file_name  page              investment  \\\n",
       "5  SK하이닉스_교보증권(2024.10.25).pdf     1  교보증권(2024.10.25)   \n",
       "6  SK하이닉스_교보증권(2024.10.25).pdf     1  교보증권(2024.10.25)   \n",
       "7  SK하이닉스_교보증권(2024.10.25).pdf     1  교보증권(2024.10.25)   \n",
       "\n",
       "  company_name                                            summary table  \\\n",
       "5  SK하이닉스  SK하이닉스는 3Q24에 17.57조 원의 매출액과 7.03조 원의 영업이익을 기록...   NaN   \n",
       "6  SK하이닉스  SK하이닉스 4분기 매출액 19.9조원 (YoY+76%, QoQ+13%), 영업이익...   NaN   \n",
       "7  SK하이닉스  SK하이닉스는 HBM과 eSSD 등 프리미엄 제품의 높은 시장 지배력을 바탕으로 2...   NaN   \n",
       "\n",
       "                                    original_content  \n",
       "5  SK하이닉스의 3Q24 17.57조원(YoY +94%, QoQ +7%), 영업이익은...  \n",
       "6  4Q24 매출액 19.9조원(YoY+76%, QoQ+13%), 영업이익 8.3조원(...  \n",
       "7  시장 불확실성속에서도 HBM과 eSSD등 프리미엄 제품의 견고한 시장 지배력이 돋 ...  "
      ]
     },
     "execution_count": 1,
     "metadata": {},
     "output_type": "execute_result"
    }
   ],
   "source": [
    "import sys\n",
    "import os\n",
    "\n",
    "# 현재 작업 디렉토리를 프로젝트 루트 디렉토리로 설정\n",
    "\n",
    "project_root = os.getcwd()\n",
    "sys.path.append(project_root + '/modules')\n",
    "\n",
    "from DB.chromadb_storing import ChromaDB\n",
    "from langchain.schema import Document\n",
    "from modules.utils import get_only_paragraphs, get_all_datas, create_documents\n",
    "BASE_DIR = './modules/datas' # 데이터가 저장돼 있는 루트를 의미합니다.\n",
    "\n",
    "df = get_only_paragraphs(BASE_DIR)\n",
    "# df = get_all_datas(BASE_DIR) # 이미지와 테이블이 포함된 전체 데이터도 가져올 수 있습니다.\n",
    "df[:3]\n"
   ]
  },
  {
   "cell_type": "code",
   "execution_count": null,
   "metadata": {},
   "outputs": [
    {
     "data": {
      "text/plain": [
       "[Document(metadata={'id': 5, 'type': 'paragraph', 'image_route': nan, 'dir_route': 'datas/SK케미칼_DB금융투자(2023.11.20)', 'file_name': 'SK케미칼_DB금융투자(2023.11.20).pdf', 'page': 1, 'investment': 'DB금융투자(2023.11.20)', 'company_name': 'SK케미칼', 'table': nan, 'original_content': 'Eastman과 글로벌 Copolyester 시장 양분: Copolyester는 PET에 CHDM 원료를 사용해 만든 투 명 플라스틱으로 내화학성/내충격성/가공성이 뛰어나기에 PC/PMMA/PVC를 대체 가능하며 환경호 르몬(BPA), 발암물질(SM)을 사용하지 않기에 소비재 브랜드들의 선호도가 높다. Copolyester 시장은 Eastman과 SK케미칼의 과점체제이며 과점 시장의 특성상 두 회사 모두 정확한 생산능력 및 판매 량을 공유하지 않는다. Copolyester가 각광받는 분야는 화장품 및 패키징 분야로 화장품 부문 매출 비중이 30%를 상회하는 것으로 추정된다. 주목할 것은 수익성인데 전반적인 화학 불황에도 불구 23년 SK케미칼의 Copoly/유화 영업이익률은 12%, Eastman 전사 영업이익률은 12%로 견고하다.'}, page_content='SK케미칼은 투명 플라스틱인 Copolyester 시장에서 Eastman과 함께 과점 체제를 구축하고 있으며, 특히 화장품 및 패키징 분야에서 높은 인기를 얻고 있다. 이러한 제품들은 환경호르몬이나 발암물질을 사용하지 않아 소비재 브랜드들에게 선호되고 있으며, 23년에는 전체적인 화학 불황에도 불구하고 견조한 영업 이익률을 유지했다.'),\n",
       " Document(metadata={'id': 7, 'type': 'paragraph', 'image_route': nan, 'dir_route': 'datas/SK케미칼_DB금융투자(2023.11.20)', 'file_name': 'SK케미칼_DB금융투자(2023.11.20).pdf', 'page': 1, 'investment': 'DB금융투자(2023.11.20)', 'company_name': 'SK케미칼', 'table': nan, 'original_content': '세계 최초 화학적 재활용 copolyester 상업화, 24년 본격 판매 비중 확대: SK케미칼은 21년 중국 해중합 업체 Shuye 지분을 인수한 이후 copolyester에 r-BHET를 적용하여 세계 최초로 재활용 r- Copolyester 상용화를 시작했으며 23년 Shuye 자산을 최종 취득했다. 이후 SK Shantou를 설립했 으며 이미 상업화 생산능력 기준 r-BHET 7만톤, C-rPET 5만톤을 보유하고 있다. 상업화 이후 r- Copolyester 판매 비중이 1% 수준이었으나 23년 5% 수준까지 상승했으며 25년까지 50% 달성 목 표를 제시하고 있다. 공격적인 판매 목표가 달성되어 비중이 50%까지 상승할 경우 단순 계산으로 도 Copolyester mixed ASP가 5~10% 가까이 상승할 수 있기에 수익성이 크게 제고될 수 있다.'}, page_content='SK케미칼은 세계 최초로 화학적 재활용 코폴리에스터 상업화를 시작했고, 2024년부터 본격적으로 판매 비중을 확대할 계획이다. 현재 이 제품의 판매 비중은 1%이지만 2025년까지 50% 이상으로 높일 예정이며, 이를 통해 코폴리에스터 혼합 평균판매가격(ASP)이 5~10% 상승하며 수익성이 개선될 것으로 예상된다.'),\n",
       " Document(metadata={'id': 8, 'type': 'paragraph', 'image_route': nan, 'dir_route': 'datas/SK케미칼_DB금융투자(2023.11.20)', 'file_name': 'SK케미칼_DB금융투자(2023.11.20).pdf', 'page': 1, 'investment': 'DB금융투자(2023.11.20)', 'company_name': 'SK케미칼', 'table': nan, 'original_content': '미국 화학적 재활용 26E PSR 2.0배, Copoly/유화 사업부 저평가: 화학적재활용 스타트업인 퓨어 사이클(시총 $1.5억)/루프인더스트리(시총 $6.9억)는 모두 26E PSR 2.0배로 성장 기대감이 반영되 고 있다. 당사가 추정하는 SK케미칼 Copoly/유화 26E 매출액은 8,491억원, 영업이익 1,518억원으 로 그 중 r-Copoly 매출액은 2,921억원이다. 동일한 기준이라면 r-Copoly만 약 6,000억원 가치다.'}, page_content='미국 화학적 재활용 업체들의 26E PSR 2.0배 대비 SK케미칼 Copoly/유화 사업부는 저평가되어 있으며,  당사가 추정하는 해당 사업부의 26E 매출액은 8,491억원, 영업이익 1,518억원이며, 이 중 r-Copoly 매출액은 2,921억원으로 이를 기반으로 계산하면 r-Copoly 가치는 약 6,000억원임')]"
      ]
     },
     "execution_count": 2,
     "metadata": {},
     "output_type": "execute_result"
    }
   ],
   "source": [
    "# 데이터프레임의 행들을 각각 Document타입으로 바꾼 뒤, 리스트에 담습니다.\n",
    "documents = create_documents(df)\n",
    "documents[:3]"
   ]
  },
  {
   "cell_type": "code",
   "execution_count": null,
   "metadata": {},
   "outputs": [],
   "source": [
    "# add_docs를 통해 문서들을 저장합니다.\n",
    "\n",
    "collection_name = 'chrdb.db'\n",
    "persist_directory = 'DB'\n",
    "DB = ChromaDB(collection_name, persist_directory, mode = 'OpenAI_Emb')\n",
    "#                   [가능한 모델]\n",
    "                #   1. NaverCloudEmb\n",
    "                #   2. KF_DebertaEmb\n",
    "                #   3. Kure_Emb - 공개된 모델이 아님 (Access키 필요)\n",
    "                #   4. OpenAI_Emb\n",
    "DB.create_and_add(documents,)\n",
    "\n"
   ]
  },
  {
   "cell_type": "code",
   "execution_count": null,
   "metadata": {},
   "outputs": [],
   "source": [
    "# verify_db를 통해 db내의 데이터 수를 확인할 수 있고, db객체를 받을 수 있습니다.\n",
    "db = DB.verify_db()"
   ]
  },
  {
   "cell_type": "code",
   "execution_count": 3,
   "metadata": {},
   "outputs": [
    {
     "name": "stdout",
     "output_type": "stream",
     "text": [
      "Collection 'chrdb.db' loaded from 'DB/DB_NaverCloudEmb'.\n"
     ]
    },
    {
     "name": "stderr",
     "output_type": "stream",
     "text": [
      "/data/ephemeral/home/practicing/src/DB/chromadb_storing.py:105: LangChainDeprecationWarning: The class `Chroma` was deprecated in LangChain 0.2.9 and will be removed in 1.0. An updated version of the class exists in the :class:`~langchain-chroma package and should be used instead. To use it run `pip install -U :class:`~langchain-chroma` and import as `from :class:`~langchain_chroma import Chroma``.\n",
      "  self.db = Chroma(\n"
     ]
    },
    {
     "data": {
      "text/plain": [
       "<langchain_community.vectorstores.chroma.Chroma at 0x7f16694ee620>"
      ]
     },
     "execution_count": 3,
     "metadata": {},
     "output_type": "execute_result"
    }
   ],
   "source": [
    "# 데이터 로드\n",
    "collection_name = 'chrdb.db'\n",
    "persist_directory = 'DB'\n",
    "DB = ChromaDB(collection_name, persist_directory,mode = 'NaverCloudEmb')\n",
    "\n",
    "DB.load_collection()"
   ]
  },
  {
   "cell_type": "code",
   "execution_count": 4,
   "metadata": {},
   "outputs": [
    {
     "name": "stdout",
     "output_type": "stream",
     "text": [
      "Total documents in collection 'chrdb.db': 388\n"
     ]
    }
   ],
   "source": [
    "# verify_db를 통해 db내의 데이터 수를 확인할 수 있고, db객체를 받을 수 있습니다.\n",
    "db = DB.verify_db()"
   ]
  },
  {
   "cell_type": "code",
   "execution_count": 7,
   "metadata": {},
   "outputs": [],
   "source": [
    "import sqlite3\n",
    "def inspect_sqlite_db(db_path):\n",
    "    \"\"\"\n",
    "    Inspect the structure and contents of an SQLite3 database.\n",
    "    \n",
    "    :param db_path: Path to the SQLite3 database file.\n",
    "    \"\"\"\n",
    "    try:\n",
    "        # 데이터베이스 연결\n",
    "        conn = sqlite3.connect(db_path)\n",
    "        cursor = conn.cursor()\n",
    "\n",
    "        # 모든 테이블 이름 가져오기\n",
    "        cursor.execute(\"SELECT name FROM sqlite_master WHERE type='table';\")\n",
    "        tables = cursor.fetchall()\n",
    "        print(\"Tables in the database:\")\n",
    "        for table in tables:\n",
    "            print(f\"- {table[0]}\")\n",
    "\n",
    "        # 각 테이블의 스키마와 데이터를 확인\n",
    "        for table in tables:\n",
    "            table_name = table[0]\n",
    "            print(f\"\\nSchema for table '{table_name}':\")\n",
    "            cursor.execute(f\"PRAGMA table_info({table_name});\")\n",
    "            schema = cursor.fetchall()\n",
    "            for column in schema:\n",
    "                print(column)\n",
    "\n",
    "            print(f\"\\nData in table '{table_name}':\")\n",
    "            cursor.execute(f\"SELECT * FROM {table_name} LIMIT 5;\")\n",
    "            rows = cursor.fetchall()\n",
    "            for row in rows:\n",
    "                print(row)\n",
    "\n",
    "        # 연결 종료\n",
    "        conn.close()\n",
    "    except sqlite3.Error as e:\n",
    "        print(f\"SQLite error: {e}\")"
   ]
  },
  {
   "cell_type": "code",
   "execution_count": null,
   "metadata": {},
   "outputs": [],
   "source": [
    "db_path = 'datas/'  # SQLite3 파일 경로\n",
    "inspect_sqlite_db(db_path)"
   ]
  },
  {
   "cell_type": "code",
   "execution_count": 5,
   "metadata": {},
   "outputs": [],
   "source": [
    "# 위처럼 import하여 kiwi tokenizer을 사용하는 bm25와 dpr, 앙상블 리트리버를 생성할 수 있습니다.\n",
    "from retrievals import bm25, dpr, ensemble, llm_retriever\n",
    "\n",
    "topk = 3\n",
    "\n",
    "DPRRetriever = dpr(db, topk = 3)\n",
    "BM25Retriever = bm25(documents, topk = 3)\n",
    "\n",
    "retrievals = [DPRRetriever, BM25Retriever]\n",
    "weights = [0.5, 0.5]\n",
    "search_type = 'mmr'\n",
    "ensemble_retriever = ensemble(retrievals, topk = topk, weights = weights, search_type = search_type)\n",
    "\n",
    "llm_retriever = llm_retriever(documents, db, topk1= 10)\n",
    "\n"
   ]
  },
  {
   "cell_type": "code",
   "execution_count": null,
   "metadata": {},
   "outputs": [],
   "source": [
    "# 다음과 같이 retriever.invoke(query)를 통해 관련 문서를 검색할 수 있습니다.\n",
    "query = '네이버의 2024년 매출을 알려줘.'\n",
    "\n",
    "DPRRetriever.invoke(query)"
   ]
  },
  {
   "cell_type": "code",
   "execution_count": null,
   "metadata": {},
   "outputs": [],
   "source": [
    "BM25Retriever.invoke(query)"
   ]
  },
  {
   "cell_type": "code",
   "execution_count": null,
   "metadata": {},
   "outputs": [],
   "source": [
    "# 어째서인지 Ensemble retrieval은 topk가 먹질 않습니다.. ㅋㅋ\n",
    "ensemble_retriever.invoke(query)"
   ]
  },
  {
   "cell_type": "code",
   "execution_count": null,
   "metadata": {},
   "outputs": [],
   "source": [
    "llm_retriever.invoke('네이버의 2024년 매출을 알려줘')"
   ]
  },
  {
   "cell_type": "code",
   "execution_count": 14,
   "metadata": {},
   "outputs": [],
   "source": [
    "idx = list(map(int, result.content.split(', ')))\n",
    "selected_docs = [docs[i] for i in idx]"
   ]
  },
  {
   "cell_type": "code",
   "execution_count": null,
   "metadata": {},
   "outputs": [],
   "source": [
    "from evaluation import retrieval_evaluate\n",
    "import pandas as pd\n",
    "eval_dataset = pd.read_csv('datas/validation_dataset.csv')\n",
    "\n",
    "# retrieval과 evaldataset을 통해 acc를 평가해볼 수 있습니다.\n",
    "retrieval_evaluate(retrieval=DPRRetriever, eval_dataset = eval_dataset)"
   ]
  },
  {
   "cell_type": "code",
   "execution_count": null,
   "metadata": {},
   "outputs": [],
   "source": [
    "selected_docs"
   ]
  },
  {
   "cell_type": "code",
   "execution_count": null,
   "metadata": {},
   "outputs": [],
   "source": []
  }
 ],
 "metadata": {
  "kernelspec": {
   "display_name": "base",
   "language": "python",
   "name": "python3"
  },
  "language_info": {
   "codemirror_mode": {
    "name": "ipython",
    "version": 3
   },
   "file_extension": ".py",
   "mimetype": "text/x-python",
   "name": "python",
   "nbconvert_exporter": "python",
   "pygments_lexer": "ipython3",
   "version": "3.10.13"
  }
 },
 "nbformat": 4,
 "nbformat_minor": 2
}
