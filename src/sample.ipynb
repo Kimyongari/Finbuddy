{
 "cells": [
  {
   "cell_type": "code",
   "execution_count": 1,
   "metadata": {},
   "outputs": [],
   "source": [
    "from glob import glob\n",
    "import os\n",
    "\n",
    "from pdf_parsing.upstage_parser import parsing\n",
    "from pdf_parsing.make_md_and_summaries import make_md"
   ]
  },
  {
   "cell_type": "code",
   "execution_count": 2,
   "metadata": {},
   "outputs": [
    {
     "name": "stdout",
     "output_type": "stream",
     "text": [
      "pdfs/SK하이닉스_교보증권(2024.10.25).pdf\n",
      "pdfs/SK케미칼_DB금융투자(2023.11.20).pdf\n",
      "pdfs/크래프톤_유안타증권(2024.09.24).pdf\n",
      "pdfs/카카오뱅크_한국신용평가(2024.09.13).pdf\n",
      "pdfs/크래프톤_미래에셋증권(2024.05.09).pdf\n",
      "\n",
      "\n",
      "target data : pdfs/SK케미칼_DB금융투자(2023.11.20).pdf\n"
     ]
    }
   ],
   "source": [
    "\n",
    "data_routes = glob('pdfs/*')\n",
    "for i in range(5):\n",
    "    print(data_routes[i])\n",
    "route = data_routes[1] # 예시로 pdf문서 한개를 parsing 후 데이터를 추출합니다.\n",
    "print('\\n')\n",
    "print('target data :', route)"
   ]
  },
  {
   "cell_type": "code",
   "execution_count": 3,
   "metadata": {},
   "outputs": [
    {
     "name": "stdout",
     "output_type": "stream",
     "text": [
      "SK케미칼_DB금융투자(2023.11.20).pdf 파싱 성공!\n"
     ]
    }
   ],
   "source": [
    "BASE_DIR = 'datas' # 결과물을 저장할 폴더를 지정합니다.\n",
    "\n",
    "result = parsing(BASE_DIR, route) # route는 parsing할 pdf의 경로입니다.\n",
    "# 이미 parsing한 json파일이 있는 경우, 기존 결과물을 불러와 summaries를 만듭니다.\n",
    "summaries = make_md(BASE_DIR, route, result['elements'])\n",
    "\n"
   ]
  },
  {
   "cell_type": "code",
   "execution_count": 4,
   "metadata": {},
   "outputs": [
    {
     "data": {
      "text/plain": [
       "[{'id': 0,\n",
       "  'type': 'figure',\n",
       "  'image_route': 'datas/SK케미칼_DB금융투자(2023.11.20)/page_1_id_0_image.png',\n",
       "  'dir_route': 'datas/SK케미칼_DB금융투자(2023.11.20)',\n",
       "  'file_name': 'SK케미칼_DB금융투자(2023.11.20).pdf',\n",
       "  'page': 1,\n",
       "  'investment': 'DB금융투자(2023.11.20)',\n",
       "  'company_name': 'SK케미칼',\n",
       "  'summary': '# SK케미칼 DB금융투자 리포트 요약\\n\\n이 이미지는 SK케미칼의 지속 가능한 에너지 및 전기차 관련 기술을 강조합니다. 배터리, 태양광 패널, 전기차 충전소의 시각적 요소가 포함되어 있으며, \"BUY(신규)\"라는 투자 권고가 나타납니다. 이는 SK케미칼의 성장 가능성을 나타내는 긍정적인 신호로 해석됩니다.'},\n",
       " {'id': 3,\n",
       "  'type': 'table',\n",
       "  'image_route': 'datas/SK케미칼_DB금융투자(2023.11.20)/page_1_id_3_image.png',\n",
       "  'dir_route': 'datas/SK케미칼_DB금융투자(2023.11.20)',\n",
       "  'file_name': 'SK케미칼_DB금융투자(2023.11.20).pdf',\n",
       "  'page': 1,\n",
       "  'investment': 'DB금융투자(2023.11.20)',\n",
       "  'company_name': 'SK케미칼',\n",
       "  'table': '| 항목               | 내용          |\\n|------------------|--------------|\\n| 목표주가(신규)      | 85,000원     |\\n| 현재주가(11/16)     | 63,200원     |\\n| Up/Downside      | +34.5%       |\\n| 투자 의견(신규)     | Buy          |',\n",
       "  'summary': '\\n\\n이 테이블은 SK케미칼의 신규 목표주가와 현재주가, 예상 상승률, 투자 의견을 요약한 것입니다. 목표주가는 85,000원으로 설정되었으며, 현재주가는 63,200원으로, 상승 여력이 34.5%로 평가되고 있습니다. 이 리포트는 투자증권에서 작성되었습니다.'},\n",
       " {'id': 5,\n",
       "  'type': 'paragraph',\n",
       "  'dir_route': 'datas/SK케미칼_DB금융투자(2023.11.20)',\n",
       "  'original_content': \"<p id='5' data-category='paragraph' style='font-size:16px'>Eastman과 글로벌 Copolyester 시장 양분: Copolyester는 PET에 CHDM 원료를 사용해 만든 투<br>명 플라스틱으로 내화학성/내충격성/가공성이 뛰어나기에 PC/PMMA/PVC를 대체 가능하며 환경호<br>르몬(BPA), 발암물질(SM)을 사용하지 않기에 소비재 브랜드들의 선호도가 높다. Copolyester 시장은<br>Eastman과 SK케미칼의 과점체제이며 과점 시장의 특성상 두 회사 모두 정확한 생산능력 및 판매<br>량을 공유하지 않는다. Copolyester가 각광받는 분야는 화장품 및 패키징 분야로 화장품 부문 매출<br>비중이 30%를 상회하는 것으로 추정된다. 주목할 것은 수익성인데 전반적인 화학 불황에도 불구<br>23년 SK케미칼의 Copoly/유화 영업이익률은 12%, Eastman 전사 영업이익률은 12%로 견고하다.</p>\",\n",
       "  'file_name': 'SK케미칼_DB금융투자(2023.11.20).pdf',\n",
       "  'page': 1,\n",
       "  'investment': 'DB금융투자(2023.11.20)',\n",
       "  'company_name': 'SK케미칼',\n",
       "  'summary': \"글에 대한 요약 (200자 이내)\\n\\nSK케미칼은 투명 플라스틱인 Copolyester 시장에서 Eastman과 함께 글로벌 시장을 양분하고 있으며, 이 제품은 내화학성/내충격성/가공성이 뛰어나고 환경호르몬과 발암물질을 사용하지 않아 소비재 브랜드들의 선호도가 높다. 특히 화장품 및 패키징 분야에서 각광받고 있으며, 23년 기준 동사와 Eastman의 Copoly/유화 영업이익률은 각각 12%로 견고하다. \\n\\n- 참조 : DB금융투자(2023.11.20) 'SKC 목표주가 하향, Industry 소재 사업부 매각 영향' 보고서\"}]"
      ]
     },
     "execution_count": 4,
     "metadata": {},
     "output_type": "execute_result"
    }
   ],
   "source": [
    "summaries[:3]\n",
    "# 아래처럼 type별로 정보를 담아 return합니다.\n",
    "# table의 경우 table이 추가로 담깁니다.\n",
    "# element의 내용들은 pdf의 이름.md 형태로 저장됩니다.\n",
    "# summaries는 pdf의 이름.csv로 저잘됩니다.\n"
   ]
  },
  {
   "cell_type": "code",
   "execution_count": 1,
   "metadata": {},
   "outputs": [
    {
     "ename": "KeyError",
     "evalue": "'HyperclovaX_API_KEY'",
     "output_type": "error",
     "traceback": [
      "\u001b[0;31m---------------------------------------------------------------------------\u001b[0m",
      "\u001b[0;31mKeyError\u001b[0m                                  Traceback (most recent call last)",
      "Cell \u001b[0;32mIn[1], line 3\u001b[0m\n\u001b[1;32m      1\u001b[0m \u001b[38;5;28;01mfrom\u001b[39;00m\u001b[38;5;250m \u001b[39m\u001b[38;5;21;01membedding_models\u001b[39;00m\u001b[38;5;21;01m.\u001b[39;00m\u001b[38;5;21;01mnavercloud_embedding\u001b[39;00m\u001b[38;5;250m \u001b[39m\u001b[38;5;28;01mimport\u001b[39;00m get_text_embedding\n\u001b[1;32m      2\u001b[0m test_text \u001b[38;5;241m=\u001b[39m \u001b[38;5;124m'\u001b[39m\u001b[38;5;124m안녕하세요. 나는 용가리입니다.\u001b[39m\u001b[38;5;124m'\u001b[39m\n\u001b[0;32m----> 3\u001b[0m embedding_vectors \u001b[38;5;241m=\u001b[39m \u001b[43mget_text_embedding\u001b[49m\u001b[43m(\u001b[49m\u001b[43mtest_text\u001b[49m\u001b[43m)\u001b[49m\n",
      "File \u001b[0;32m~/level4-nlp-finalproject-hackathon-nlp-09-lv3/embedding_models/navercloud_embedding.py:17\u001b[0m, in \u001b[0;36mget_text_embedding\u001b[0;34m(text)\u001b[0m\n\u001b[1;32m     15\u001b[0m \u001b[38;5;66;03m# 환경 변수에서 API 키 가져오기\u001b[39;00m\n\u001b[1;32m     16\u001b[0m host \u001b[38;5;241m=\u001b[39m \u001b[38;5;124m'\u001b[39m\u001b[38;5;124mclovastudio.apigw.ntruss.com\u001b[39m\u001b[38;5;124m'\u001b[39m\n\u001b[0;32m---> 17\u001b[0m api_key \u001b[38;5;241m=\u001b[39m \u001b[43mos\u001b[49m\u001b[38;5;241;43m.\u001b[39;49m\u001b[43menviron\u001b[49m\u001b[43m[\u001b[49m\u001b[38;5;124;43m'\u001b[39;49m\u001b[38;5;124;43mHyperclovaX_API_KEY\u001b[39;49m\u001b[38;5;124;43m'\u001b[39;49m\u001b[43m]\u001b[49m\n\u001b[1;32m     18\u001b[0m api_key_primary_val \u001b[38;5;241m=\u001b[39m os\u001b[38;5;241m.\u001b[39menviron[\u001b[38;5;124m'\u001b[39m\u001b[38;5;124mHyperclovaX_PRIVATE_KEY\u001b[39m\u001b[38;5;124m'\u001b[39m]\n\u001b[1;32m     19\u001b[0m request_id \u001b[38;5;241m=\u001b[39m \u001b[38;5;124m'\u001b[39m\u001b[38;5;124m8c4abff05a38493aac0cb39a43adf8be\u001b[39m\u001b[38;5;124m'\u001b[39m\n",
      "File \u001b[0;32m<frozen os>:716\u001b[0m, in \u001b[0;36m__getitem__\u001b[0;34m(self, key)\u001b[0m\n",
      "\u001b[0;31mKeyError\u001b[0m: 'HyperclovaX_API_KEY'"
     ]
    }
   ],
   "source": [
    "from embedding_models.navercloud_embedding import get_text_embedding\n",
    "test_text = '안녕하세요. 저는 용가리입니다.'\n",
    "embedding_vectors = get_text_embedding(test_text)\n"
   ]
  },
  {
   "cell_type": "code",
   "execution_count": null,
   "metadata": {},
   "outputs": [],
   "source": []
  }
 ],
 "metadata": {
  "kernelspec": {
   "display_name": "hackerthon",
   "language": "python",
   "name": "python3"
  },
  "language_info": {
   "codemirror_mode": {
    "name": "ipython",
    "version": 3
   },
   "file_extension": ".py",
   "mimetype": "text/x-python",
   "name": "python",
   "nbconvert_exporter": "python",
   "pygments_lexer": "ipython3",
   "version": "3.13.1"
  }
 },
 "nbformat": 4,
 "nbformat_minor": 2
}
