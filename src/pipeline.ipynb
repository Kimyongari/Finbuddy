{
 "cells": [
  {
   "cell_type": "code",
   "execution_count": 1,
   "metadata": {},
   "outputs": [
    {
     "name": "stderr",
     "output_type": "stream",
     "text": [
      "/opt/conda/lib/python3.10/site-packages/tqdm/auto.py:21: TqdmWarning: IProgress not found. Please update jupyter and ipywidgets. See https://ipywidgets.readthedocs.io/en/stable/user_install.html\n",
      "  from .autonotebook import tqdm as notebook_tqdm\n"
     ]
    },
    {
     "name": "stdout",
     "output_type": "stream",
     "text": [
      "🦥 Unsloth: Will patch your computer to enable 2x faster free finetuning.\n",
      "🦥 Unsloth Zoo will now patch everything to make training faster!\n",
      "생성된 DB가 있어 로드합니다.\n"
     ]
    },
    {
     "name": "stderr",
     "output_type": "stream",
     "text": [
      "/data/ephemeral/home/level4-nlp-finalproject-hackathon-nlp-09-lv3/src/modules/DB/chromadb_storing.py:127: LangChainDeprecationWarning: The class `Chroma` was deprecated in LangChain 0.2.9 and will be removed in 1.0. An updated version of the class exists in the :class:`~langchain-chroma package and should be used instead. To use it run `pip install -U :class:`~langchain-chroma` and import as `from :class:`~langchain_chroma import Chroma``.\n",
      "  self.db = Chroma(\n"
     ]
    },
    {
     "name": "stdout",
     "output_type": "stream",
     "text": [
      "Collection 'chrdb.db' loaded from 'modules/DB/Eval_DB_NaverCloudEmb'.\n",
      "Total documents in collection 'chrdb.db': 388\n"
     ]
    }
   ],
   "source": [
    "import os\n",
    "import sys\n",
    "project_root = os.getcwd()\n",
    "sys.path.append(project_root + '/modules')\n",
    "# Pipeline의 구조를 이해하기 쉽게 하기 위해 작성한 ipynb 파일입니다\n",
    "from modules.Pipeline import pipe_eval\n",
    "pipe = pipe_eval(verbose = True) # verbose를 False로 하면 print가 되지 않습니다.\n",
    "# collection_name = 'chrdb.db',\n",
    "# persist_directory = 'DB',\n",
    "# mode = 'NaverCloudEmb'\n",
    "# topk = 5\n",
    "# verbose = True : answer과 score을 보여줍니다. 보고싶지 않다면 False로 하면 됩니다.\n",
    "# default로 지정돼 있습니다. 클래스 선언 때 건네주면 바뀝니다.\n",
    "pipe.setup(model = 'HyperClova')\n",
    "#                   가능한 모델 (default GPT)\n",
    "#                   1. GPT\n",
    "#                   2. Exaone\n",
    "#                   3. Qwen14B\n",
    "#                   4. Qwen32B\n",
    "#                   5. HyperClova"
   ]
  },
  {
   "cell_type": "code",
   "execution_count": 9,
   "metadata": {},
   "outputs": [
    {
     "name": "stdout",
     "output_type": "stream",
     "text": [
      "page_content='한화솔루션의 4분기 영업이익은 184억원으로 시장 기대치인 745억원보다 낮을 것으로 예상된다. 이는 기초소재 사업의 부진 때문이며, 태양광 사업에서는 흑자 전환이 기대된다. 특히 미국 인플레이션 감축법(IRA) 시행으로 인한 세액공제 혜택으로 태양광 모듈 판매량 증가와 발전사업 매출액 상승이 예상된다.' metadata={'company_name': '한화솔루션', 'dir_route': 'datas/한화솔루션_삼성증권(2024.10.30)', 'file_name': '한화솔루션_삼성증권(2024.10.30).pdf', 'id': 21, 'investment': '삼성증권(2024.10.30)', 'original_content': '4Q24 preview, 컨센서스 하회: 4Q 영업이익은 -184억원(+626억원QoQ)으로 컨센서스(745 억원, Fnguide) 하회 지속 예상되는데, 이는 기초소재 부진(영업이익 -321억원)에 기인. 태 양광 매출 및 영업이익은 각각 2.01조원(+75%QoQ) 및 116억원(흑자 전환QoQ; OPM +0.6%) 예상. 태양광 영업이익은 모듈 제조사업 -1,741억원(+193억원QoQ; OPM -20.7%), 발전사업 272억원(-12%QoQ; OPM +2.3%) 및 IRA AMPC 1,585억원(+30%QoQ)으로 구성 예상. 태양광 모듈 판매량은 전분기 이연 물량을 포함하여 크게 회복 전망(+58%QoQ vs 3Q24: Flat QoQ). 발전사업 매출도 일부 프로젝트 지연분 반영으로 급증 예상(1.17조원; +103%QoQ).', 'page': 1, 'type': 'paragraph'}\n",
      "page_content='한화솔루션의 2024년 3분기 실적은 매출액 3.9조 원으로 전 분기 대비 6% 감소하였고 영업이익은 2,804억 원으로 전 분기 대비 23% 감소하였다. 이는 원재료 가격 상승 및 중국 수요 부진 등 대외 환경 악화 영향이다.' metadata={'company_name': '한화솔루션', 'dir_route': 'datas/한화솔루션_삼성증권(2024.10.30)', 'file_name': '한화솔루션_삼성증권(2024.10.30).pdf', 'id': 69, 'investment': '삼성증권(2024.10.30)', 'original_content': '참고: * 일회성 수익(비용) 제외 ** 완전 희석, 일회성 수익(비용) 제외', 'page': 6, 'type': 'paragraph'}\n",
      "page_content='한화솔루션, 2024년 케미칼과 태양광 사업 모두 부진 예상되나 태양광 분야에서는 느린 회복세 전망' metadata={'company_name': '한화솔루션', 'dir_route': 'datas/한화솔루션_메리츠증권(2024.10.31)', 'file_name': '한화솔루션_메리츠증권(2024.10.31).pdf', 'id': 9, 'investment': '메리츠증권(2024.10.31)', 'original_content': '2024년 케미칼과 태양광 부진의 이중고. 태양광은 느리지만 회복은 될 점', 'page': 1, 'type': 'paragraph'}\n"
     ]
    }
   ],
   "source": [
    "# query = 'SK하이닉스의 2025~2027년 주주환원 정책에서 변경된 고정배당금과 추가 배당금의 활용 방안은 무엇인가요?'\n",
    "# query = 'NAVER의 분기별 실적 추이 및 전망에 대하여 알려줘'\n",
    "query = '한화솔루션의 태양광 부문에서 2024년 3분기와 4분기 판매량 감소의 주요 원인은 무엇인가요?'\n",
    "# query = '로스데렌탈의 업종지수에 대한 비중확대, 중립, 비중축소의 기준은 무엇인가요?'\n",
    "# validation데이터셋의 첫번째 question\n",
    "retrieval_result = pipe.Q(query, mode = 'ensemble')\n",
    "# bm25, dpr, ensemble 가능 (default 'ensemble')\n"
   ]
  },
  {
   "cell_type": "code",
   "execution_count": 3,
   "metadata": {},
   "outputs": [],
   "source": [
    "# print(retrieval_result[1].metadata['table'])"
   ]
  },
  {
   "cell_type": "code",
   "execution_count": 10,
   "metadata": {},
   "outputs": [
    {
     "name": "stdout",
     "output_type": "stream",
     "text": [
      "\n",
      "다음 참고 문서를 반드시 활용하여 질문에 대한 명확하고 신뢰할 수 있는 답변을 작성하세요.\n",
      "\n",
      "답변은 500자 이내로 작성하세요.\n",
      "질문과 직접적으로 관련된 정보를 제공하세요.\n",
      "사실적으로 정확한 정보만 포함하세요.\n",
      "질문에 적절한 세부 정보를 포함하되, 명확하고 간결하게 작성하세요.\n",
      "출처를 반드시 명시하세요.\n",
      "\n",
      "질문: 한화솔루션의 태양광 부문에서 2024년 3분기와 4분기 판매량 감소의 주요 원인은 무엇인가요?\n",
      "참고 문서: 한화솔루션_삼성증권(2024.10.30).pdf: 4Q24 preview, 컨센서스 하회: 4Q 영업이익은 -184억원(+626억원QoQ)으로 컨센서스(745 억원, Fnguide) 하회 지속 예상되는데, 이는 기초소재 부진(영업이익 -321억원)에 기인. 태 양광 매출 및 영업이익은 각각 2.01조원(+75%QoQ) 및 116억원(흑자 전환QoQ; OPM +0.6%) 예상. 태양광 영업이익은 모듈 제조사업 -1,741억원(+193억원QoQ; OPM -20.7%), 발전사업 272억원(-12%QoQ; OPM +2.3%) 및 IRA AMPC 1,585억원(+30%QoQ)으로 구성 예상. 태양광 모듈 판매량은 전분기 이연 물량을 포함하여 크게 회복 전망(+58%QoQ vs 3Q24: Flat QoQ). 발전사업 매출도 일부 프로젝트 지연분 반영으로 급증 예상(1.17조원; +103%QoQ).\n",
      "한화솔루션_삼성증권(2024.10.30).pdf: 참고: * 일회성 수익(비용) 제외 ** 완전 희석, 일회성 수익(비용) 제외\n",
      "한화솔루션_메리츠증권(2024.10.31).pdf: 2024년 케미칼과 태양광 부진의 이중고. 태양광은 느리지만 회복은 될 점\"\n",
      "정답:\n",
      "한화솔루션의 태양광 부문에서 2024년 3분기와 4분기 판매량 감소의 주요 원인은 몇 가지로 분석됩니다. 첫째, 태양광 모듈 제조사업의 영업이익이 크게 감소하여 (-1,741억원) 전체적인 매출에 부정적인 영향을 미쳤습니다. 둘째, 발전사업에서도 일부 프로젝트의 지연이 발생하여 매출 증가가 예상되었으나, 이는 특정 분기에만 해당되는 일시적인 효과로 보입니다. 이러한 상황은 전반적인 기초소재 부진과 맞물려 영업이익이 -184억원에 이를 것으로 전망되고 있습니다. 결국, 태양광 부문은 이연된 물량과 프로젝트 지연이라는 이중적인 요인으로 어려움을 겪고 있습니다. (출처: 한화솔루션_삼성증권, 2024.10.30)\n"
     ]
    }
   ],
   "source": [
    "answer = pipe.A(query, retrieval_result)\n",
    "# query 와 retrieval 결과를 받아 answer을 냅니다.\n"
   ]
  },
  {
   "cell_type": "code",
   "execution_count": 5,
   "metadata": {},
   "outputs": [
    {
     "data": {
      "text/plain": [
       "296"
      ]
     },
     "execution_count": 5,
     "metadata": {},
     "output_type": "execute_result"
    }
   ],
   "source": [
    "len(answer)"
   ]
  },
  {
   "cell_type": "code",
   "execution_count": 11,
   "metadata": {},
   "outputs": [
    {
     "name": "stdout",
     "output_type": "stream",
     "text": [
      "page_content='한화솔루션의 4분기 영업이익은 184억원으로 시장 기대치인 745억원보다 낮을 것으로 예상된다. 이는 기초소재 사업의 부진 때문이며, 태양광 사업에서는 흑자 전환이 기대된다. 특히 미국 인플레이션 감축법(IRA) 시행으로 인한 세액공제 혜택으로 태양광 모듈 판매량 증가와 발전사업 매출액 상승이 예상된다.' metadata={'company_name': '한화솔루션', 'dir_route': 'datas/한화솔루션_삼성증권(2024.10.30)', 'file_name': '한화솔루션_삼성증권(2024.10.30).pdf', 'id': 21, 'investment': '삼성증권(2024.10.30)', 'original_content': '4Q24 preview, 컨센서스 하회: 4Q 영업이익은 -184억원(+626억원QoQ)으로 컨센서스(745 억원, Fnguide) 하회 지속 예상되는데, 이는 기초소재 부진(영업이익 -321억원)에 기인. 태 양광 매출 및 영업이익은 각각 2.01조원(+75%QoQ) 및 116억원(흑자 전환QoQ; OPM +0.6%) 예상. 태양광 영업이익은 모듈 제조사업 -1,741억원(+193억원QoQ; OPM -20.7%), 발전사업 272억원(-12%QoQ; OPM +2.3%) 및 IRA AMPC 1,585억원(+30%QoQ)으로 구성 예상. 태양광 모듈 판매량은 전분기 이연 물량을 포함하여 크게 회복 전망(+58%QoQ vs 3Q24: Flat QoQ). 발전사업 매출도 일부 프로젝트 지연분 반영으로 급증 예상(1.17조원; +103%QoQ).', 'page': 1, 'type': 'paragraph'}\n",
      "page_content='한화솔루션의 2024년 3분기 실적은 매출액 3.9조 원으로 전 분기 대비 6% 감소하였고 영업이익은 2,804억 원으로 전 분기 대비 23% 감소하였다. 이는 원재료 가격 상승 및 중국 수요 부진 등 대외 환경 악화 영향이다.' metadata={'company_name': '한화솔루션', 'dir_route': 'datas/한화솔루션_삼성증권(2024.10.30)', 'file_name': '한화솔루션_삼성증권(2024.10.30).pdf', 'id': 69, 'investment': '삼성증권(2024.10.30)', 'original_content': '참고: * 일회성 수익(비용) 제외 ** 완전 희석, 일회성 수익(비용) 제외', 'page': 6, 'type': 'paragraph'}\n",
      "page_content='한화솔루션, 2024년 케미칼과 태양광 사업 모두 부진 예상되나 태양광 분야에서는 느린 회복세 전망' metadata={'company_name': '한화솔루션', 'dir_route': 'datas/한화솔루션_메리츠증권(2024.10.31)', 'file_name': '한화솔루션_메리츠증권(2024.10.31).pdf', 'id': 9, 'investment': '메리츠증권(2024.10.31)', 'original_content': '2024년 케미칼과 태양광 부진의 이중고. 태양광은 느리지만 회복은 될 점', 'page': 1, 'type': 'paragraph'}\n",
      "\n",
      "다음 참고 문서를 반드시 활용하여 질문에 대한 명확하고 신뢰할 수 있는 답변을 작성하세요.\n",
      "\n",
      "답변은 500자 이내로 작성하세요.\n",
      "질문과 직접적으로 관련된 정보를 제공하세요.\n",
      "사실적으로 정확한 정보만 포함하세요.\n",
      "질문에 적절한 세부 정보를 포함하되, 명확하고 간결하게 작성하세요.\n",
      "출처를 반드시 명시하세요.\n",
      "\n",
      "질문: 한화솔루션의 태양광 부문에서 2024년 3분기와 4분기 판매량 감소의 주요 원인은 무엇인가요?\n",
      "참고 문서: 한화솔루션_삼성증권(2024.10.30).pdf: 4Q24 preview, 컨센서스 하회: 4Q 영업이익은 -184억원(+626억원QoQ)으로 컨센서스(745 억원, Fnguide) 하회 지속 예상되는데, 이는 기초소재 부진(영업이익 -321억원)에 기인. 태 양광 매출 및 영업이익은 각각 2.01조원(+75%QoQ) 및 116억원(흑자 전환QoQ; OPM +0.6%) 예상. 태양광 영업이익은 모듈 제조사업 -1,741억원(+193억원QoQ; OPM -20.7%), 발전사업 272억원(-12%QoQ; OPM +2.3%) 및 IRA AMPC 1,585억원(+30%QoQ)으로 구성 예상. 태양광 모듈 판매량은 전분기 이연 물량을 포함하여 크게 회복 전망(+58%QoQ vs 3Q24: Flat QoQ). 발전사업 매출도 일부 프로젝트 지연분 반영으로 급증 예상(1.17조원; +103%QoQ).\n",
      "한화솔루션_삼성증권(2024.10.30).pdf: 참고: * 일회성 수익(비용) 제외 ** 완전 희석, 일회성 수익(비용) 제외\n",
      "한화솔루션_메리츠증권(2024.10.31).pdf: 2024년 케미칼과 태양광 부진의 이중고. 태양광은 느리지만 회복은 될 점\"\n",
      "정답:\n",
      "한화솔루션의 태양광 부문에서 2024년 3분기와 4분기 판매량 감소의 주요 원인은 여러 요인으로 분석됩니다. 3분기의 경우, 태양광 모듈 판매량은 전분기 이연 물량을 포함하여 회복세를 보였으나, 4분기에는 기초소재 부진으로 인한 영업이익 감소가 예상됩니다. 특히 모듈 제조사업에서 영업이익이 -1,741억원으로 크게 적자로 전환될 것으로 보이며, 이는 판매량 감소에 직접적인 영향을 미칩니다. 또한, 발전사업의 경우 프로젝트 지연으로 인한 매출 증가가 예상되지만, 전반적인 태양광 부문의 성장은 제한적일 것으로 보입니다(출처: 한화솔루션 삼성증권, 2024.10.30).\n"
     ]
    }
   ],
   "source": [
    "answer = pipe.QA(query, mode = 'ensemble')\n",
    "# QA를 따로 내는 것이 아니라 한번에 정답을 얻을 수도 있습니다. 이후 정량평가에서는 QA를 사용하면 됩니다."
   ]
  },
  {
   "cell_type": "code",
   "execution_count": 7,
   "metadata": {},
   "outputs": [
    {
     "data": {
      "text/plain": [
       "330"
      ]
     },
     "execution_count": 7,
     "metadata": {},
     "output_type": "execute_result"
    }
   ],
   "source": [
    "len(answer)"
   ]
  },
  {
   "cell_type": "code",
   "execution_count": 12,
   "metadata": {},
   "outputs": [
    {
     "name": "stdout",
     "output_type": "stream",
     "text": [
      "page_content='크래프톤은 1분기 영업이익 3,105억 원을 기록하며 당사 추정치를 44.5% 상회했고, 펍지 기반 매출 증가율에 대한 우호적 가정을 추가하여 2024년 매출액을 기존 대비 11.0% 상향 조정하였으며, 반면 같은 해 영업이익은 전년 대비 3.4% 증가한 수준으로 조정되었다.' metadata={'company_name': '크래프톤', 'dir_route': 'datas/크래프톤_키움증권(2024.05.09)', 'file_name': '크래프톤_키움증권(2024.05.09).pdf', 'id': 20, 'investment': '키움증권(2024.05.09)', 'original_content': '동사는 펍지 기반 유저 트래픽과 BM 강화 지속을 기반으로 1분기 영업이익 3,105억원을 기록하면서 당사 추정치를 44.5% 상회했다. 이에 펍지 기반 매출 증가율에 대한 우호적 가정을 추가하여 24E 매출액을 기존 대비 11.0% 상향 조정하였다. 다만 개발 관련 인건비 및 지급수수료 증가와 작년 주식보상비용 기저효과, 신작 관련 마케팅비 추가 반영 등을 고려하여 24E 영업이익은 기존 대비 3.4% 증가 수준으로 조정했다. 펍지 기반 매출 베이스가 높아짐에 따라 연간 매출의 지속 성장을 담보하기 위한 펍지 IP 역할 및 무게감이 이전 대비 더욱 커지게 되었으며, 라이브 게임의 경우 일반적으로 경쟁사의 신작 출시에 따른 유저 이탈을 방어해야 하는 수성 입장을 고려할 때 연간 탄력적인 증가를 지속 기대하는 것은 어려울 수 있음을 당사는 고려하고 있다.', 'page': 1, 'type': 'paragraph'}\n",
      "page_content='크래프톤의 2024년 실적 전망 조정으로 목표주가를 34만원에서 37만원으로 상향했다. 현재 24F P/E 17배에서 거래 중이며, PC와 모바일 모두에서 높은 트래픽이 유지되고 있어 2분기 이후에도 PUBG 매출 호조에 따른 서프라이즈 가능성이 높다. 하반기에는 다크앤다커 M 정식 출시, 쿠키런 인도 퍼블리싱, 인조이 소프트 런칭 등 다양한 신작 모멘텀이 예상된다.' metadata={'company_name': '크래프톤', 'dir_route': 'datas/크래프톤_미래에셋증권(2024.05.09)', 'file_name': '크래프톤_미래에셋증권(2024.05.09).pdf', 'id': 12, 'investment': '미래에셋증권(2024.05.09)', 'original_content': '24F 실적 전망 조정으로 목표주가를 기존 340,000원에서 370,000원으로 9% 상 향한다. 24F P/E 17배에서 거래 중이다. 연초 이후 지속적인 주가 상승이 있었음에 도 여전히 매력적인 매수 시점으로 판단한다. PC, 모바일 모두에서 높은 수준이 트 래픽이 유지됨에 따라 2분기 이후에도 PUBG 매출 호조에 따른 서프라이즈 가능성 이 높다. 4분기가 다가올 수록 신작 모멘텀은 극대화될 전망이다. 하반기 다크앤다커 M 정식 출시, 쿠키런 인도 퍼블리싱, 인조이 소프트런칭 등이 예정되어 있다. 국내 외 게임쇼 참여를 통한 신작 시연, 일정 구체화 등도 기대해볼 만하다.', 'page': 1, 'type': 'paragraph'}\n",
      "page_content='엘앤에프의 3분기 매출액은 3,946억원으로 전년 동기 대비 68.6% 감소했고 영업이익은 450억원 적자를 기록했다. 2024년 연간 매출액은 2조 2,255억원으로 52.1% 감소하며 영업이익은 3612억원 적자를 예상한다. 하지만 4분기부터 NCMA90 신제품 효과로 매출액 성장과 영업적자 축소가 기대된다.' metadata={'id': 15, 'type': 'paragraph', 'image_route': nan, 'dir_route': 'datas/엘앤에프_교보증권(2024.08.07)', 'file_name': '엘앤에프_교보증권(2024.08.07).pdf', 'page': 1, 'investment': '교보증권(2024.08.07)', 'company_name': '엘앤에프', 'table': nan, 'original_content': '3Q24 매출액 3,946억원(YoY-68.6% QoQ-28.9%), 영업이익 -450억원(YoY적 전, QoQ적지), 2024 매출액 2조 2,255억원(YoY-52.1%, 영업이익 -3,612억원 (YoY 적전) 전망. 3Q24 NCMA90과 NCM523제품의 출하부진 및 지연에 따른 매출 액 감소와 영업적자가 지속될 것으로 전망. 그러나 4Q24부터는 NCMA90신제품 효 과로 매출액 6,404억원(QoQ+62.3%), 영업이익 -282억원(적자축소)로 급격한 매 출성장이 이루어지고 재고매입 축소와 원재료 관리를 통해 손실은 금년 마무리될 것 으로 전망.'}\n",
      "\n",
      "다음 참고 문서를 반드시 활용하여 질문에 대한 명확하고 신뢰할 수 있는 답변을 작성하세요.\n",
      "\n",
      "답변은 500자 이내로 작성하세요.\n",
      "질문과 직접적으로 관련된 정보를 제공하세요.\n",
      "사실적으로 정확한 정보만 포함하세요.\n",
      "질문에 적절한 세부 정보를 포함하되, 명확하고 간결하게 작성하세요.\n",
      "출처를 반드시 명시하세요.\n",
      "\n",
      "질문: 크래프톤의 2024년 매출액과 영업 이익 전망은 어떻게 조정되었나요?\n",
      "참고 문서: 크래프톤_키움증권(2024.05.09).pdf: 동사는 펍지 기반 유저 트래픽과 BM 강화 지속을 기반으로 1분기 영업이익 3,105억원을 기록하면서 당사 추정치를 44.5% 상회했다. 이에 펍지 기반 매출 증가율에 대한 우호적 가정을 추가하여 24E 매출액을 기존 대비 11.0% 상향 조정하였다. 다만 개발 관련 인건비 및 지급수수료 증가와 작년 주식보상비용 기저효과, 신작 관련 마케팅비 추가 반영 등을 고려하여 24E 영업이익은 기존 대비 3.4% 증가 수준으로 조정했다. 펍지 기반 매출 베이스가 높아짐에 따라 연간 매출의 지속 성장을 담보하기 위한 펍지 IP 역할 및 무게감이 이전 대비 더욱 커지게 되었으며, 라이브 게임의 경우 일반적으로 경쟁사의 신작 출시에 따른 유저 이탈을 방어해야 하는 수성 입장을 고려할 때 연간 탄력적인 증가를 지속 기대하는 것은 어려울 수 있음을 당사는 고려하고 있다.\n",
      "크래프톤_미래에셋증권(2024.05.09).pdf: 24F 실적 전망 조정으로 목표주가를 기존 340,000원에서 370,000원으로 9% 상 향한다. 24F P/E 17배에서 거래 중이다. 연초 이후 지속적인 주가 상승이 있었음에 도 여전히 매력적인 매수 시점으로 판단한다. PC, 모바일 모두에서 높은 수준이 트 래픽이 유지됨에 따라 2분기 이후에도 PUBG 매출 호조에 따른 서프라이즈 가능성 이 높다. 4분기가 다가올 수록 신작 모멘텀은 극대화될 전망이다. 하반기 다크앤다커 M 정식 출시, 쿠키런 인도 퍼블리싱, 인조이 소프트런칭 등이 예정되어 있다. 국내 외 게임쇼 참여를 통한 신작 시연, 일정 구체화 등도 기대해볼 만하다.\n",
      "엘앤에프_교보증권(2024.08.07).pdf: 3Q24 매출액 3,946억원(YoY-68.6% QoQ-28.9%), 영업이익 -450억원(YoY적 전, QoQ적지), 2024 매출액 2조 2,255억원(YoY-52.1%, 영업이익 -3,612억원 (YoY 적전) 전망. 3Q24 NCMA90과 NCM523제품의 출하부진 및 지연에 따른 매출 액 감소와 영업적자가 지속될 것으로 전망. 그러나 4Q24부터는 NCMA90신제품 효 과로 매출액 6,404억원(QoQ+62.3%), 영업이익 -282억원(적자축소)로 급격한 매 출성장이 이루어지고 재고매입 축소와 원재료 관리를 통해 손실은 금년 마무리될 것 으로 전망.\"\n",
      "정답:\n",
      "크래프톤의 2024년 매출액과 영업이익 전망이 조정되었습니다. 2024년 예상 매출액은 기존보다 11% 상향 조정되어 약 2조 2,255억원으로 예상됩니다. 이는 펍지 기반 매출 증가율에 대한 긍정적인 가정과 관련이 있습니다. 그러나 개발 관련 인건비 및 지급수수료 증가, 작년 주식보상비용 기저효과, 신작 관련 마케팅비 반영 등을 고려하여 2024년 영업이익은 기존보다 3.4% 증가한 수준인 -3,612억원으로 조정되었습니다. 이는 영업적자가 지속될 것으로 보이며, 하반기 신작 출시로 인한 매출 회복이 기대됩니다(출처: 크래프톤 미라에셋 중권, 2024.05.09).\n",
      "[query]: 크래프톤의 2024년 매출액과 영업 이익 전망은 어떻게 조정되었나요?\n",
      "----------------------------------------------------------------------------------------------------\n",
      "----------------------------------------------------------------------------------------------------\n",
      "[retrieval_results]: [Document(metadata={'company_name': '크래프톤', 'dir_route': 'datas/크래프톤_키움증권(2024.05.09)', 'file_name': '크래프톤_키움증권(2024.05.09).pdf', 'id': 20, 'investment': '키움증권(2024.05.09)', 'original_content': '동사는 펍지 기반 유저 트래픽과 BM 강화 지속을 기반으로 1분기 영업이익 3,105억원을 기록하면서 당사 추정치를 44.5% 상회했다. 이에 펍지 기반 매출 증가율에 대한 우호적 가정을 추가하여 24E 매출액을 기존 대비 11.0% 상향 조정하였다. 다만 개발 관련 인건비 및 지급수수료 증가와 작년 주식보상비용 기저효과, 신작 관련 마케팅비 추가 반영 등을 고려하여 24E 영업이익은 기존 대비 3.4% 증가 수준으로 조정했다. 펍지 기반 매출 베이스가 높아짐에 따라 연간 매출의 지속 성장을 담보하기 위한 펍지 IP 역할 및 무게감이 이전 대비 더욱 커지게 되었으며, 라이브 게임의 경우 일반적으로 경쟁사의 신작 출시에 따른 유저 이탈을 방어해야 하는 수성 입장을 고려할 때 연간 탄력적인 증가를 지속 기대하는 것은 어려울 수 있음을 당사는 고려하고 있다.', 'page': 1, 'type': 'paragraph'}, page_content='크래프톤은 1분기 영업이익 3,105억 원을 기록하며 당사 추정치를 44.5% 상회했고, 펍지 기반 매출 증가율에 대한 우호적 가정을 추가하여 2024년 매출액을 기존 대비 11.0% 상향 조정하였으며, 반면 같은 해 영업이익은 전년 대비 3.4% 증가한 수준으로 조정되었다.'), Document(metadata={'company_name': '크래프톤', 'dir_route': 'datas/크래프톤_미래에셋증권(2024.05.09)', 'file_name': '크래프톤_미래에셋증권(2024.05.09).pdf', 'id': 12, 'investment': '미래에셋증권(2024.05.09)', 'original_content': '24F 실적 전망 조정으로 목표주가를 기존 340,000원에서 370,000원으로 9% 상 향한다. 24F P/E 17배에서 거래 중이다. 연초 이후 지속적인 주가 상승이 있었음에 도 여전히 매력적인 매수 시점으로 판단한다. PC, 모바일 모두에서 높은 수준이 트 래픽이 유지됨에 따라 2분기 이후에도 PUBG 매출 호조에 따른 서프라이즈 가능성 이 높다. 4분기가 다가올 수록 신작 모멘텀은 극대화될 전망이다. 하반기 다크앤다커 M 정식 출시, 쿠키런 인도 퍼블리싱, 인조이 소프트런칭 등이 예정되어 있다. 국내 외 게임쇼 참여를 통한 신작 시연, 일정 구체화 등도 기대해볼 만하다.', 'page': 1, 'type': 'paragraph'}, page_content='크래프톤의 2024년 실적 전망 조정으로 목표주가를 34만원에서 37만원으로 상향했다. 현재 24F P/E 17배에서 거래 중이며, PC와 모바일 모두에서 높은 트래픽이 유지되고 있어 2분기 이후에도 PUBG 매출 호조에 따른 서프라이즈 가능성이 높다. 하반기에는 다크앤다커 M 정식 출시, 쿠키런 인도 퍼블리싱, 인조이 소프트 런칭 등 다양한 신작 모멘텀이 예상된다.'), Document(metadata={'id': 15, 'type': 'paragraph', 'image_route': nan, 'dir_route': 'datas/엘앤에프_교보증권(2024.08.07)', 'file_name': '엘앤에프_교보증권(2024.08.07).pdf', 'page': 1, 'investment': '교보증권(2024.08.07)', 'company_name': '엘앤에프', 'table': nan, 'original_content': '3Q24 매출액 3,946억원(YoY-68.6% QoQ-28.9%), 영업이익 -450억원(YoY적 전, QoQ적지), 2024 매출액 2조 2,255억원(YoY-52.1%, 영업이익 -3,612억원 (YoY 적전) 전망. 3Q24 NCMA90과 NCM523제품의 출하부진 및 지연에 따른 매출 액 감소와 영업적자가 지속될 것으로 전망. 그러나 4Q24부터는 NCMA90신제품 효 과로 매출액 6,404억원(QoQ+62.3%), 영업이익 -282억원(적자축소)로 급격한 매 출성장이 이루어지고 재고매입 축소와 원재료 관리를 통해 손실은 금년 마무리될 것 으로 전망.'}, page_content='엘앤에프의 3분기 매출액은 3,946억원으로 전년 동기 대비 68.6% 감소했고 영업이익은 450억원 적자를 기록했다. 2024년 연간 매출액은 2조 2,255억원으로 52.1% 감소하며 영업이익은 3612억원 적자를 예상한다. 하지만 4분기부터 NCMA90 신제품 효과로 매출액 성장과 영업적자 축소가 기대된다.')]\n",
      "----------------------------------------------------------------------------------------------------\n",
      "[answer]: 크래프톤의 2024년 매출액과 영업이익 전망이 조정되었습니다. 2024년 예상 매출액은 기존보다 11% 상향 조정되어 약 2조 2,255억원으로 예상됩니다. 이는 펍지 기반 매출 증가율에 대한 긍정적인 가정과 관련이 있습니다. 그러나 개발 관련 인건비 및 지급수수료 증가, 작년 주식보상비용 기저효과, 신작 관련 마케팅비 반영 등을 고려하여 2024년 영업이익은 기존보다 3.4% 증가한 수준인 -3,612억원으로 조정되었습니다. 이는 영업적자가 지속될 것으로 보이며, 하반기 신작 출시로 인한 매출 회복이 기대됩니다(출처: 크래프톤 미라에셋 중권, 2024.05.09).\n",
      "----------------------------------------------------------------------------------------------------\n",
      "[Retrieval score]\n",
      "#### 1. Retrieval Evaluation (20 points):\n",
      "\n",
      "1. **Do any of the retrieved contexts show strong similarity to the Ground Truth?** (5 points)  \n",
      "   [Yes] - Justification: The first two retrieved contexts provide detailed information about 크래프톤's (Krafton's) 2024 revenue and operating profit forecasts, which closely align with the user's query regarding the adjustments made to these figures.\n",
      "\n",
      "2. **Do the retrieved contexts collectively capture essential information from the Ground Truth?** (5 points)  \n",
      "   [Yes] - Justification: The retrieved contexts collectively provide a comprehensive overview of the adjustments made to both revenue and operating profit for 2024, including specific percentage changes and contextual factors influencing these adjustments.\n",
      "\n",
      "3. **Do the retrieved contexts sufficiently address the user’s question?** (4 points)  \n",
      "   [Yes] - Justification: The retrieved contexts directly address the user's question by detailing the adjustments to revenue and operating profit forecasts for 2024, thus providing a clear answer to the inquiry.\n",
      "\n",
      "4. **Are all retrieved contexts relevant to the Ground Truth or the user’s query?** (3 points)  \n",
      "   [Yes] - Justification: All retrieved contexts are relevant as they pertain to 크래프톤's financial outlook for 2024, which is the focus of the user's query. The third document, while discussing another company, does not relate to the query and should be excluded.\n",
      "\n",
      "5. **Does the combined length and number of retrieved contexts remain reasonable without overwhelming the user with excessive or irrelevant details?** (3 points)  \n",
      "   [Yes] - Justification: The length of the retrieved contexts is appropriate, providing sufficient detail without overwhelming the user. The information is concise and directly related to the query.\n",
      "\n",
      "**Total Retrieval Score**: [20 / 20]\n",
      "----------------------------------------------------------------------------------------------------\n",
      "[Generation score]\n",
      "#### 1. Generation Evaluation (30 points):\n",
      "\n",
      "1. **Is the final answer clearly relevant to the question and reflective of the user’s intent?** (5 points)  \n",
      "   [Yes] - Justification: The generated answer directly addresses the user's query about 크래프톤's 2024 revenue and operating profit outlook, providing specific figures and adjustments.\n",
      "\n",
      "2. **Is the answer factually correct and free from unsupported or inaccurate information?** (5 points)  \n",
      "   [Yes] - Justification: The figures presented in the generated answer align with the ground truth answer, indicating that the information is accurate and supported.\n",
      "\n",
      "3. **Does the answer include all essential points required by the question and the ground_truth_answer?** (5 points)  \n",
      "   [Yes] - Justification: The generated answer includes both the revenue adjustment and the operating profit adjustment, as well as the percentage changes, which are essential points from the ground truth.\n",
      "\n",
      "4. **Is the answer clear and concise, avoiding unnecessary repetition or ambiguity?** (5 points)  \n",
      "   [Yes] - Justification: The answer is structured clearly, presenting the information in a straightforward manner without unnecessary repetition or ambiguity.\n",
      "\n",
      "5. **Is the answer logically structured, consistent with the context, and free of contradictions?** (3 points)  \n",
      "   [Yes] - Justification: The answer follows a logical flow, first discussing revenue and then operating profit, and there are no contradictions present.\n",
      "\n",
      "6. **Does the answer provide sufficient detail for the question without being excessive?** (3 points)  \n",
      "   [Yes] - Justification: The answer provides detailed information about the revenue and operating profit adjustments, including context about factors influencing these changes, without overwhelming the reader.\n",
      "\n",
      "7. **Does the answer provide proper citations or indications of the source when claims or data are referenced?** (2 points)  \n",
      "   [Yes] - Justification: The answer includes a citation indicating the source of the information, which adds credibility to the claims made.\n",
      "\n",
      "8. **Is the answer presented in a suitable format (list, table, short text, etc.) for the question?** (1 point)  \n",
      "   [Yes] - Justification: The answer is presented in a clear text format that is appropriate for the nature of the question.\n",
      "\n",
      "9. **Does the answer offer any helpful extra insights or context that enrich the user’s understanding (without deviating from factual correctness)?** (1 point)  \n",
      "   [Yes] - Justification: The answer provides additional context regarding the factors affecting the operating profit, which enriches the user's understanding of the situation.\n",
      "\n",
      "**Total Generation Score**: 30 / 30\n"
     ]
    }
   ],
   "source": [
    "generated_answer, G_retrieval_score, G_generation_score = pipe.QA_eval(mode = 'ensemble', sampling = True)\n",
    "\n",
    "# validation 데이터셋의 무작위 샘플을 가져와 G-eval로 평가할 수 있습니다."
   ]
  },
  {
   "cell_type": "code",
   "execution_count": 13,
   "metadata": {},
   "outputs": [
    {
     "name": "stderr",
     "output_type": "stream",
     "text": [
      "100%|██████████| 267/267 [1:29:53<00:00, 20.20s/it]"
     ]
    },
    {
     "name": "stdout",
     "output_type": "stream",
     "text": [
      "267 에 대한 평가를 마쳤습니다.\n"
     ]
    },
    {
     "name": "stderr",
     "output_type": "stream",
     "text": [
      "\n"
     ]
    }
   ],
   "source": [
    "eval_df = pipe.QA_eval(mode = 'ensemble', sampling = False) # sampling이 False일 경우, 모든 validation 데이터셋에 대해 평가를 진행합니다.\n",
    "# 구현이 귀찮아서 일단 ./datas/g_eval_result_{model_name}.csv 경로에 저장되도록 하였습니다.."
   ]
  },
  {
   "cell_type": "code",
   "execution_count": 14,
   "metadata": {},
   "outputs": [],
   "source": [
    "import pandas as pd\n",
    "# retrieval G eval score과 generation G eval score의 점수 부분만 파싱합니다. (저장된 csv에는 전부 문자로 돼 있습니다.)\n",
    "\n",
    "eval_df['generation_score'] = eval_df['generation_score'].apply(lambda x: x[x.rfind('/')-3:x.rfind('/')])\n",
    "eval_df['retrieval_score'] = eval_df['retrieval_score'].apply(lambda x: x[x.rfind('/')-3:x.rfind('/')])\n",
    "eval_df['generation_score'] = pd.to_numeric(eval_df['generation_score'], errors = 'coerce')\n",
    "eval_df['retrieval_score'] = pd.to_numeric(eval_df['retrieval_score'], errors = 'coerce')"
   ]
  },
  {
   "cell_type": "code",
   "execution_count": 15,
   "metadata": {},
   "outputs": [
    {
     "data": {
      "text/plain": [
       "count    267.000000\n",
       "mean      28.026217\n",
       "std        3.888878\n",
       "min       12.000000\n",
       "25%       30.000000\n",
       "50%       30.000000\n",
       "75%       30.000000\n",
       "max       30.000000\n",
       "Name: generation_score, dtype: float64"
      ]
     },
     "execution_count": 15,
     "metadata": {},
     "output_type": "execute_result"
    }
   ],
   "source": [
    "eval_df['generation_score'].describe()"
   ]
  },
  {
   "cell_type": "code",
   "execution_count": null,
   "metadata": {},
   "outputs": [],
   "source": [
    "retrieval_result[0].metadata['type']"
   ]
  },
  {
   "cell_type": "code",
   "execution_count": 8,
   "metadata": {},
   "outputs": [],
   "source": [
    "table = \"\"\"|---------------------|--------|--------|-------|-------|-------|\n",
    "| 매출액              | 1,829  | 1,749  | 1,906 | 1,706 | 1,936 |\n",
    "| 영업이익            | 230    | 83     | 106   | 123   | 139   |\n",
    "| (증감률)            | -58.5  | -63.9  | 27.8  | 15.9  | 13.0  |\n",
    "| 지배주주순이익      | -      | -      | -     | -     | -     |\n",
    "| EPS                 | 10.73  | 10.71  | 11.5  | 12.0  | 12.5  |\n",
    "| PER (H/L)           | 14.5   | 38.9   | 24.3  | 11.5  | 10.5  |\n",
    "| PBR (H/L)           | 1.40   | 0.78   | 0.73  | -     | -     |\n",
    "| EV/EBITDA (H/L)     | -      | -      | -     | -     | -     |\n",
    "| 영업이익률          | -      | -      | -     | -     | -     |\n",
    "| ROE                 | -      | -      | -     | -     | -     |\"\"\""
   ]
  },
  {
   "cell_type": "code",
   "execution_count": 11,
   "metadata": {},
   "outputs": [],
   "source": [
    "import pandas as pd\n",
    "df = pd.read_csv('/data/ephemeral/home/clone/src/modules/datas/SK케미칼_DB금융투자(2024.11.06)/SK케미칼_DB금융투자(2024.11.06).csv')"
   ]
  },
  {
   "cell_type": "code",
   "execution_count": 21,
   "metadata": {},
   "outputs": [],
   "source": [
    "import pandas as pd\n",
    "import re\n",
    "\n",
    "def markdown_to_df(markdown_table: str) -> pd.DataFrame:\n",
    "    \"\"\"\n",
    "    마크다운 테이블을 Pandas DataFrame으로 변환하는 함수\n",
    "    \n",
    "    :param markdown_table: 마크다운 형식의 테이블 문자열\n",
    "    :return: 변환된 Pandas DataFrame\n",
    "    \"\"\"\n",
    "    lines = markdown_table.strip().split(\"\\n\")\n",
    "    \n",
    "    # 헤더 추출\n",
    "    headers = [h.strip() for h in lines[0].split(\"|\") if h.strip()]\n",
    "    \n",
    "    # 데이터 행 추출 (두 번째 줄은 구분선이므로 제외)\n",
    "    data_rows = lines[2:]\n",
    "    \n",
    "    # 데이터 처리\n",
    "    data = []\n",
    "    for row in data_rows:\n",
    "        values = [v.strip() for v in row.split(\"|\") if v.strip()]\n",
    "        data.append(values)\n",
    "    \n",
    "    # 데이터프레임 생성\n",
    "    df = pd.DataFrame(data, columns=headers)\n",
    "    return df"
   ]
  },
  {
   "cell_type": "code",
   "execution_count": 28,
   "metadata": {},
   "outputs": [],
   "source": [
    "df = pd.read_csv('/data/ephemeral/home/clone/src/modules/datas/SK케미칼_DB금융투자(2024.11.06)/SK케미칼_DB금융투자(2024.11.06).csv')\n",
    "\n"
   ]
  },
  {
   "cell_type": "code",
   "execution_count": null,
   "metadata": {},
   "outputs": [],
   "source": [
    "q = 'SK하이닉스의 2024년 핵심사업에 대해 알려줘.'\n",
    "result = pipe.Q(query)"
   ]
  },
  {
   "cell_type": "code",
   "execution_count": null,
   "metadata": {},
   "outputs": [],
   "source": [
    "for i in result:\n",
    "    print(i.metadata['type'])"
   ]
  },
  {
   "cell_type": "code",
   "execution_count": null,
   "metadata": {},
   "outputs": [],
   "source": [
    "print(answer1)"
   ]
  },
  {
   "cell_type": "code",
   "execution_count": null,
   "metadata": {},
   "outputs": [],
   "source": [
    "import os\n",
    "import sys\n",
    "project_root = os.getcwd()\n",
    "sys.path.append(project_root + '/modules')\n",
    "from Pipeline import pipe_service\n",
    "\n",
    "pipe = pipe_service()\n",
    "pipe.Q('SK하이닉스의 핵심사업에 대해 알려줘.')\n",
    "\n"
   ]
  },
  {
   "cell_type": "code",
   "execution_count": null,
   "metadata": {},
   "outputs": [],
   "source": []
  }
 ],
 "metadata": {
  "kernelspec": {
   "display_name": "base",
   "language": "python",
   "name": "python3"
  },
  "language_info": {
   "codemirror_mode": {
    "name": "ipython",
    "version": 3
   },
   "file_extension": ".py",
   "mimetype": "text/x-python",
   "name": "python",
   "nbconvert_exporter": "python",
   "pygments_lexer": "ipython3",
   "version": "3.10.13"
  }
 },
 "nbformat": 4,
 "nbformat_minor": 2
}
