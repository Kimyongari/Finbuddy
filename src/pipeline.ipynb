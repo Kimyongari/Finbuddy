{
 "cells": [
  {
   "cell_type": "code",
   "execution_count": 1,
   "metadata": {},
   "outputs": [
    {
     "name": "stderr",
     "output_type": "stream",
     "text": [
      "/opt/conda/lib/python3.10/site-packages/tqdm/auto.py:21: TqdmWarning: IProgress not found. Please update jupyter and ipywidgets. See https://ipywidgets.readthedocs.io/en/stable/user_install.html\n",
      "  from .autonotebook import tqdm as notebook_tqdm\n"
     ]
    },
    {
     "name": "stdout",
     "output_type": "stream",
     "text": [
      "🦥 Unsloth: Will patch your computer to enable 2x faster free finetuning.\n",
      "🦥 Unsloth Zoo will now patch everything to make training faster!\n",
      "생성된 DB가 있어 로드합니다.\n"
     ]
    },
    {
     "name": "stderr",
     "output_type": "stream",
     "text": [
      "/data/ephemeral/home/level4-nlp-finalproject-hackathon-nlp-09-lv3/src/modules/DB/chromadb_storing.py:127: LangChainDeprecationWarning: The class `Chroma` was deprecated in LangChain 0.2.9 and will be removed in 1.0. An updated version of the class exists in the :class:`~langchain-chroma package and should be used instead. To use it run `pip install -U :class:`~langchain-chroma` and import as `from :class:`~langchain_chroma import Chroma``.\n",
      "  self.db = Chroma(\n"
     ]
    },
    {
     "name": "stdout",
     "output_type": "stream",
     "text": [
      "Collection 'chrdb.db' loaded from 'modules/DB/Eval_DB_NaverCloudEmb'.\n",
      "Total documents in collection 'chrdb.db': 891\n"
     ]
    },
    {
     "name": "stderr",
     "output_type": "stream",
     "text": [
      "Loading checkpoint shards: 100%|██████████| 7/7 [00:10<00:00,  1.43s/it]\n"
     ]
    }
   ],
   "source": [
    "import os\n",
    "import sys\n",
    "project_root = os.getcwd()\n",
    "sys.path.append(project_root + '/modules')\n",
    "# Pipeline의 구조를 이해하기 쉽게 하기 위해 작성한 ipynb 파일입니다\n",
    "from modules.Pipeline import pipe_eval\n",
    "pipe = pipe_eval(verbose = True) # verbose를 False로 하면 print가 되지 않습니다.\n",
    "# collection_name = 'chrdb.db',\n",
    "# persist_directory = 'DB',\n",
    "# mode = 'NaverCloudEmb'\n",
    "# topk = 5\n",
    "# verbose = True : answer과 score을 보여줍니다. 보고싶지 않다면 False로 하면 됩니다.\n",
    "# default로 지정돼 있습니다. 클래스 선언 때 건네주면 바뀝니다.\n",
    "pipe.setup(model = 'Exaone')\n",
    "#                   가능한 모델 (default GPT)\n",
    "#                   1. GPT\n",
    "#                   2. Exaone\n",
    "#                   3. Qwen14B\n",
    "#                   4. Qwen32B\n",
    "#                   5. HyperClova"
   ]
  },
  {
   "cell_type": "code",
   "execution_count": 4,
   "metadata": {},
   "outputs": [
    {
     "name": "stdout",
     "output_type": "stream",
     "text": [
      "page_content='SK하이닉스는 2024년부터 2026년까지의 주주환원 정책을 공개하며, 연간 고정 배당금을 1,200원에서 1,500원으로 인상하고, 잉여현금흐름(FCF)의 5%를 추가 배당금으로 지급하던 것을 중단하고 이를 재무 건정성 강화에 투입한다고 밝혔다. 이는 메모리 산업의 불확실성에 대비하여 안정적인 현금 흐름을 확보하려는 노력으로 평가된다.' metadata={'company_name': 'SK하이닉스', 'dir_route': './modules/datas/SK하이닉스_하나증권(2024.11.28)', 'file_name': 'SK하이닉스_하나증권(2024.11.28).pdf', 'id': 15, 'investment': '하나증권(2024.11.28)', 'original_content': 'SK하이닉스는 장 종료 후에 향후 3개년간 주주환원 쟁책을 공시했다. 기존 3개년 주주환 원 정책에서 변화가 생겼다. 변경된 부분의 핵심은 연간 고정배당금을 기존 1,200원에서 1,500원으로 상향하고, 기존 정책 하에서 지급하던 추가 배당금이었던 연간 Free Cash Flow의 5% 재원을 재무 건전성 강화에 우선 활용한다는 점이다. 아울러 정책 종료 후 총 재원 안에서 재무 건전성 목표가 달성되면 추가 환원을 실행하거나, 유의미한 수준의 Free Cash Flow 창출이 예상되는 경우에 조기 환원도 가능하다고 언급했다. 다시 설명하 자면 2025~2027년까지 3년 누적 Free Cash Flow의 50% 수준을 총 재원으로 설정하는 것은 기존과 동일하다. 다만, 기존에 매년 지급하던 FCF 내 5%의 추가 배당금을 앞으로 는 재무 건전성 강화로 사용하는 대신에 정책 종료 후 FCF 50% 수준 안에서 여유 재원을 기반으로 한 추가 환원을 결정한 것이다. 메모리 업황 특성상 변동성이 크기 때문에 예측 가능한 주주환원 규모를 선정하기 어렵기 때문에 3년 누적의 Free Cash Flow 선정은 동종 업체들의 정책과도 일맥상통하는 부분이다. 또한, SK하이닉스의 재무 건전성이 경쟁사들보 다 열위에 있던 점을 고려하면 금번 주주환원 정책 발표는 합리적인 결정이라 판단한다.', 'page': 1, 'type': 'paragraph'}\n",
      "page_content='SK하이닉스는 주당배당금 25% 상향 및 연간 FCF의 5%를 재무 건전성 강화에 활용한다는 기업가치 제고 계획을 발표하였다. 또한 CapEx Discipline 을 3년 이동평균 매출액의 30% 중반 수준으로 강화하며, 2025년 기준 약 0.7조원을 재무 건전성 강화에 활용할 예정이다.' metadata={'company_name': 'SK하이닉스', 'dir_route': './modules/datas/SK하이닉스_SK증권(2024.11.28)', 'file_name': 'SK하이닉스_SK증권(2024.11.28).pdf', 'id': 17, 'investment': 'SK증권(2024.11.28)', 'original_content': 'SK 하이닉스는 27 일 기업가치 제고 계획을 발표했다. 주요 내용은 주당배당금 25% 상향 (1,200원->1,500원)과 배당에 활용하던 연간 FCF의 5%는 재무 건전성 강화 에 활용, CapEx Discipline 의 강화 (3 년 이동평균 매출액의 30% 중반 수준)이다. 2025 년 기준 약 0.7 조원 수준을 재무 건전성 강화에 활용할 수 있다고 판단한다.', 'page': 1, 'type': 'paragraph'}\n",
      "page_content='카카오뱅크는 2024년에서 2025년 사이 주주 환원율 50% 달성 후 27년부터는 주당배당금(DPS) 유지 또는 점진적 상승을 통해 배당 중심의 주주환원 정책을 펼칠 것으로 예상되며, 이를 위해 26년까지 높은 성장세를 이어갈 것으로 전망된다.' metadata={'id': 21, 'type': 'paragraph', 'image_route': nan, 'dir_route': './modules/datas/카카오뱅크_삼성증권(2024.11.27)', 'file_name': '카카오뱅크_삼성증권(2024.11.27).pdf', 'page': 1, 'investment': '삼성증권(2024.11.27)', 'company_name': '카카오뱅크', 'table': nan, 'original_content': '기업가치 제고계획 목표 4. ’24~’25년 주주환원율 50% 도달 이후 ’27년부터 DPS 유지 또 는 점진적 상향 – 배당 중심 주주환원 정책 예상: 동사의 주주환원 정책은 자사주 매입 및 소각보다는 배당 확대가 보다 현실적일 것으로 판단. 이에, DPS는 주주환원율 상향 계획에 따라 2026년까지 고성장을 지속한 후, 이익 증가 속도와 유사한 흐름을 전망.', 'iamge_route': nan}\n"
     ]
    }
   ],
   "source": [
    "query = 'SK하이닉스의 2025~2027년 주주환원 정책에서 변경된 고정배당금과 추가 배당금의 활용 방안은 무엇인가요?'\n",
    "# query = 'NAVER의 분기별 실적 추이 및 전망에 대하여 알려줘'\n",
    "# query = 'SK하이닉스의 2024년 매출에 대해 알려줘.'\n",
    "# query = '로스데렌탈의 업종지수에 대한 비중확대, 중립, 비중축소의 기준은 무엇인가요?'\n",
    "# validation데이터셋의 첫번째 question\n",
    "retrieval_result = pipe.Q(query, mode = 'ensemble')\n",
    "# bm25, dpr, ensemble 가능 (default 'ensemble')\n"
   ]
  },
  {
   "cell_type": "code",
   "execution_count": 3,
   "metadata": {},
   "outputs": [],
   "source": [
    "# print(retrieval_result[1].metadata['table'])"
   ]
  },
  {
   "cell_type": "code",
   "execution_count": 5,
   "metadata": {},
   "outputs": [
    {
     "name": "stdout",
     "output_type": "stream",
     "text": [
      "\n",
      "다음 참고 문서를 반드시 활용하여 질문에 대한 명확하고 신뢰할 수 있는 답변을 작성하세요.\n",
      "\n",
      "답변은 500자 이내로 작성하세요.\n",
      "질문과 직접적으로 관련된 정보를 제공하세요.\n",
      "사실적으로 정확한 정보만 포함하세요.\n",
      "질문에 적절한 세부 정보를 포함하되, 명확하고 간결하게 작성하세요.\n",
      "출처를 반드시 명시하세요.\n",
      "\n",
      "질문: SK하이닉스의 2025~2027년 주주환원 정책에서 변경된 고정배당금과 추가 배당금의 활용 방안은 무엇인가요?\n",
      "참고 문서: SK하이닉스_하나증권(2024.11.28).pdf, 1 page : SK하이닉스는 장 종료 후에 향후 3개년간 주주환원 쟁책을 공시했다. 기존 3개년 주주환 원 정책에서 변화가 생겼다. 변경된 부분의 핵심은 연간 고정배당금을 기존 1,200원에서 1,500원으로 상향하고, 기존 정책 하에서 지급하던 추가 배당금이었던 연간 Free Cash Flow의 5% 재원을 재무 건전성 강화에 우선 활용한다는 점이다. 아울러 정책 종료 후 총 재원 안에서 재무 건전성 목표가 달성되면 추가 환원을 실행하거나, 유의미한 수준의 Free Cash Flow 창출이 예상되는 경우에 조기 환원도 가능하다고 언급했다. 다시 설명하 자면 2025~2027년까지 3년 누적 Free Cash Flow의 50% 수준을 총 재원으로 설정하는 것은 기존과 동일하다. 다만, 기존에 매년 지급하던 FCF 내 5%의 추가 배당금을 앞으로 는 재무 건전성 강화로 사용하는 대신에 정책 종료 후 FCF 50% 수준 안에서 여유 재원을 기반으로 한 추가 환원을 결정한 것이다. 메모리 업황 특성상 변동성이 크기 때문에 예측 가능한 주주환원 규모를 선정하기 어렵기 때문에 3년 누적의 Free Cash Flow 선정은 동종 업체들의 정책과도 일맥상통하는 부분이다. 또한, SK하이닉스의 재무 건전성이 경쟁사들보 다 열위에 있던 점을 고려하면 금번 주주환원 정책 발표는 합리적인 결정이라 판단한다.\n",
      "SK하이닉스_SK증권(2024.11.28).pdf, 1 page : SK 하이닉스는 27 일 기업가치 제고 계획을 발표했다. 주요 내용은 주당배당금 25% 상향 (1,200원->1,500원)과 배당에 활용하던 연간 FCF의 5%는 재무 건전성 강화 에 활용, CapEx Discipline 의 강화 (3 년 이동평균 매출액의 30% 중반 수준)이다. 2025 년 기준 약 0.7 조원 수준을 재무 건전성 강화에 활용할 수 있다고 판단한다.\n",
      "카카오뱅크_삼성증권(2024.11.27).pdf, 1 page : 기업가치 제고계획 목표 4. ’24~’25년 주주환원율 50% 도달 이후 ’27년부터 DPS 유지 또 는 점진적 상향 – 배당 중심 주주환원 정책 예상: 동사의 주주환원 정책은 자사주 매입 및 소각보다는 배당 확대가 보다 현실적일 것으로 판단. 이에, DPS는 주주환원율 상향 계획에 따라 2026년까지 고성장을 지속한 후, 이익 증가 속도와 유사한 흐름을 전망.\n",
      "정답:\n",
      "SK하이닉스의 2025~2027년 주주환원 정책에서 변경된 내용은 다음과 같습니다:\n",
      "\n",
      "1. **고정배당금 상향**: 연간 고정배당금을 기존 1,200원에서 1,500원으로 상향 조정했습니다.\n",
      "   \n",
      "2. **추가 배당금 활용 방안 변경**:\n",
      "   - **과거 방식**: 연간 Free Cash Flow (FCF)의 5%를 추가 배당금으로 지급했습니다.\n",
      "   - **변경된 방식**: 이 5%의 FCF를 **재무 건전성 강화**에 우선적으로 사용합니다. 예를 들어, 2025년 기준 약 0.7조 원을 재무 건전성 강화에 투입할 예정입니다.\n",
      "   \n",
      "3. **정책 종료 후**: 재무 건전성 목표 달성 후 여유 재원이 발생하면 추가 환원을 실행하거나, 유의미한 수준의 FCF 창출이 예상되면 조기 환원도 가능합니다. 총 재원의 50%는 여전히 3년 누적 FCF를 기반으로 합니다.\n",
      "\n",
      "**출처**:\n",
      "- SK하이닉스_하나증권(2024.11.28).pdf\n",
      "- SK하이닉스_SK증권(2024.11.28).pdf\n"
     ]
    }
   ],
   "source": [
    "answer = pipe.A(query, retrieval_result)\n",
    "# query 와 retrieval 결과를 받아 answer을 냅니다.\n"
   ]
  },
  {
   "cell_type": "code",
   "execution_count": 5,
   "metadata": {},
   "outputs": [
    {
     "data": {
      "text/plain": [
       "296"
      ]
     },
     "execution_count": 5,
     "metadata": {},
     "output_type": "execute_result"
    }
   ],
   "source": [
    "len(answer)"
   ]
  },
  {
   "cell_type": "code",
   "execution_count": 11,
   "metadata": {},
   "outputs": [
    {
     "name": "stdout",
     "output_type": "stream",
     "text": [
      "page_content='한화솔루션의 4분기 영업이익은 184억원으로 시장 기대치인 745억원보다 낮을 것으로 예상된다. 이는 기초소재 사업의 부진 때문이며, 태양광 사업에서는 흑자 전환이 기대된다. 특히 미국 인플레이션 감축법(IRA) 시행으로 인한 세액공제 혜택으로 태양광 모듈 판매량 증가와 발전사업 매출액 상승이 예상된다.' metadata={'company_name': '한화솔루션', 'dir_route': 'datas/한화솔루션_삼성증권(2024.10.30)', 'file_name': '한화솔루션_삼성증권(2024.10.30).pdf', 'id': 21, 'investment': '삼성증권(2024.10.30)', 'original_content': '4Q24 preview, 컨센서스 하회: 4Q 영업이익은 -184억원(+626억원QoQ)으로 컨센서스(745 억원, Fnguide) 하회 지속 예상되는데, 이는 기초소재 부진(영업이익 -321억원)에 기인. 태 양광 매출 및 영업이익은 각각 2.01조원(+75%QoQ) 및 116억원(흑자 전환QoQ; OPM +0.6%) 예상. 태양광 영업이익은 모듈 제조사업 -1,741억원(+193억원QoQ; OPM -20.7%), 발전사업 272억원(-12%QoQ; OPM +2.3%) 및 IRA AMPC 1,585억원(+30%QoQ)으로 구성 예상. 태양광 모듈 판매량은 전분기 이연 물량을 포함하여 크게 회복 전망(+58%QoQ vs 3Q24: Flat QoQ). 발전사업 매출도 일부 프로젝트 지연분 반영으로 급증 예상(1.17조원; +103%QoQ).', 'page': 1, 'type': 'paragraph'}\n",
      "page_content='한화솔루션의 2024년 3분기 실적은 매출액 3.9조 원으로 전 분기 대비 6% 감소하였고 영업이익은 2,804억 원으로 전 분기 대비 23% 감소하였다. 이는 원재료 가격 상승 및 중국 수요 부진 등 대외 환경 악화 영향이다.' metadata={'company_name': '한화솔루션', 'dir_route': 'datas/한화솔루션_삼성증권(2024.10.30)', 'file_name': '한화솔루션_삼성증권(2024.10.30).pdf', 'id': 69, 'investment': '삼성증권(2024.10.30)', 'original_content': '참고: * 일회성 수익(비용) 제외 ** 완전 희석, 일회성 수익(비용) 제외', 'page': 6, 'type': 'paragraph'}\n",
      "page_content='한화솔루션, 2024년 케미칼과 태양광 사업 모두 부진 예상되나 태양광 분야에서는 느린 회복세 전망' metadata={'company_name': '한화솔루션', 'dir_route': 'datas/한화솔루션_메리츠증권(2024.10.31)', 'file_name': '한화솔루션_메리츠증권(2024.10.31).pdf', 'id': 9, 'investment': '메리츠증권(2024.10.31)', 'original_content': '2024년 케미칼과 태양광 부진의 이중고. 태양광은 느리지만 회복은 될 점', 'page': 1, 'type': 'paragraph'}\n",
      "\n",
      "다음 참고 문서를 반드시 활용하여 질문에 대한 명확하고 신뢰할 수 있는 답변을 작성하세요.\n",
      "\n",
      "답변은 500자 이내로 작성하세요.\n",
      "질문과 직접적으로 관련된 정보를 제공하세요.\n",
      "사실적으로 정확한 정보만 포함하세요.\n",
      "질문에 적절한 세부 정보를 포함하되, 명확하고 간결하게 작성하세요.\n",
      "출처를 반드시 명시하세요.\n",
      "\n",
      "질문: 한화솔루션의 태양광 부문에서 2024년 3분기와 4분기 판매량 감소의 주요 원인은 무엇인가요?\n",
      "참고 문서: 한화솔루션_삼성증권(2024.10.30).pdf: 4Q24 preview, 컨센서스 하회: 4Q 영업이익은 -184억원(+626억원QoQ)으로 컨센서스(745 억원, Fnguide) 하회 지속 예상되는데, 이는 기초소재 부진(영업이익 -321억원)에 기인. 태 양광 매출 및 영업이익은 각각 2.01조원(+75%QoQ) 및 116억원(흑자 전환QoQ; OPM +0.6%) 예상. 태양광 영업이익은 모듈 제조사업 -1,741억원(+193억원QoQ; OPM -20.7%), 발전사업 272억원(-12%QoQ; OPM +2.3%) 및 IRA AMPC 1,585억원(+30%QoQ)으로 구성 예상. 태양광 모듈 판매량은 전분기 이연 물량을 포함하여 크게 회복 전망(+58%QoQ vs 3Q24: Flat QoQ). 발전사업 매출도 일부 프로젝트 지연분 반영으로 급증 예상(1.17조원; +103%QoQ).\n",
      "한화솔루션_삼성증권(2024.10.30).pdf: 참고: * 일회성 수익(비용) 제외 ** 완전 희석, 일회성 수익(비용) 제외\n",
      "한화솔루션_메리츠증권(2024.10.31).pdf: 2024년 케미칼과 태양광 부진의 이중고. 태양광은 느리지만 회복은 될 점\"\n",
      "정답:\n",
      "한화솔루션의 태양광 부문에서 2024년 3분기와 4분기 판매량 감소의 주요 원인은 여러 요인으로 분석됩니다. 3분기의 경우, 태양광 모듈 판매량은 전분기 이연 물량을 포함하여 회복세를 보였으나, 4분기에는 기초소재 부진으로 인한 영업이익 감소가 예상됩니다. 특히 모듈 제조사업에서 영업이익이 -1,741억원으로 크게 적자로 전환될 것으로 보이며, 이는 판매량 감소에 직접적인 영향을 미칩니다. 또한, 발전사업의 경우 프로젝트 지연으로 인한 매출 증가가 예상되지만, 전반적인 태양광 부문의 성장은 제한적일 것으로 보입니다(출처: 한화솔루션 삼성증권, 2024.10.30).\n"
     ]
    }
   ],
   "source": [
    "answer = pipe.QA(query, mode = 'ensemble')\n",
    "# QA를 따로 내는 것이 아니라 한번에 정답을 얻을 수도 있습니다. 이후 정량평가에서는 QA를 사용하면 됩니다."
   ]
  },
  {
   "cell_type": "code",
   "execution_count": 7,
   "metadata": {},
   "outputs": [
    {
     "data": {
      "text/plain": [
       "330"
      ]
     },
     "execution_count": 7,
     "metadata": {},
     "output_type": "execute_result"
    }
   ],
   "source": [
    "len(answer)"
   ]
  },
  {
   "cell_type": "code",
   "execution_count": 10,
   "metadata": {},
   "outputs": [
    {
     "name": "stdout",
     "output_type": "stream",
     "text": [
      "page_content='카카오뱅크의 가계대출 포트폴리오는 꾸준히 개선되고 있으며, 주택담보대출 잔액은 2022년 3월 말 468억 원에서 2024년 6월 말 12조 5,738억 원으로 크게 증가하였고 이는 원화 대출금 중 29.5%를 차지한다.' metadata={'company_name': '카카오뱅크', 'dir_route': './modules/datas/카카오뱅크_한국신용평가(2024.09.13)', 'file_name': '카카오뱅크_한국신용평가(2024.09.13).pdf', 'id': 68, 'investment': '한국신용평가(2024.09.13)', 'original_content': '가 계대출 내 포트폴리오 다각화는 꾸준히 개선되고 있다. 주택담보대출의 경우 2022년 2월 출시 후 대출잔액은 2022년 3월 말 468억원에서 2022년 말 1조 1,957억원, 2024년 6월 말 12조 5,738억 원까지 증가하였으며 원화대출금 중 비중은 0.2%(2022년 3월 말)에서 4.3%(2022년 말), 29.5%(2024년 6월 말)까지 증가하였다.', 'page': 4, 'type': 'paragraph'}\n",
      "page_content='카카오뱅크의 비대면 주택담보대출 규모가 빠른 속도로 확대되어 2024년 6월 말 기준 약 12조 5,700억 원이며, 개인사업자 신용대출 및 보증 대출 또한 빠르게 성장해 2023년 대출채권 성장률은 37.8%, 2024년 상반기에는 10.6%의 성장률을 보였다.' metadata={'company_name': '카카오뱅크', 'dir_route': './modules/datas/카카오뱅크_한국신용평가(2024.09.13)', 'file_name': '카카오뱅크_한국신용평가(2024.09.13).pdf', 'id': 124, 'investment': '한국신용평가(2024.09.13)', 'original_content': '2022년 2월 출시한 비대면 주택담보대출이 빠르게 확대되고 있다. 2024년 6월 말 주택담보대출 규 모는 약 12조 5,700억원으로 2022년 말(약 1조 2,000억원) 대비 약 11조 3,700억원 증가하였다. 주택담보대출 성장과 더불어, 2022년 11월 출시한 개인사업자 신용대출, 2023년 5월 출시한 개인 사업자 보증 대출도 빠르게 성장하여, 2023년 대출채권 성장률은 37.8%에 달하였다. 2024년 상반 기에도 10.6%의 높은 성장률을 보이며 빠르게 성장하고 있으며, 2024에도 업권 평균을 상회하는 성 장률을 보일 것으로 예상한다.', 'page': 8, 'type': 'paragraph'}\n",
      "page_content='카카오뱅크는 높은 브랜드 인지도와 편리한 모바일 앱을 바탕으로 개인고객을 다수 확보하며 빠른 속도로 성장하고 있으며, 특히 주택담보대출 상품 출시 후 고객 기반이 더욱 확대되고 있습니다. 2024년 6월 기준 대출채권 규모는 42.7조 원이며, 이는 전년 대비 37.8%, 금년 상반기 대비 10.6% 증가한 수치입니다. 이러한 성장세는 주로 주택담보대출 부문의 호조에 기인한 것으로 분석됩니다.' metadata={'company_name': '카카오뱅크', 'dir_route': './modules/datas/카카오뱅크_한국신용평가(2024.09.13)', 'file_name': '카카오뱅크_한국신용평가(2024.09.13).pdf', 'id': 49, 'investment': '한국신용평가(2024.09.13)', 'original_content': '동행은 리테일 뱅킹 시장에서 안정적인 시장지위를 구축하고 있다. 카카오 브랜드 인지도와 모바일 앱 인터페이스의 편의성 등을 기반으로 단기간에 일반은행 중 4대 시중은행에 이어 5번째로 많은 개 인고객을 확보하였으며, 가계대출 규모는 15개 일반은행 중 6번째로 크다. 2022년 2월 비대면 주택 담보대출 출시 이후 고객기반이 확장되며 리테일 뱅킹 시장 내 영향력이 확대되었다. 2024년 6월 말 대출채권 규모는 42.7조원으로 2023년 증가율이 37.8%, 2024년 상반기 증가율 10.6%의 업권 평 균을 크게 상회하는 증가율을 보이며 빠르게 성장하고 있다. 증가한 대출채권 약 10.6조원 중 주택담 보대출 증가가 7.9조원에 해당한다.', 'page': 3, 'type': 'paragraph'}\n",
      "\n",
      "다음 참고 문서를 반드시 활용하여 질문에 대한 명확하고 신뢰할 수 있는 답변을 작성하세요.\n",
      "\n",
      "답변은 500자 이내로 작성하세요.\n",
      "질문과 직접적으로 관련된 정보를 제공하세요.\n",
      "사실적으로 정확한 정보만 포함하세요.\n",
      "질문에 적절한 세부 정보를 포함하되, 명확하고 간결하게 작성하세요.\n",
      "출처를 반드시 명시하세요.\n",
      "\n",
      "질문: 2024년 6월 말 주택담보대출의 대출잔액은 얼마인가요?\n",
      "참고 문서: 카카오뱅크_한국신용평가(2024.09.13).pdf, 4 page : 가 계대출 내 포트폴리오 다각화는 꾸준히 개선되고 있다. 주택담보대출의 경우 2022년 2월 출시 후 대출잔액은 2022년 3월 말 468억원에서 2022년 말 1조 1,957억원, 2024년 6월 말 12조 5,738억 원까지 증가하였으며 원화대출금 중 비중은 0.2%(2022년 3월 말)에서 4.3%(2022년 말), 29.5%(2024년 6월 말)까지 증가하였다.\n",
      "카카오뱅크_한국신용평가(2024.09.13).pdf, 8 page : 2022년 2월 출시한 비대면 주택담보대출이 빠르게 확대되고 있다. 2024년 6월 말 주택담보대출 규 모는 약 12조 5,700억원으로 2022년 말(약 1조 2,000억원) 대비 약 11조 3,700억원 증가하였다. 주택담보대출 성장과 더불어, 2022년 11월 출시한 개인사업자 신용대출, 2023년 5월 출시한 개인 사업자 보증 대출도 빠르게 성장하여, 2023년 대출채권 성장률은 37.8%에 달하였다. 2024년 상반 기에도 10.6%의 높은 성장률을 보이며 빠르게 성장하고 있으며, 2024에도 업권 평균을 상회하는 성 장률을 보일 것으로 예상한다.\n",
      "카카오뱅크_한국신용평가(2024.09.13).pdf, 3 page : 동행은 리테일 뱅킹 시장에서 안정적인 시장지위를 구축하고 있다. 카카오 브랜드 인지도와 모바일 앱 인터페이스의 편의성 등을 기반으로 단기간에 일반은행 중 4대 시중은행에 이어 5번째로 많은 개 인고객을 확보하였으며, 가계대출 규모는 15개 일반은행 중 6번째로 크다. 2022년 2월 비대면 주택 담보대출 출시 이후 고객기반이 확장되며 리테일 뱅킹 시장 내 영향력이 확대되었다. 2024년 6월 말 대출채권 규모는 42.7조원으로 2023년 증가율이 37.8%, 2024년 상반기 증가율 10.6%의 업권 평 균을 크게 상회하는 증가율을 보이며 빠르게 성장하고 있다. 증가한 대출채권 약 10.6조원 중 주택담 보대출 증가가 7.9조원에 해당한다.\n",
      "정답:\n",
      "2024년 6월 말 카카오뱅크의 주택담보대출 잔액은 약 **12조 5,738억 원**입니다. \n",
      "\n",
      "**출처:** 카카오뱅크_한국신용평가(2024.09.13).pdf, 4 page\n",
      "[query]: 2024년 6월 말 주택담보대출의 대출잔액은 얼마인가요?\n",
      "----------------------------------------------------------------------------------------------------\n",
      "----------------------------------------------------------------------------------------------------\n",
      "[retrieval_results]: [Document(metadata={'company_name': '카카오뱅크', 'dir_route': './modules/datas/카카오뱅크_한국신용평가(2024.09.13)', 'file_name': '카카오뱅크_한국신용평가(2024.09.13).pdf', 'id': 68, 'investment': '한국신용평가(2024.09.13)', 'original_content': '가 계대출 내 포트폴리오 다각화는 꾸준히 개선되고 있다. 주택담보대출의 경우 2022년 2월 출시 후 대출잔액은 2022년 3월 말 468억원에서 2022년 말 1조 1,957억원, 2024년 6월 말 12조 5,738억 원까지 증가하였으며 원화대출금 중 비중은 0.2%(2022년 3월 말)에서 4.3%(2022년 말), 29.5%(2024년 6월 말)까지 증가하였다.', 'page': 4, 'type': 'paragraph'}, page_content='카카오뱅크의 가계대출 포트폴리오는 꾸준히 개선되고 있으며, 주택담보대출 잔액은 2022년 3월 말 468억 원에서 2024년 6월 말 12조 5,738억 원으로 크게 증가하였고 이는 원화 대출금 중 29.5%를 차지한다.'), Document(metadata={'company_name': '카카오뱅크', 'dir_route': './modules/datas/카카오뱅크_한국신용평가(2024.09.13)', 'file_name': '카카오뱅크_한국신용평가(2024.09.13).pdf', 'id': 124, 'investment': '한국신용평가(2024.09.13)', 'original_content': '2022년 2월 출시한 비대면 주택담보대출이 빠르게 확대되고 있다. 2024년 6월 말 주택담보대출 규 모는 약 12조 5,700억원으로 2022년 말(약 1조 2,000억원) 대비 약 11조 3,700억원 증가하였다. 주택담보대출 성장과 더불어, 2022년 11월 출시한 개인사업자 신용대출, 2023년 5월 출시한 개인 사업자 보증 대출도 빠르게 성장하여, 2023년 대출채권 성장률은 37.8%에 달하였다. 2024년 상반 기에도 10.6%의 높은 성장률을 보이며 빠르게 성장하고 있으며, 2024에도 업권 평균을 상회하는 성 장률을 보일 것으로 예상한다.', 'page': 8, 'type': 'paragraph'}, page_content='카카오뱅크의 비대면 주택담보대출 규모가 빠른 속도로 확대되어 2024년 6월 말 기준 약 12조 5,700억 원이며, 개인사업자 신용대출 및 보증 대출 또한 빠르게 성장해 2023년 대출채권 성장률은 37.8%, 2024년 상반기에는 10.6%의 성장률을 보였다.'), Document(metadata={'company_name': '카카오뱅크', 'dir_route': './modules/datas/카카오뱅크_한국신용평가(2024.09.13)', 'file_name': '카카오뱅크_한국신용평가(2024.09.13).pdf', 'id': 49, 'investment': '한국신용평가(2024.09.13)', 'original_content': '동행은 리테일 뱅킹 시장에서 안정적인 시장지위를 구축하고 있다. 카카오 브랜드 인지도와 모바일 앱 인터페이스의 편의성 등을 기반으로 단기간에 일반은행 중 4대 시중은행에 이어 5번째로 많은 개 인고객을 확보하였으며, 가계대출 규모는 15개 일반은행 중 6번째로 크다. 2022년 2월 비대면 주택 담보대출 출시 이후 고객기반이 확장되며 리테일 뱅킹 시장 내 영향력이 확대되었다. 2024년 6월 말 대출채권 규모는 42.7조원으로 2023년 증가율이 37.8%, 2024년 상반기 증가율 10.6%의 업권 평 균을 크게 상회하는 증가율을 보이며 빠르게 성장하고 있다. 증가한 대출채권 약 10.6조원 중 주택담 보대출 증가가 7.9조원에 해당한다.', 'page': 3, 'type': 'paragraph'}, page_content='카카오뱅크는 높은 브랜드 인지도와 편리한 모바일 앱을 바탕으로 개인고객을 다수 확보하며 빠른 속도로 성장하고 있으며, 특히 주택담보대출 상품 출시 후 고객 기반이 더욱 확대되고 있습니다. 2024년 6월 기준 대출채권 규모는 42.7조 원이며, 이는 전년 대비 37.8%, 금년 상반기 대비 10.6% 증가한 수치입니다. 이러한 성장세는 주로 주택담보대출 부문의 호조에 기인한 것으로 분석됩니다.')]\n",
      "----------------------------------------------------------------------------------------------------\n",
      "[answer]: 2024년 6월 말 카카오뱅크의 주택담보대출 잔액은 약 **12조 5,738억 원**입니다. \n",
      "\n",
      "**출처:** 카카오뱅크_한국신용평가(2024.09.13).pdf, 4 page\n",
      "----------------------------------------------------------------------------------------------------\n",
      "[Retrieval score]\n",
      "#### 1. Retrieval Evaluation (20 points):\n",
      "\n",
      "1. **Do any of the retrieved contexts show strong similarity to the Ground Truth?** (5 points)  \n",
      "   [Yes] - Justification: The retrieved contexts provide specific figures for the housing loan balance as of June 2024, which is the exact information requested in the query. The figures mentioned (12조 5,738억 원 and approximately 12조 5,700억 원) are very close to each other, indicating strong similarity to the expected answer.\n",
      "\n",
      "2. **Do the retrieved contexts collectively capture essential information from the Ground Truth?** (5 points)  \n",
      "   [Yes] - Justification: The retrieved documents collectively provide a comprehensive view of the housing loan balance, including historical context and growth trends, which are essential for understanding the current figure. They also mention the increase in loan amounts over time, which adds valuable context.\n",
      "\n",
      "3. **Do the retrieved contexts sufficiently address the user’s question?** (4 points)  \n",
      "   [Yes] - Justification: The retrieved contexts directly answer the user's question about the housing loan balance as of June 2024, providing specific numerical values that fulfill the query's requirements.\n",
      "\n",
      "4. **Are all retrieved contexts relevant to the Ground Truth or the user’s query?** (3 points)  \n",
      "   [Yes] - Justification: All retrieved contexts are relevant as they pertain to the housing loan balance and the performance of the bank's loan products. They do not contain irrelevant information that would distract from the user's query.\n",
      "\n",
      "5. **Does the combined length and number of retrieved contexts remain reasonable without overwhelming the user with excessive or irrelevant details?** (3 points)  \n",
      "   [Yes] - Justification: The number of retrieved contexts is appropriate, and the length of each context is manageable. They provide sufficient detail without overwhelming the user, maintaining focus on the query.\n",
      "\n",
      "**Total Retrieval Score**: [20 / 20]\n",
      "----------------------------------------------------------------------------------------------------\n",
      "[Generation score]\n",
      "#### 1. Generation Evaluation (30 points):\n",
      "\n",
      "1. **Is the final answer clearly relevant to the question and reflective of the user’s intent?** (5 points)  \n",
      "   [Yes] - Justification: The generated answer directly addresses the user's query about the mortgage loan balance at the end of June 2024, which is the core of the user's intent.\n",
      "\n",
      "2. **Is the answer factually correct and free from unsupported or inaccurate information?** (5 points)  \n",
      "   [Yes] - Justification: The generated answer states the loan balance as \"약 12조 5,738억 원,\" which matches the ground truth answer, confirming its factual accuracy.\n",
      "\n",
      "3. **Does the answer include all essential points required by the question and the ground_truth_answer?** (5 points)  \n",
      "   [Yes] - Justification: The generated answer includes the specific loan balance amount, which is the essential point required by the question and aligns with the ground truth.\n",
      "\n",
      "4. **Is the answer clear and concise, avoiding unnecessary repetition or ambiguity?** (5 points)  \n",
      "   [Yes] - Justification: The answer is straightforward and presents the information clearly without unnecessary details or repetition.\n",
      "\n",
      "5. **Is the answer logically structured, consistent with the context, and free of contradictions?** (3 points)  \n",
      "   [Yes] - Justification: The answer is logically structured, providing the relevant information in a coherent manner without any contradictions.\n",
      "\n",
      "6. **Does the answer provide sufficient detail for the question without being excessive?** (3 points)  \n",
      "   [Yes] - Justification: The answer provides the necessary detail regarding the loan balance without extraneous information, making it sufficient for the user's needs.\n",
      "\n",
      "7. **Does the answer provide proper citations or indications of the source when claims or data are referenced?** (2 points)  \n",
      "   [Yes] - Justification: The answer includes a citation from a credible source (카카오뱅크_한국신용평가), which supports the data provided.\n",
      "\n",
      "8. **Is the answer presented in a suitable format (list, table, short text, etc.) for the question?** (1 point)  \n",
      "   [Yes] - Justification: The answer is presented in a clear text format, which is appropriate for the nature of the question.\n",
      "\n",
      "9. **Does the answer offer any helpful extra insights or context that enrich the user’s understanding (without deviating from factual correctness)?** (1 point)  \n",
      "   [No] - Justification: While the answer is accurate and well-cited, it does not provide any additional insights or context beyond the requested information.\n",
      "\n",
      "**Total Generation Score**: 28 / 30\n"
     ]
    }
   ],
   "source": [
    "generated_answer, G_retrieval_score, G_generation_score = pipe.QA_eval(mode = 'ensemble', sampling = True)\n",
    "\n",
    "# validation 데이터셋의 무작위 샘플을 가져와 G-eval로 평가할 수 있습니다."
   ]
  },
  {
   "cell_type": "code",
   "execution_count": null,
   "metadata": {},
   "outputs": [
    {
     "name": "stderr",
     "output_type": "stream",
     "text": [
      "100%|██████████| 267/267 [1:29:53<00:00, 20.20s/it]"
     ]
    },
    {
     "name": "stdout",
     "output_type": "stream",
     "text": [
      "267 에 대한 평가를 마쳤습니다.\n"
     ]
    },
    {
     "name": "stderr",
     "output_type": "stream",
     "text": [
      "\n"
     ]
    }
   ],
   "source": [
    "eval_df = pipe.QA_eval(mode = 'ensemble', sampling = False) # sampling이 False일 경우, 모든 validation 데이터셋에 대해 평가를 진행합니다.\n"
   ]
  },
  {
   "cell_type": "code",
   "execution_count": 14,
   "metadata": {},
   "outputs": [],
   "source": [
    "import pandas as pd\n",
    "# retrieval G eval score과 generation G eval score의 점수 부분만 파싱합니다. (저장된 csv에는 전부 문자로 돼 있습니다.)\n",
    "\n",
    "eval_df['generation_score'] = eval_df['generation_score'].apply(lambda x: x[x.rfind('/')-3:x.rfind('/')])\n",
    "eval_df['retrieval_score'] = eval_df['retrieval_score'].apply(lambda x: x[x.rfind('/')-3:x.rfind('/')])\n",
    "eval_df['generation_score'] = pd.to_numeric(eval_df['generation_score'], errors = 'coerce')\n",
    "eval_df['retrieval_score'] = pd.to_numeric(eval_df['retrieval_score'], errors = 'coerce')"
   ]
  },
  {
   "cell_type": "code",
   "execution_count": 15,
   "metadata": {},
   "outputs": [
    {
     "data": {
      "text/plain": [
       "count    267.000000\n",
       "mean      28.026217\n",
       "std        3.888878\n",
       "min       12.000000\n",
       "25%       30.000000\n",
       "50%       30.000000\n",
       "75%       30.000000\n",
       "max       30.000000\n",
       "Name: generation_score, dtype: float64"
      ]
     },
     "execution_count": 15,
     "metadata": {},
     "output_type": "execute_result"
    }
   ],
   "source": [
    "eval_df['generation_score'].describe()"
   ]
  }
 ],
 "metadata": {
  "kernelspec": {
   "display_name": "base",
   "language": "python",
   "name": "python3"
  },
  "language_info": {
   "codemirror_mode": {
    "name": "ipython",
    "version": 3
   },
   "file_extension": ".py",
   "mimetype": "text/x-python",
   "name": "python",
   "nbconvert_exporter": "python",
   "pygments_lexer": "ipython3",
   "version": "3.10.13"
  }
 },
 "nbformat": 4,
 "nbformat_minor": 2
}
