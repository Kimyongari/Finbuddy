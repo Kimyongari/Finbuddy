{
 "cells": [
  {
   "cell_type": "code",
   "execution_count": null,
   "metadata": {},
   "outputs": [],
   "source": [
    "import os\n",
    "import sys\n",
    "project_root = os.getcwd()\n",
    "sys.path.append(project_root + '/modules')\n",
    "# Pipeline의 구조를 이해하기 쉽게 하기 위해 작성한 ipynb 파일입니다\n",
    "from modules.Pipeline import pipe_eval\n",
    "pipe = pipe_eval(verbose = True) # verbose를 False로 하면 print가 되지 않습니다.\n",
    "# collection_name = 'chrdb.db',\n",
    "# persist_directory = 'DB',\n",
    "# mode = 'NaverCloudEmb'\n",
    "# topk = 5\n",
    "# verbose = True : answer과 score을 보여줍니다. 보고싶지 않다면 False로 하면 됩니다.\n",
    "# default로 지정돼 있습니다. 클래스 선언 때 건네주면 바뀝니다.\n",
    "pipe.setup(model = 'GPT')\n",
    "#                   가능한 모델 (default GPT)\n",
    "#                   1. GPT\n",
    "#                   2. Exaone\n",
    "#                   3. Qwen14B\n",
    "#                   4. Qwen32B\n",
    "#                   5. HyperClova"
   ]
  },
  {
   "cell_type": "code",
   "execution_count": null,
   "metadata": {},
   "outputs": [],
   "source": [
    "# query = 'SK하이닉스의 2025~2027년 주주환원 정책에서 변경된 고정배당금과 추가 배당금의 활용 방안은 무엇인가요?'\n",
    "# query = 'NAVER의 분기별 실적 추이 및 전망에 대하여 알려줘'\n",
    "query = '한화솔루션의 태양광 부문에서 2024년 3분기와 4분기 판매량 감소의 주요 원인은 무엇인가요?'\n",
    "# query = '로스데렌탈의 업종지수에 대한 비중확대, 중립, 비중축소의 기준은 무엇인가요?'\n",
    "# validation데이터셋의 첫번째 question\n",
    "retrieval_result = pipe.Q(query, mode = 'ensemble')\n",
    "# bm25, dpr, ensemble 가능 (default 'ensemble')\n"
   ]
  },
  {
   "cell_type": "code",
   "execution_count": 3,
   "metadata": {},
   "outputs": [],
   "source": [
    "# print(retrieval_result[1].metadata['table'])"
   ]
  },
  {
   "cell_type": "code",
   "execution_count": null,
   "metadata": {},
   "outputs": [],
   "source": [
    "answer = pipe.A(query, retrieval_result)\n",
    "# query 와 retrieval 결과를 받아 answer을 냅니다.\n"
   ]
  },
  {
   "cell_type": "code",
   "execution_count": null,
   "metadata": {},
   "outputs": [],
   "source": [
    "len(answer)"
   ]
  },
  {
   "cell_type": "code",
   "execution_count": null,
   "metadata": {},
   "outputs": [],
   "source": [
    "answer = pipe.QA(query, mode = 'ensemble')\n",
    "# QA를 따로 내는 것이 아니라 한번에 정답을 얻을 수도 있습니다. 이후 정량평가에서는 QA를 사용하면 됩니다."
   ]
  },
  {
   "cell_type": "code",
   "execution_count": null,
   "metadata": {},
   "outputs": [],
   "source": [
    "len(answer)"
   ]
  },
  {
   "cell_type": "code",
   "execution_count": null,
   "metadata": {},
   "outputs": [],
   "source": [
    "generated_answer, G_retrieval_score, G_generation_score = pipe.QA_eval(mode = 'ensemble', sampling = True)\n",
    "\n",
    "# validation 데이터셋의 무작위 샘플을 가져와 G-eval로 평가할 수 있습니다."
   ]
  },
  {
   "cell_type": "code",
   "execution_count": null,
   "metadata": {},
   "outputs": [],
   "source": [
    "eval_df = pipe.QA_eval(mode = 'ensemble', sampling = False) # sampling이 False일 경우, 모든 validation 데이터셋에 대해 평가를 진행합니다.\n",
    "# 구현이 귀찮아서 일단 ./datas/g_eval_result_{model_name}.csv 경로에 저장되도록 하였습니다.."
   ]
  },
  {
   "cell_type": "code",
   "execution_count": null,
   "metadata": {},
   "outputs": [],
   "source": [
    "import pandas as pd\n",
    "# retrieval G eval score과 generation G eval score의 점수 부분만 파싱합니다. (저장된 csv에는 전부 문자로 돼 있습니다.)\n",
    "\n",
    "eval_df['generation_score'] = eval_df['generation_score'].apply(lambda x: x[x.rfind('/')-3:x.rfind('/')])\n",
    "eval_df['retrieval_score'] = eval_df['retrieval_score'].apply(lambda x: x[x.rfind('/')-3:x.rfind('/')])\n",
    "eval_df['generation_score'] = pd.to_numeric(eval_df['generation_score'], errors = 'coerce')\n",
    "eval_df['retrieval_score'] = pd.to_numeric(eval_df['retrieval_score'], errors = 'coerce')"
   ]
  },
  {
   "cell_type": "code",
   "execution_count": null,
   "metadata": {},
   "outputs": [],
   "source": [
    "eval_df['generation_score'].describe()"
   ]
  },
  {
   "cell_type": "code",
   "execution_count": null,
   "metadata": {},
   "outputs": [],
   "source": [
    "retrieval_result[0].metadata['type']"
   ]
  },
  {
   "cell_type": "code",
   "execution_count": 8,
   "metadata": {},
   "outputs": [],
   "source": [
    "table = \"\"\"|---------------------|--------|--------|-------|-------|-------|\n",
    "| 매출액              | 1,829  | 1,749  | 1,906 | 1,706 | 1,936 |\n",
    "| 영업이익            | 230    | 83     | 106   | 123   | 139   |\n",
    "| (증감률)            | -58.5  | -63.9  | 27.8  | 15.9  | 13.0  |\n",
    "| 지배주주순이익      | -      | -      | -     | -     | -     |\n",
    "| EPS                 | 10.73  | 10.71  | 11.5  | 12.0  | 12.5  |\n",
    "| PER (H/L)           | 14.5   | 38.9   | 24.3  | 11.5  | 10.5  |\n",
    "| PBR (H/L)           | 1.40   | 0.78   | 0.73  | -     | -     |\n",
    "| EV/EBITDA (H/L)     | -      | -      | -     | -     | -     |\n",
    "| 영업이익률          | -      | -      | -     | -     | -     |\n",
    "| ROE                 | -      | -      | -     | -     | -     |\"\"\""
   ]
  },
  {
   "cell_type": "code",
   "execution_count": 11,
   "metadata": {},
   "outputs": [],
   "source": [
    "import pandas as pd\n",
    "df = pd.read_csv('/data/ephemeral/home/clone/src/modules/datas/SK케미칼_DB금융투자(2024.11.06)/SK케미칼_DB금융투자(2024.11.06).csv')"
   ]
  },
  {
   "cell_type": "code",
   "execution_count": 21,
   "metadata": {},
   "outputs": [],
   "source": [
    "import pandas as pd\n",
    "import re\n",
    "\n",
    "def markdown_to_df(markdown_table: str) -> pd.DataFrame:\n",
    "    \"\"\"\n",
    "    마크다운 테이블을 Pandas DataFrame으로 변환하는 함수\n",
    "    \n",
    "    :param markdown_table: 마크다운 형식의 테이블 문자열\n",
    "    :return: 변환된 Pandas DataFrame\n",
    "    \"\"\"\n",
    "    lines = markdown_table.strip().split(\"\\n\")\n",
    "    \n",
    "    # 헤더 추출\n",
    "    headers = [h.strip() for h in lines[0].split(\"|\") if h.strip()]\n",
    "    \n",
    "    # 데이터 행 추출 (두 번째 줄은 구분선이므로 제외)\n",
    "    data_rows = lines[2:]\n",
    "    \n",
    "    # 데이터 처리\n",
    "    data = []\n",
    "    for row in data_rows:\n",
    "        values = [v.strip() for v in row.split(\"|\") if v.strip()]\n",
    "        data.append(values)\n",
    "    \n",
    "    # 데이터프레임 생성\n",
    "    df = pd.DataFrame(data, columns=headers)\n",
    "    return df"
   ]
  },
  {
   "cell_type": "code",
   "execution_count": 28,
   "metadata": {},
   "outputs": [],
   "source": [
    "df = pd.read_csv('/data/ephemeral/home/clone/src/modules/datas/SK케미칼_DB금융투자(2024.11.06)/SK케미칼_DB금융투자(2024.11.06).csv')\n",
    "\n"
   ]
  },
  {
   "cell_type": "code",
   "execution_count": null,
   "metadata": {},
   "outputs": [],
   "source": [
    "q = 'SK하이닉스의 2024년 핵심사업에 대해 알려줘.'\n",
    "result = pipe.Q(query)"
   ]
  },
  {
   "cell_type": "code",
   "execution_count": null,
   "metadata": {},
   "outputs": [],
   "source": [
    "for i in result:\n",
    "    print(i.metadata['type'])"
   ]
  },
  {
   "cell_type": "code",
   "execution_count": null,
   "metadata": {},
   "outputs": [],
   "source": [
    "print(answer1)"
   ]
  },
  {
   "cell_type": "code",
   "execution_count": null,
   "metadata": {},
   "outputs": [],
   "source": [
    "import os\n",
    "import sys\n",
    "project_root = os.getcwd()\n",
    "sys.path.append(project_root + '/modules')\n",
    "from Pipeline import pipe_service\n",
    "\n",
    "pipe = pipe_service()\n",
    "pipe.Q('SK하이닉스의 핵심사업에 대해 알려줘.')\n",
    "\n"
   ]
  },
  {
   "cell_type": "code",
   "execution_count": null,
   "metadata": {},
   "outputs": [],
   "source": []
  }
 ],
 "metadata": {
  "kernelspec": {
   "display_name": "base",
   "language": "python",
   "name": "python3"
  },
  "language_info": {
   "codemirror_mode": {
    "name": "ipython",
    "version": 3
   },
   "file_extension": ".py",
   "mimetype": "text/x-python",
   "name": "python",
   "nbconvert_exporter": "python",
   "pygments_lexer": "ipython3",
   "version": "3.10.13"
  }
 },
 "nbformat": 4,
 "nbformat_minor": 2
}
