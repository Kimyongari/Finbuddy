{
 "cells": [
  {
   "cell_type": "code",
   "execution_count": 1,
   "metadata": {},
   "outputs": [],
   "source": [
    "import sys\n",
    "import os "
   ]
  },
  {
   "cell_type": "code",
   "execution_count": 2,
   "metadata": {},
   "outputs": [
    {
     "name": "stderr",
     "output_type": "stream",
     "text": [
      "/opt/conda/lib/python3.10/site-packages/tqdm/auto.py:21: TqdmWarning: IProgress not found. Please update jupyter and ipywidgets. See https://ipywidgets.readthedocs.io/en/stable/user_install.html\n",
      "  from .autonotebook import tqdm as notebook_tqdm\n"
     ]
    },
    {
     "name": "stdout",
     "output_type": "stream",
     "text": [
      "🦥 Unsloth: Will patch your computer to enable 2x faster free finetuning.\n",
      "🦥 Unsloth Zoo will now patch everything to make training faster!\n",
      "생성된 DB가 있어 로드합니다.\n"
     ]
    },
    {
     "name": "stderr",
     "output_type": "stream",
     "text": [
      "/data/level4-nlp-finalproject-hackathon-nlp-09-lv3/src/modules/DB/chromadb_storing.py:105: LangChainDeprecationWarning: The class `Chroma` was deprecated in LangChain 0.2.9 and will be removed in 1.0. An updated version of the class exists in the :class:`~langchain-chroma package and should be used instead. To use it run `pip install -U :class:`~langchain-chroma` and import as `from :class:`~langchain_chroma import Chroma``.\n",
      "  self.db = Chroma(\n"
     ]
    },
    {
     "name": "stdout",
     "output_type": "stream",
     "text": [
      "Collection 'chrdb.db' loaded from 'modules/DB/DB_NaverCloudEmb'.\n",
      "Total documents in collection 'chrdb.db': 0\n"
     ]
    }
   ],
   "source": [
    "project_root = os.getcwd()\n",
    "sys.path.append(project_root + '/modules')\n",
    "# Pipeline의 구조를 이해하기 쉽게 하기 위해 작성한 ipynb 파일입니다\n",
    "from modules.Pipeline import pipe_eval\n",
    "pipe = pipe_eval(verbose = True) # verbose를 False로 하면 print가 되지 않습니다.\n",
    "# collection_name = 'chrdb.db',\n",
    "# persist_directory = 'DB',\n",
    "# mode = 'NaverCloudEmb'\n",
    "# topk = 5\n",
    "# verbose = True : answer과 score을 보여줍니다. 보고싶지 않다면 False로 하면 됩니다.\n",
    "# default로 지정돼 있습니다. 클래스 선언 때 건네주면 바뀝니다.\n",
    "pipe.setup(model = 'GPT')\n",
    "#                   가능한 모델 (default GPT)\n",
    "#                   1. GPT\n",
    "#                   2. Exaone\n",
    "#                   3. Qwen14B\n",
    "#                   4. Qwen32B"
   ]
  },
  {
   "cell_type": "code",
   "execution_count": null,
   "metadata": {},
   "outputs": [
    {
     "name": "stdout",
     "output_type": "stream",
     "text": [
      "page_content='교보증권의 분기별 실적 추이를 나타내는 표이다. 각 분기별로 매출액, 영업이익, 순이익 등 주요 지표들이 표시되어 있으며, 이를 통해 해당 기업의 경영 성과를 파악할 수 있다.' metadata={'id': 30, 'type': 'paragraph', 'image_route': nan, 'dir_route': 'datas/네이버_교보증권(2024.11.11)', 'file_name': '네이버_교보증권(2024.11.11).pdf', 'page': 2, 'investment': '교보증권(2024.11.11)', 'company_name': '네이버', 'table': nan, 'original_content': '1Q22 2Q22 3Q22 4Q22 1Q23 2Q23 3Q23 4Q23 1Q24 2Q24 3Q24'}\n",
      "page_content='카카오뱅크가 자산 성장 지속과 함께 2030년 ROE 15% 목표를 달성하려면 당기순이익이 1.3조 원까지 증가해야 하며, 이는 24년 예상이익 대비 198.6% 증가와 연평균 20% 수준의 이익 성장률을 의미한다. 이는 동사가 언급한 영업이익의 연평균 15% 이상 성장 목표를 상회하는 수준이다.' metadata={'id': 57, 'type': 'paragraph', 'image_route': nan, 'dir_route': 'datas/카카오뱅크_삼성증권(2024.11.27)', 'file_name': '카카오뱅크_삼성증권(2024.11.27).pdf', 'page': 4, 'investment': '삼성증권(2024.11.27)', 'company_name': '카카오뱅크', 'table': nan, 'original_content': '동사가 자산 성장의 지속과 더불어 2030년 ROE 15% 목표를 달성하기 위해서는 동사 당기순이익이 1.3 조원까지 증가할 필요가 있음. 이는 ’24년 예상이익 4,400억원대비 198.6% 증가를 의미하며, 연평균 20% 수준의 이익 성장률을 의미함. 참고로, 이는 동사가 계획 상 언급한 동사 영업이익의 연평균 15% 이상 성장 목표를 다소 상회하는 수준의 이익 증가속도를 시사.'}\n",
      "page_content='네이버의 3분기 실적은 매출액 2.7조 원, 영업이익 5,253억 원으로 전년 동기 대비 각각 11.1%, 38.2% 상승하였으며, 이는 컨센서스를 상회하는 수치이다. 특히 디스플레이 광고가 시장 회복 지연에도 불구하고 고효율 상품 확대로 11.0% 성장한 것이 고무적이며, 효율적인 리소스 배치로 수익성이 꾸준히 개선되고 있다.' metadata={'id': 6, 'type': 'paragraph', 'image_route': nan, 'dir_route': 'datas/네이버_SK증권(2024.11.18)', 'file_name': '네이버_SK증권(2024.11.18).pdf', 'page': 1, 'investment': 'SK증권(2024.11.18)', 'company_name': '네이버', 'table': nan, 'original_content': '매출액 2.7 조원(+11.1% YoY, 이하 동일), 영업이익 5,253 억원(+38.2%), 지배주주 순이익 5,204 억원(+38.5%)으로 영업이익은 컨센서스를 상회했다. 서치플랫폼이 +11.0% 성장하며 예상을 상회했다. 검색광고(+9.5%)는 견조, 특히 디스플레이 광고 가 시장 회복 지연에도 불구하고 고효율 상품 확대로 +11.0% 성장한 점이 고무적이 다. 영업비용은 커머스 프로모션 확대로 마케팅비가 증가했음에도 전체 비용이 +6.1% 증가에 그치며 잘 통제되는 모습을 보였다. 효율적인 리소스 배치로 수익성은 꾸준히 개선되고 있다(OPM: 1Q23 14.5%-> 4Q23 16.0%-> 3Q24 19.3%).'}\n",
      "page_content='카카오뱅크는 28년부터 자산성장률이 15%로 둔화될 것으로 예상되며, 이는 동사의 연평균 영업이익 성장률 및 지속 성장 기조를 고려한 결과이다.' metadata={'id': 63, 'type': 'paragraph', 'image_route': nan, 'dir_route': 'datas/카카오뱅크_삼성증권(2024.11.27)', 'file_name': '카카오뱅크_삼성증권(2024.11.27).pdf', 'page': 4, 'investment': '삼성증권(2024.11.27)', 'company_name': '카카오뱅크', 'table': nan, 'original_content': '한편, ’28년 이후의 자산성장에 대한 목표는 금번 계획에 포함되지 않았음. 다만, 우리는 ’28년부터는 자산성장률이 15%로 소폭 둔화되는 것으로 가정하였는데, 이는 동사의 연평균 영업이익 성장률 15%와 지속 성장 기조를 감안하였기 때문.'}\n",
      "page_content='LG화학의 4분기 영업이익은 GM 등의 연말 재고 조정 영향으로 출하량/AMPC가 축소되어  LGES 영업 이익이 적자 전환하고, 양극재를 중심으로 첨단소재 영업이익도 감소할 것으로 추정되나 환율 상승과 원료가/운임 하락에 따른 영향 덕분에 석유화학 영업이익은 개선 될 것으로 예상 된다.' metadata={'id': 7, 'type': 'paragraph', 'image_route': nan, 'dir_route': 'datas/LG화학_하나증권(2024.10.29)', 'file_name': 'LG화학_하나증권(2024.10.29).pdf', 'page': 1, 'investment': '하나증권(2024.10.29)', 'company_name': 'LG화학', 'table': nan, 'original_content': '4Q24 영업이익은 -1,123억원(QoQ 적전, YoY 적전)으로 현재 컨센서스(5,665억원)을 크게 하회할 전망이다. GM 등의 연말 재고 조정 영향으로 출하량/AMPC가 축소되어 LGES 영업 이익이 적자전환(-2천억원)하고, 이에 따라 양극재를 중심으로 첨단소재 영업이익도 감소할 것으로 추정되기 때문이다. 석유화학 영업이익은 255억원(QoQ 흑전)으로 개선이 예상된다. 환율 상승과 원료가/운임 하락에 따른 영향 덕분이다. 중국의 통화/재정 정책 등에 따른 시 황의 점진적 개선도 예상된다. 첨단소재 영업이익은 1,033억원으로 QoQ -31% 감익을 추정 한다. IT/반도체소재/EP 모두 연말 재고조정 등 영향으로 수익성이 감소하고, 양극재 또한 영업이익이 120억원(OPM 2.3%)으로 감소하기 때문이다. 양극재의 판가는 QoQ -10%, 판 매량은 QoQ -30% 축소될 것으로 추정되며, 이에 따라 전분기 대비 수익성도 약화될 것으 로 예상한다.'}\n"
     ]
    }
   ],
   "source": [
    "# query = 'SK하이닉스의 2025~2027년 주주환원 정책에서 변경된 고정배당금과 추가 배당금의 활용 방안은 무엇인가요?'\n",
    "query = 'NAVER의 분기별 실적 추이 및 전망에 대하여 알려줘'\n",
    "# validation데이터셋의 첫번째 question\n",
    "retrieval_result = pipe.Q(query, mode = 'ensemble')\n",
    "# bm25, dpr, ensemble 가능 (default 'ensemble')\n"
   ]
  },
  {
   "cell_type": "code",
   "execution_count": 6,
   "metadata": {},
   "outputs": [
    {
     "name": "stdout",
     "output_type": "stream",
     "text": [
      "nan\n"
     ]
    }
   ],
   "source": [
    "print(retrieval_result[1].metadata['table'])"
   ]
  },
  {
   "cell_type": "code",
   "execution_count": 4,
   "metadata": {},
   "outputs": [
    {
     "name": "stdout",
     "output_type": "stream",
     "text": [
      "\n",
      "다음 참고 문서를 반드시 활용하여 질문에 대한 정확하고 간결한 답변을 작성하세요. \n",
      "답변은 반드시 질문과 관련된 사실에 기반하며, 불필요한 반복이나 모호함 없이 핵심 내용을 포함해야 합니다. \n",
      "200자를 초과하지 않도록 작성하세요.\n",
      "\n",
      "질문: SK하이닉스의 2025~2027년 주주환원 정책에서 변경된 고정배당금과 추가 배당금의 활용 방안은 무엇인가요?\n",
      "참고 문서1: SK하이닉스는 장 종료 후에 향후 3개년간 주주환원 쟁책을 공시했다. 기존 3개년 주주환 원 정책에서 변화가 생겼다. 변경된 부분의 핵심은 연간 고정배당금을 기존 1,200원에서 1,500원으로 상향하고, 기존 정책 하에서 지급하던 추가 배당금이었던 연간 Free Cash Flow의 5% 재원을 재무 건전성 강화에 우선 활용한다는 점이다. 아울러 정책 종료 후 총 재원 안에서 재무 건전성 목표가 달성되면 추가 환원을 실행하거나, 유의미한 수준의 Free Cash Flow 창출이 예상되는 경우에 조기 환원도 가능하다고 언급했다. 다시 설명하 자면 2025~2027년까지 3년 누적 Free Cash Flow의 50% 수준을 총 재원으로 설정하는 것은 기존과 동일하다. 다만, 기존에 매년 지급하던 FCF 내 5%의 추가 배당금을 앞으로 는 재무 건전성 강화로 사용하는 대신에 정책 종료 후 FCF 50% 수준 안에서 여유 재원을 기반으로 한 추가 환원을 결정한 것이다. 메모리 업황 특성상 변동성이 크기 때문에 예측 가능한 주주환원 규모를 선정하기 어렵기 때문에 3년 누적의 Free Cash Flow 선정은 동종 업체들의 정책과도 일맥상통하는 부분이다. 또한, SK하이닉스의 재무 건전성이 경쟁사들보 다 열위에 있던 점을 고려하면 금번 주주환원 정책 발표는 합리적인 결정이라 판단한다.\n",
      "참고 문서2: 기업가치 제고계획 목표 4. ’24~’25년 주주환원율 50% 도달 이후 ’27년부터 DPS 유지 또 는 점진적 상향 – 배당 중심 주주환원 정책 예상: 동사의 주주환원 정책은 자사주 매입 및 소각보다는 배당 확대가 보다 현실적일 것으로 판단. 이에, DPS는 주주환원율 상향 계획에 따라 2026년까지 고성장을 지속한 후, 이익 증가 속도와 유사한 흐름을 전망.\n",
      "참고 문서3: 일차적으로 동사의 DPS는 ’26년까지 고성장을 보일 것으로 전망. 이는 동사의 두 자릿수 자산 및 이익 성장과 더불어 주주환원율이 점진적으로 높아지고, 주주환원은 배당을 중심으로 이뤄질 것으로 가정하 였기 때문.\n",
      "참고 문서4: 4. 목표: ’24~’26년 주주환원율 50% 도달 이후 ’27년부터 DPS 유지 또는 점진적 상향 – 시사점: 배당 중심 주주환원 정책 예상\n",
      "참고 문서5: 이번에 발표된 향후 3년간 주주환원 정책과 기업가치 제고 계획에 대해 다소 실망스러운 시장 반응이 있을 수 있다. 다만, 메모리 업종은 주주환원보다 기술 리더십이 우선시 되어 야 한다. 그럼에도 불구하고 변동성 높은 업황 안에서 주주환원을 안정화시키려는 의도에 주목해야 한다는 판단이다. 글로벌 메모리 3사 중 재무 건전성 측면에서 상대적으로 열위 에 있었다는 이유로 밸류에이션 할인이 있었다는 점 또한 부인할 수 없다. 향후에 SK하이 닉스의 재무 건전성이 강화된다면, 중장기적으로 주주환원 강화와 연결될 수 있고, 나아가 밸류에이션 할증에 대한 정당성도 확보할 수 있다는 점을 고려할 필요가 있다.\"\n",
      "정답:\n",
      "SK하이닉스의 2025~2027년 주주환원 정책에서 변경된 내용은 다음과 같습니다:\n",
      "\n",
      "1. **고정배당금 상향**: 연간 고정배당금을 1,500원으로 인상합니다.\n",
      "2. **추가 배당금 활용**: 기존의 연간 Free Cash Flow(FCF) 5% 대신, 재무 건전성 강화에 우선적으로 재원을 사용합니다. 정책 종료 후 재무 건전성이 개선되면, 남은 재원을 기반으로 추가 배당 또는 조기 환원을 고려합니다.\n",
      "\n",
      "핵심은 재무 안정성 강화를 우선시하면서, 이후 성과에 따라 유연하게 주주 환원을 확대하는 전략입니다.\n"
     ]
    }
   ],
   "source": [
    "answer = pipe.A(query, retrieval_result)\n",
    "# query 와 retrieval 결과를 받아 answer을 냅니다.\n"
   ]
  },
  {
   "cell_type": "code",
   "execution_count": 5,
   "metadata": {},
   "outputs": [
    {
     "data": {
      "text/plain": [
       "'SK하이닉스의 2025~2027년 주주환원 정책에서 변경된 내용은 다음과 같습니다:\\n\\n1. **고정배당금 상향**: 연간 고정배당금을 1,500원으로 인상합니다.\\n2. **추가 배당금 활용**: 기존의 연간 Free Cash Flow(FCF) 5% 대신, 재무 건전성 강화에 우선적으로 재원을 사용합니다. 정책 종료 후 재무 건전성이 개선되면, 남은 재원을 기반으로 추가 배당 또는 조기 환원을 고려합니다.\\n\\n핵심은 재무 안정성 강화를 우선시하면서, 이후 성과에 따라 유연하게 주주 환원을 확대하는 전략입니다.'"
      ]
     },
     "execution_count": 5,
     "metadata": {},
     "output_type": "execute_result"
    }
   ],
   "source": [
    "answer"
   ]
  },
  {
   "cell_type": "code",
   "execution_count": 4,
   "metadata": {},
   "outputs": [],
   "source": [
    "answer = pipe.QA(query, mode = 'ensemble')\n",
    "# QA를 따로 내는 것이 아니라 한번에 정답을 얻을 수도 있습니다. 이후 정량평가에서는 QA를 사용하면 됩니다."
   ]
  },
  {
   "cell_type": "code",
   "execution_count": 2,
   "metadata": {},
   "outputs": [
    {
     "name": "stdout",
     "output_type": "stream",
     "text": [
      "page_content='카카오뱅크는 대출 갈아타기 시행 후 신용대출, 주택담보대출, 전월세보증금 대출에서 유입액이 유출액을 크게 웃돌고 있으며, 신규 상품 출시와 경쟁심화 기조로 인해 성장세가 이어질 것으로 예상된다.' metadata={'company_name': '카카오뱅크', 'dir_route': 'datas/카카오뱅크_한국신용평가(2024.09.13)', 'file_name': '카카오뱅크_한국신용평가(2024.09.13).pdf', 'id': 51, 'investment': '한국신용평가(2024.09.13)', 'original_content': '대 출 갈아타기 시행 이후(신용대출은 2023년 5월 시행, 주택담보대출 및 전월세보증금 대출은 2024 년부터 시행), 신용대출, 주택담보대출, 전월세보증금 대출 각각 유입금액이 유출 금액을 크게 상회하 고 있다. 지속적으로 신규 상품을 출시하고 있는 점, 은행의 경쟁심화 기조가 유리하게 작용하고 있는 점 등을 고려할 때, 동행의 성장추세는 당분간 지속될 것으로 판단한다.', 'page': 3, 'type': 'paragraph'}\n",
      "page_content='카카오뱅크는 높은 브랜드 인지도와 편리한 모바일 앱을 바탕으로 개인고객을 많이 확보했으며, 특히 주택담보대출 상품 출시 후 고객 기반이 더욱 넓어졌다. 그 결과 대출채권 규모가 빠른 속도로 증가해 2024년 6월 말에는 42.7조 원에 달했고, 이는 전년 대비 37.8%, 올해 상반기 대비 10.6% 상승한 수치이다. 이러한 성장세는 주로 주택담보대출 분야에서의 성과 덕분이며, 전체 대출채권 증가액 중 7.9조 원이 주택담보대출 증가분이었다.' metadata={'company_name': '카카오뱅크', 'dir_route': 'datas/카카오뱅크_한국신용평가(2024.09.13)', 'file_name': '카카오뱅크_한국신용평가(2024.09.13).pdf', 'id': 50, 'investment': '한국신용평가(2024.09.13)', 'original_content': '동행은 리테일 뱅킹 시장에서 안정적인 시장지위를 구축하고 있다. 카카오 브랜드 인지도와 모바일 앱 인터페이스의 편의성 등을 기반으로 단기간에 일반은행 중 4대 시중은행에 이어 5번째로 많은 개 인고객을 확보하였으며, 가계대출 규모는 15개 일반은행 중 6번째로 크다. 2022년 2월 비대면 주택 담보대출 출시 이후 고객기반이 확장되며 리테일 뱅킹 시장 내 영향력이 확대되었다. 2024년 6월 말 대출채권 규모는 42.7조원으로 2023년 증가율이 37.8%, 2024년 상반기 증가율 10.6%의 업권 평 균을 크게 상회하는 증가율을 보이며 빠르게 성장하고 있다. 증가한 대출채권 약 10.6조원 중 주택담 보대출 증가가 7.9조원에 해당한다.', 'page': 3, 'type': 'paragraph'}\n",
      "page_content='카카오뱅크의 주택담보대출 규모가 2022년 말 대비 크게 증가하였으며, 개인사업자 신용대출 및 보증 대출 또한 빠르게 성장하며 전체 대출채권 성장률이 상승하였고, 이와 같은 추세는 2024년에도 지속될 것으로 전망된다.' metadata={'company_name': '카카오뱅크', 'dir_route': 'datas/카카오뱅크_한국신용평가(2024.09.13)', 'file_name': '카카오뱅크_한국신용평가(2024.09.13).pdf', 'id': 129, 'investment': '한국신용평가(2024.09.13)', 'original_content': '2022년 2월 출시한 비대면 주택담보대출이 빠르게 확대되고 있다. 2024년 6월 말 주택담보대출 규 모는 약 12조 5,700억원으로 2022년 말(약 1조 2,000억원) 대비 약 11조 3,700억원 증가하였다. 주택담보대출 성장과 더불어, 2022년 11월 출시한 개인사업자 신용대출, 2023년 5월 출시한 개인 사업자 보증 대출도 빠르게 성장하여, 2023년 대출채권 성장률은 37.8%에 달하였다. 2024년 상반 기에도 10.6%의 높은 성장률을 보이며 빠르게 성장하고 있으며, 2024에도 업권 평균을 상회하는 성 장률을 보일 것으로 예상한다.', 'page': 8, 'type': 'paragraph'}\n",
      "page_content='카카오뱅크의 가계 대출 포트폴리오는 지속적으로 개선되고 있으며, 주택담보대출 잔액은 2022년 3월말 468억 원에서 2024년 6월 말 12조 5,738억 원으로 크게 증가하였고, 원화 대출금 중 비중도 29.5%까지 상승했다.' metadata={'company_name': '카카오뱅크', 'dir_route': 'datas/카카오뱅크_한국신용평가(2024.09.13)', 'file_name': '카카오뱅크_한국신용평가(2024.09.13).pdf', 'id': 70, 'investment': '한국신용평가(2024.09.13)', 'original_content': '가 계대출 내 포트폴리오 다각화는 꾸준히 개선되고 있다. 주택담보대출의 경우 2022년 2월 출시 후 대출잔액은 2022년 3월 말 468억원에서 2022년 말 1조 1,957억원, 2024년 6월 말 12조 5,738억 원까지 증가하였으며 원화대출금 중 비중은 0.2%(2022년 3월 말)에서 4.3%(2022년 말), 29.5%(2024년 6월 말)까지 증가하였다.', 'page': 4, 'type': 'paragraph'}\n",
      "page_content='카카오뱅크는 당국의 방침에 따라 2023년 말 기준 중∙저신용자 대출 비중을 전체 신용대출의 30.4%까지 확대하였으며, 2024년 6월 말 기준 개인 및 개인사업자 신용대출의 중저신용자 비중은 32.4%이다.' metadata={'id': 73, 'type': 'paragraph', 'image_route': nan, 'dir_route': 'datas/카카오뱅크_한국신용평가(2024.09.13)', 'file_name': '카카오뱅크_한국신용평가(2024.09.13).pdf', 'page': 5, 'investment': '한국신용평가(2024.09.13)', 'company_name': '카카오뱅크', 'table': nan, 'original_content': '한편, 동행은 금융당국의 중∙저신용자 대출 확대 방안에 따라, 2023년 말 기준 중∙저신용자 대출 비중 을 전체 신용대출의 30.4%까지 확대하였다. 2024년부터는 가계신용 대출 뿐 아니라 개인사업자의 신용대출 및 서민금융대출 중 보증한도 초과 대출잔액이 비중 산출에 포함되며, 평잔 기준으로 중∙저 신용자 대출 비중을 30% 이상으로 유지하여야 한다. 2024년 6월 말 기준 개인 및 개인사업자 신용 대출의 중저신용자 비중은 32.4%이다.'}\n",
      "\n",
      "주어지는 참고 문서들을 반드시 활용하여 질문에 100자 이내의 정답을 말하세요.\n",
      "질문: 카카오뱅크의 신용대출, 주택담보대출, 전월세보증금 대출의 유입금액이 유출금액을 상회하는 이유는 무엇인가요?\n",
      "참고 문서1: 대 출 갈아타기 시행 이후(신용대출은 2023년 5월 시행, 주택담보대출 및 전월세보증금 대출은 2024 년부터 시행), 신용대출, 주택담보대출, 전월세보증금 대출 각각 유입금액이 유출 금액을 크게 상회하 고 있다. 지속적으로 신규 상품을 출시하고 있는 점, 은행의 경쟁심화 기조가 유리하게 작용하고 있는 점 등을 고려할 때, 동행의 성장추세는 당분간 지속될 것으로 판단한다.\n",
      "참고 문서2: 동행은 리테일 뱅킹 시장에서 안정적인 시장지위를 구축하고 있다. 카카오 브랜드 인지도와 모바일 앱 인터페이스의 편의성 등을 기반으로 단기간에 일반은행 중 4대 시중은행에 이어 5번째로 많은 개 인고객을 확보하였으며, 가계대출 규모는 15개 일반은행 중 6번째로 크다. 2022년 2월 비대면 주택 담보대출 출시 이후 고객기반이 확장되며 리테일 뱅킹 시장 내 영향력이 확대되었다. 2024년 6월 말 대출채권 규모는 42.7조원으로 2023년 증가율이 37.8%, 2024년 상반기 증가율 10.6%의 업권 평 균을 크게 상회하는 증가율을 보이며 빠르게 성장하고 있다. 증가한 대출채권 약 10.6조원 중 주택담 보대출 증가가 7.9조원에 해당한다.\n",
      "참고 문서3: 2022년 2월 출시한 비대면 주택담보대출이 빠르게 확대되고 있다. 2024년 6월 말 주택담보대출 규 모는 약 12조 5,700억원으로 2022년 말(약 1조 2,000억원) 대비 약 11조 3,700억원 증가하였다. 주택담보대출 성장과 더불어, 2022년 11월 출시한 개인사업자 신용대출, 2023년 5월 출시한 개인 사업자 보증 대출도 빠르게 성장하여, 2023년 대출채권 성장률은 37.8%에 달하였다. 2024년 상반 기에도 10.6%의 높은 성장률을 보이며 빠르게 성장하고 있으며, 2024에도 업권 평균을 상회하는 성 장률을 보일 것으로 예상한다.\n",
      "참고 문서4: 가 계대출 내 포트폴리오 다각화는 꾸준히 개선되고 있다. 주택담보대출의 경우 2022년 2월 출시 후 대출잔액은 2022년 3월 말 468억원에서 2022년 말 1조 1,957억원, 2024년 6월 말 12조 5,738억 원까지 증가하였으며 원화대출금 중 비중은 0.2%(2022년 3월 말)에서 4.3%(2022년 말), 29.5%(2024년 6월 말)까지 증가하였다.\n",
      "참고 문서5: 한편, 동행은 금융당국의 중∙저신용자 대출 확대 방안에 따라, 2023년 말 기준 중∙저신용자 대출 비중 을 전체 신용대출의 30.4%까지 확대하였다. 2024년부터는 가계신용 대출 뿐 아니라 개인사업자의 신용대출 및 서민금융대출 중 보증한도 초과 대출잔액이 비중 산출에 포함되며, 평잔 기준으로 중∙저 신용자 대출 비중을 30% 이상으로 유지하여야 한다. 2024년 6월 말 기준 개인 및 개인사업자 신용 대출의 중저신용자 비중은 32.4%이다.\n",
      "정답:\n",
      "신규 상품 출시와 은행 간 경쟁 심화로 인한 고객 유치 증가 및 대출 확대 때문입니다.\n",
      "[query]: 카카오뱅크의 신용대출, 주택담보대출, 전월세보증금 대출의 유입금액이 유출금액을 상회하는 이유는 무엇인가요?\n",
      "----------------------------------------------------------------------------------------------------\n",
      "----------------------------------------------------------------------------------------------------\n",
      "[answer]: 신규 상품 출시와 은행 간 경쟁 심화로 인한 고객 유치 증가 및 대출 확대 때문입니다.\n",
      "----------------------------------------------------------------------------------------------------\n",
      "[Retrieval score]\n",
      "#### 1. Retrieval Evaluation (20 points):\n",
      "\n",
      "1. **Do any of the retrieved contexts show strong similarity to the Ground Truth?** (5 points)  \n",
      "   [Yes] - Justification: The retrieved contexts provide detailed information about 카카오뱅크's loan products, specifically credit loans, housing mortgage loans, and rental deposit loans, which directly relate to the user's query regarding the inflow and outflow amounts. The contexts discuss the reasons for the inflow exceeding the outflow, aligning closely with the expected answer.\n",
      "\n",
      "2. **Do the retrieved contexts collectively capture essential information from the Ground Truth?** (5 points)  \n",
      "   [Yes] - Justification: The retrieved documents collectively present essential information about 카카오뱅크's growth in loan products, the impact of new product launches, and competitive dynamics in the banking sector, which are crucial to understanding why inflows exceed outflows.\n",
      "\n",
      "3. **Do the retrieved contexts sufficiently address the user’s question?** (4 points)  \n",
      "   [Yes] - Justification: The contexts address the user's question by explaining the reasons behind the inflow exceeding the outflow, including the introduction of new products and the competitive environment, thus providing a comprehensive answer.\n",
      "\n",
      "4. **Are all retrieved contexts relevant to the Ground Truth or the user’s query?** (3 points)  \n",
      "   [Yes] - Justification: All retrieved contexts are relevant as they focus on 카카오뱅크's loan products and their performance, which is directly related to the user's inquiry about inflow and outflow amounts.\n",
      "\n",
      "5. **Does the combined length and number of retrieved contexts remain reasonable without overwhelming the user with excessive or irrelevant details?** (3 points)  \n",
      "   [Yes] - Justification: The number of retrieved contexts is appropriate, and the information is concise and relevant, ensuring that the user is not overwhelmed with excessive details while still receiving comprehensive insights.\n",
      "\n",
      "**Total Retrieval Score**: [20 / 20]\n",
      "----------------------------------------------------------------------------------------------------\n",
      "[Generation score]\n",
      "#### 2. Generation Evaluation (30 points):\n",
      "\n",
      "1. **Is the final answer clearly relevant to the question and reflective of the user’s intent?** (5 points)  \n",
      "   [Yes] - Justification: The generated answer addresses the user's question about why the inflow of funds exceeds outflow in Kakao Bank's loans, focusing on customer acquisition and loan expansion.\n",
      "\n",
      "2. **Is the answer factually correct and free from unsupported or inaccurate information?** (5 points)  \n",
      "   [Yes] - Justification: The answer accurately reflects the reasons for the inflow exceeding outflow, aligning with the context of increased competition and new product launches.\n",
      "\n",
      "3. **Does the answer include all essential points required by the question and the ground_truth_answer?** (5 points)  \n",
      "   [No] - Justification: While the generated answer captures the essence of the ground truth, it omits the specific mention of \"loan refinancing\" which is a key factor in the original answer.\n",
      "\n",
      "4. **Is the answer clear and concise, avoiding unnecessary repetition or ambiguity?** (5 points)  \n",
      "   [Yes] - Justification: The answer is straightforward and avoids unnecessary complexity, making it easy to understand.\n",
      "\n",
      "5. **Is the answer logically structured, consistent with the context, and free of contradictions?** (3 points)  \n",
      "   [Yes] - Justification: The answer follows a logical flow and is consistent with the context of the question, with no contradictions present.\n",
      "\n",
      "6. **Does the answer provide sufficient detail for the question without being excessive?** (3 points)  \n",
      "   [Yes] - Justification: The answer provides adequate detail regarding the reasons for the inflow exceeding outflow without overwhelming the user with excessive information.\n",
      "\n",
      "7. **Does the answer provide proper citations or indications of the source when claims or data are referenced?** (2 points)  \n",
      "   [No] - Justification: The generated answer does not reference any sources or provide citations for the claims made, which is a missed opportunity for credibility.\n",
      "\n",
      "8. **Is the answer presented in a suitable format (list, table, short text, etc.) for the question?** (1 point)  \n",
      "   [Yes] - Justification: The answer is presented in a clear text format, which is appropriate for the nature of the question.\n",
      "\n",
      "9. **Does the answer offer any helpful extra insights or context that enrich the user’s understanding (without deviating from factual correctness)?** (1 point)  \n",
      "   [No] - Justification: The answer does not provide any additional insights or context beyond the basic explanation, which could have enhanced understanding.\n",
      "\n",
      "**Total Generation Score**: 21 / 30\n"
     ]
    }
   ],
   "source": [
    "generated_answer, G_retrieval_score, G_generation_score = pipe.QA_eval(mode = 'ensemble', sampling = True)\n",
    "\n",
    "# validation 데이터셋의 무작위 샘플을 가져와 G-eval로 평가할 수 있습니다."
   ]
  },
  {
   "cell_type": "code",
   "execution_count": 2,
   "metadata": {},
   "outputs": [
    {
     "ename": "NameError",
     "evalue": "name 'pipe' is not defined",
     "output_type": "error",
     "traceback": [
      "\u001b[0;31m---------------------------------------------------------------------------\u001b[0m",
      "\u001b[0;31mNameError\u001b[0m                                 Traceback (most recent call last)",
      "Cell \u001b[0;32mIn[2], line 1\u001b[0m\n\u001b[0;32m----> 1\u001b[0m eval_df \u001b[38;5;241m=\u001b[39m \u001b[43mpipe\u001b[49m\u001b[38;5;241m.\u001b[39mQA_eval(mode \u001b[38;5;241m=\u001b[39m \u001b[38;5;124m'\u001b[39m\u001b[38;5;124mensemble\u001b[39m\u001b[38;5;124m'\u001b[39m, sampling \u001b[38;5;241m=\u001b[39m \u001b[38;5;28;01mFalse\u001b[39;00m)\n",
      "\u001b[0;31mNameError\u001b[0m: name 'pipe' is not defined"
     ]
    }
   ],
   "source": [
    "eval_df = pipe.QA_eval(mode = 'ensemble', sampling = False) # sampling이 False일 경우, 모든 validation 데이터셋에 대해 평가를 진행합니다.\n",
    "# 구현이 귀찮아서 일단 ./datas/g_eval_result_{model_name}.csv 경로에 저장되도록 하였습니다.."
   ]
  },
  {
   "cell_type": "code",
   "execution_count": 3,
   "metadata": {},
   "outputs": [],
   "source": [
    "import pandas as pd\n",
    "# retrieval G eval score과 generation G eval score의 점수 부분만 파싱합니다. (저장된 csv에는 전부 문자로 돼 있습니다.)\n",
    "\n",
    "eval_df['generation_score'] = eval_df['generation_score'].apply(lambda x: x[x.rfind('/')-3:x.rfind('/')])\n",
    "eval_df['retrieval_score'] = eval_df['retrieval_score'].apply(lambda x: x[x.rfind('/')-3:x.rfind('/')])\n",
    "eval_df['generation_score'] = pd.to_numeric(eval_df['generation_score'], errors = 'coerce')\n",
    "eval_df['retrieval_score'] = pd.to_numeric(eval_df['retrieval_score'], errors = 'coerce')"
   ]
  },
  {
   "cell_type": "code",
   "execution_count": 4,
   "metadata": {},
   "outputs": [
    {
     "data": {
      "text/plain": [
       "count    264.000000\n",
       "mean      18.329545\n",
       "std        3.392191\n",
       "min       10.000000\n",
       "25%       16.000000\n",
       "50%       18.000000\n",
       "75%       19.000000\n",
       "max       26.000000\n",
       "Name: generation_score, dtype: float64"
      ]
     },
     "execution_count": 4,
     "metadata": {},
     "output_type": "execute_result"
    }
   ],
   "source": [
    "eval_df['generation_score'].describe()"
   ]
  },
  {
   "cell_type": "code",
   "execution_count": null,
   "metadata": {},
   "outputs": [],
   "source": []
  }
 ],
 "metadata": {
  "kernelspec": {
   "display_name": "base",
   "language": "python",
   "name": "python3"
  },
  "language_info": {
   "codemirror_mode": {
    "name": "ipython",
    "version": 3
   },
   "file_extension": ".py",
   "mimetype": "text/x-python",
   "name": "python",
   "nbconvert_exporter": "python",
   "pygments_lexer": "ipython3",
   "version": "3.10.13"
  }
 },
 "nbformat": 4,
 "nbformat_minor": 2
}
