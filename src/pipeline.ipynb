{
 "cells": [
  {
   "cell_type": "code",
   "execution_count": 1,
   "metadata": {},
   "outputs": [
    {
     "name": "stderr",
     "output_type": "stream",
     "text": [
      "/opt/conda/lib/python3.10/site-packages/tqdm/auto.py:21: TqdmWarning: IProgress not found. Please update jupyter and ipywidgets. See https://ipywidgets.readthedocs.io/en/stable/user_install.html\n",
      "  from .autonotebook import tqdm as notebook_tqdm\n"
     ]
    },
    {
     "name": "stdout",
     "output_type": "stream",
     "text": [
      "생성된 DB가 있어 로드합니다.\n"
     ]
    },
    {
     "name": "stderr",
     "output_type": "stream",
     "text": [
      "/data/ephemeral/home/practicing/src/DB/chromadb_storing.py:105: LangChainDeprecationWarning: The class `Chroma` was deprecated in LangChain 0.2.9 and will be removed in 1.0. An updated version of the class exists in the :class:`~langchain-chroma package and should be used instead. To use it run `pip install -U :class:`~langchain-chroma` and import as `from :class:`~langchain_chroma import Chroma``.\n",
      "  self.db = Chroma(\n"
     ]
    },
    {
     "name": "stdout",
     "output_type": "stream",
     "text": [
      "Collection 'chrdb.db' loaded from 'DB/DB_NaverCloudEmb'.\n",
      "Total documents in collection 'chrdb.db': 388\n"
     ]
    }
   ],
   "source": [
    "# Pipeline의 구조를 이해하기 쉽게 하기 위해 작성한 ipynb 파일입니다\n",
    "from Pipeline import pipe_eval\n",
    "pipe = pipe_eval(verbose = True)\n",
    "# collection_name = 'chrdb.db',\n",
    "# persist_directory = 'DB',\n",
    "# mode = 'NaverCloudEmb'\n",
    "# topk = 5\n",
    "# verbose = True : answer과 score을 보여줍니다. 보고싶지 않다면 False로 하면 됩니다.\n",
    "# default로 지정돼 있습니다. 클래스 선언 때 건네주면 바뀝니다."
   ]
  },
  {
   "cell_type": "code",
   "execution_count": 4,
   "metadata": {},
   "outputs": [
    {
     "name": "stdout",
     "output_type": "stream",
     "text": [
      "page_content='SK하이닉스는 향후 3개년간 주주환원 정책을 공시하며, 연간 고정배당금을 1,500원으로 상향하고,  Free Cash Flow의 5% 재원을 재무 건전성 강화에 우선 활용한다고 밝혔다. 이는 메모리 업황 특성상 변동성이 큰 상황에서 내린 합리적인 결정이라고 판단된다.' metadata={'company_name': 'SK하이닉스', 'dir_route': 'datas/SK하이닉스_하나증권(2024.11.28)', 'file_name': 'SK하이닉스_하나증권(2024.11.28).pdf', 'id': 17, 'investment': '하나증권(2024.11.28)', 'original_content': 'SK하이닉스는 장 종료 후에 향후 3개년간 주주환원 쟁책을 공시했다. 기존 3개년 주주환 원 정책에서 변화가 생겼다. 변경된 부분의 핵심은 연간 고정배당금을 기존 1,200원에서 1,500원으로 상향하고, 기존 정책 하에서 지급하던 추가 배당금이었던 연간 Free Cash Flow의 5% 재원을 재무 건전성 강화에 우선 활용한다는 점이다. 아울러 정책 종료 후 총 재원 안에서 재무 건전성 목표가 달성되면 추가 환원을 실행하거나, 유의미한 수준의 Free Cash Flow 창출이 예상되는 경우에 조기 환원도 가능하다고 언급했다. 다시 설명하 자면 2025~2027년까지 3년 누적 Free Cash Flow의 50% 수준을 총 재원으로 설정하는 것은 기존과 동일하다. 다만, 기존에 매년 지급하던 FCF 내 5%의 추가 배당금을 앞으로 는 재무 건전성 강화로 사용하는 대신에 정책 종료 후 FCF 50% 수준 안에서 여유 재원을 기반으로 한 추가 환원을 결정한 것이다. 메모리 업황 특성상 변동성이 크기 때문에 예측 가능한 주주환원 규모를 선정하기 어렵기 때문에 3년 누적의 Free Cash Flow 선정은 동종 업체들의 정책과도 일맥상통하는 부분이다. 또한, SK하이닉스의 재무 건전성이 경쟁사들보 다 열위에 있던 점을 고려하면 금번 주주환원 정책 발표는 합리적인 결정이라 판단한다.', 'page': 1, 'type': 'paragraph'}\n",
      "page_content='SK하이닉스의 이번 주주환원 정책과 기업가치 제고 계획에 시장 반응은 실망스러울 수 있지만, 메모리 업종에서는 기술 리더십이 중요하며, 재무 건정성이 강화되면 중장기적으로 주주환원 강화와 연결되어 밸류에이션 할증에 대한 정당성을 확보할 수 있음을 고려해야 함' metadata={'company_name': 'SK하이닉스', 'dir_route': 'datas/SK하이닉스_하나증권(2024.11.28)', 'file_name': 'SK하이닉스_하나증권(2024.11.28).pdf', 'id': 21, 'investment': '하나증권(2024.11.28)', 'original_content': '이번에 발표된 향후 3년간 주주환원 정책과 기업가치 제고 계획에 대해 다소 실망스러운 시장 반응이 있을 수 있다. 다만, 메모리 업종은 주주환원보다 기술 리더십이 우선시 되어 야 한다. 그럼에도 불구하고 변동성 높은 업황 안에서 주주환원을 안정화시키려는 의도에 주목해야 한다는 판단이다. 글로벌 메모리 3사 중 재무 건전성 측면에서 상대적으로 열위 에 있었다는 이유로 밸류에이션 할인이 있었다는 점 또한 부인할 수 없다. 향후에 SK하이 닉스의 재무 건전성이 강화된다면, 중장기적으로 주주환원 강화와 연결될 수 있고, 나아가 밸류에이션 할증에 대한 정당성도 확보할 수 있다는 점을 고려할 필요가 있다.', 'page': 1, 'type': 'paragraph'}\n",
      "page_content='카카오뱅크는 2024년부터 26년까지 주주 환원율 50% 달성 후 27년부터 주당 배당금(DPS) 유지 또는 점진적으로 늘릴 계획이며, 이를 통해 배당 중심의 주주 환원 정책을 시행할 것으로 예상된다.' metadata={'company_name': '카카오뱅크', 'dir_route': 'datas/카카오뱅크_삼성증권(2024.11.27)', 'file_name': '카카오뱅크_삼성증권(2024.11.27).pdf', 'id': 80, 'investment': '삼성증권(2024.11.27)', 'original_content': '4. 목표: ’24~’26년 주주환원율 50% 도달 이후 ’27년부터 DPS 유지 또는 점진적 상향 – 시사점: 배당 중심 주주환원 정책 예상', 'page': 5, 'type': 'paragraph'}\n",
      "page_content='SK하이닉스는 향후 3년간 매출액 대비 CapEx 30% 중반을 목표로 하며, HBM 등 기술 리더십을 유지하면서 동시에 재무 건정성을 기반으로 한 주주환원 정책을 추진할 계획이다. 또한 안정적인 이익 창출과 재무 건전성의 강화를 바탕으로 지속적이고 균형 있는 주주환원을 계속하겠다고 밝혔다.' metadata={'company_name': 'SK하이닉스', 'dir_route': 'datas/SK하이닉스_하나증권(2024.11.28)', 'file_name': 'SK하이닉스_하나증권(2024.11.28).pdf', 'id': 19, 'investment': '하나증권(2024.11.28)', 'original_content': '주주환원과 더불어 기업가치 제고 계획도 공시했다. 3개년 이동평균 기준으로 매출액대비 CapEx 30% 중반을 목표로 하고, HBM 기반으로 기술 리더십을 유지하되, 재무 건전성을 기반으로 한 주주환원 정책을 언급했다. 매출액대비 30% 중반 수준의 CapEx는 기존에 유지하던 수익성 기반의 투자 기조와 과거보다 상향된 투자 금액을 고려한 기준이라 판단 한다. 아울러 HBM을 계기로 기술 리더십을 확보한 AI 및 차세대 메모리 기술에 있어서는 물량보다 적기 기술 확보를 핵심으로 투자할 전망이다. 마지막으로 주주환원 정책에서도 강조했던 것처럼 안정적인 이익 창출과 재무 건전성 강화를 기반으로 지속적이고 균형 있 는 주주환원을 지속할 것을 언급했다.', 'page': 1, 'type': 'paragraph'}\n",
      "page_content='카카오뱅크는 2024년에서 2025년까지 주주 환원율 50% 달성 후, 27년부터는 주당배당금(DPS)유지 또는 점진적 상승을 통한 배당 중심의 주주환원 정책을 펼칠 것으로 예상되며, 이를 위해 26년까지 높은 성장률을 이어갈 것으로 전망된다.' metadata={'id': 21, 'type': 'paragraph', 'image_route': nan, 'dir_route': 'datas/카카오뱅크_삼성증권(2024.11.27)', 'file_name': '카카오뱅크_삼성증권(2024.11.27).pdf', 'page': 1, 'investment': '삼성증권(2024.11.27)', 'company_name': '카카오뱅크', 'table': nan, 'original_content': '기업가치 제고계획 목표 4. ’24~’25년 주주환원율 50% 도달 이후 ’27년부터 DPS 유지 또 는 점진적 상향 – 배당 중심 주주환원 정책 예상: 동사의 주주환원 정책은 자사주 매입 및 소각보다는 배당 확대가 보다 현실적일 것으로 판단. 이에, DPS는 주주환원율 상향 계획에 따라 2026년까지 고성장을 지속한 후, 이익 증가 속도와 유사한 흐름을 전망.'}\n"
     ]
    }
   ],
   "source": [
    "query = 'SK하이닉스의 2025~2027년 주주환원 정책에서 변경된 고정배당금과 추가 배당금의 활용 방안은 무엇인가요?'\n",
    "# validation데이터셋의 첫번째 question\n",
    "retrieval_result = pipe.Q(query, mode = 'ensemble')\n",
    "# bm25, dpr, ensemble 가능 (default 'ensemble')\n"
   ]
  },
  {
   "cell_type": "code",
   "execution_count": 5,
   "metadata": {},
   "outputs": [
    {
     "name": "stdout",
     "output_type": "stream",
     "text": [
      "\n",
      "주어지는 참고 문서들을 반드시 활용하여 질문에 100자 이내의 정답을 말하세요.\n",
      "질문: SK하이닉스의 2025~2027년 주주환원 정책에서 변경된 고정배당금과 추가 배당금의 활용 방안은 무엇인가요?\n",
      "참고 문서1: SK하이닉스는 장 종료 후에 향후 3개년간 주주환원 쟁책을 공시했다. 기존 3개년 주주환 원 정책에서 변화가 생겼다. 변경된 부분의 핵심은 연간 고정배당금을 기존 1,200원에서 1,500원으로 상향하고, 기존 정책 하에서 지급하던 추가 배당금이었던 연간 Free Cash Flow의 5% 재원을 재무 건전성 강화에 우선 활용한다는 점이다. 아울러 정책 종료 후 총 재원 안에서 재무 건전성 목표가 달성되면 추가 환원을 실행하거나, 유의미한 수준의 Free Cash Flow 창출이 예상되는 경우에 조기 환원도 가능하다고 언급했다. 다시 설명하 자면 2025~2027년까지 3년 누적 Free Cash Flow의 50% 수준을 총 재원으로 설정하는 것은 기존과 동일하다. 다만, 기존에 매년 지급하던 FCF 내 5%의 추가 배당금을 앞으로 는 재무 건전성 강화로 사용하는 대신에 정책 종료 후 FCF 50% 수준 안에서 여유 재원을 기반으로 한 추가 환원을 결정한 것이다. 메모리 업황 특성상 변동성이 크기 때문에 예측 가능한 주주환원 규모를 선정하기 어렵기 때문에 3년 누적의 Free Cash Flow 선정은 동종 업체들의 정책과도 일맥상통하는 부분이다. 또한, SK하이닉스의 재무 건전성이 경쟁사들보 다 열위에 있던 점을 고려하면 금번 주주환원 정책 발표는 합리적인 결정이라 판단한다.\n",
      "참고 문서2: 이번에 발표된 향후 3년간 주주환원 정책과 기업가치 제고 계획에 대해 다소 실망스러운 시장 반응이 있을 수 있다. 다만, 메모리 업종은 주주환원보다 기술 리더십이 우선시 되어 야 한다. 그럼에도 불구하고 변동성 높은 업황 안에서 주주환원을 안정화시키려는 의도에 주목해야 한다는 판단이다. 글로벌 메모리 3사 중 재무 건전성 측면에서 상대적으로 열위 에 있었다는 이유로 밸류에이션 할인이 있었다는 점 또한 부인할 수 없다. 향후에 SK하이 닉스의 재무 건전성이 강화된다면, 중장기적으로 주주환원 강화와 연결될 수 있고, 나아가 밸류에이션 할증에 대한 정당성도 확보할 수 있다는 점을 고려할 필요가 있다.\n",
      "참고 문서3: 4. 목표: ’24~’26년 주주환원율 50% 도달 이후 ’27년부터 DPS 유지 또는 점진적 상향 – 시사점: 배당 중심 주주환원 정책 예상\n",
      "참고 문서4: 주주환원과 더불어 기업가치 제고 계획도 공시했다. 3개년 이동평균 기준으로 매출액대비 CapEx 30% 중반을 목표로 하고, HBM 기반으로 기술 리더십을 유지하되, 재무 건전성을 기반으로 한 주주환원 정책을 언급했다. 매출액대비 30% 중반 수준의 CapEx는 기존에 유지하던 수익성 기반의 투자 기조와 과거보다 상향된 투자 금액을 고려한 기준이라 판단 한다. 아울러 HBM을 계기로 기술 리더십을 확보한 AI 및 차세대 메모리 기술에 있어서는 물량보다 적기 기술 확보를 핵심으로 투자할 전망이다. 마지막으로 주주환원 정책에서도 강조했던 것처럼 안정적인 이익 창출과 재무 건전성 강화를 기반으로 지속적이고 균형 있 는 주주환원을 지속할 것을 언급했다.\n",
      "참고 문서5: 기업가치 제고계획 목표 4. ’24~’25년 주주환원율 50% 도달 이후 ’27년부터 DPS 유지 또 는 점진적 상향 – 배당 중심 주주환원 정책 예상: 동사의 주주환원 정책은 자사주 매입 및 소각보다는 배당 확대가 보다 현실적일 것으로 판단. 이에, DPS는 주주환원율 상향 계획에 따라 2026년까지 고성장을 지속한 후, 이익 증가 속도와 유사한 흐름을 전망.\n",
      "정답:\n",
      "SK하이닉스의 2025~2027년 주주환원 정책은 고정배당금을 1,500원으로 상향하고, 추가 배당금 대신 재무 건전성 강화에 우선 활용합니다.\n"
     ]
    }
   ],
   "source": [
    "answer = pipe.A(query, retrieval_result, model = 'GPT')\n",
    "#                   가능한 모델 (default GPT)\n",
    "#                   1. GPT\n",
    "#                   2. Qwen\n",
    "#                   3. Exaone\n"
   ]
  },
  {
   "cell_type": "code",
   "execution_count": 6,
   "metadata": {},
   "outputs": [
    {
     "name": "stdout",
     "output_type": "stream",
     "text": [
      "page_content='SK하이닉스는 향후 3개년간 주주환원 정책을 공시하며, 연간 고정배당금을 1,500원으로 상향하고,  Free Cash Flow의 5% 재원을 재무 건전성 강화에 우선 활용한다고 밝혔다. 이는 메모리 업황 특성상 변동성이 큰 상황에서 내린 합리적인 결정이라고 판단된다.' metadata={'company_name': 'SK하이닉스', 'dir_route': 'datas/SK하이닉스_하나증권(2024.11.28)', 'file_name': 'SK하이닉스_하나증권(2024.11.28).pdf', 'id': 17, 'investment': '하나증권(2024.11.28)', 'original_content': 'SK하이닉스는 장 종료 후에 향후 3개년간 주주환원 쟁책을 공시했다. 기존 3개년 주주환 원 정책에서 변화가 생겼다. 변경된 부분의 핵심은 연간 고정배당금을 기존 1,200원에서 1,500원으로 상향하고, 기존 정책 하에서 지급하던 추가 배당금이었던 연간 Free Cash Flow의 5% 재원을 재무 건전성 강화에 우선 활용한다는 점이다. 아울러 정책 종료 후 총 재원 안에서 재무 건전성 목표가 달성되면 추가 환원을 실행하거나, 유의미한 수준의 Free Cash Flow 창출이 예상되는 경우에 조기 환원도 가능하다고 언급했다. 다시 설명하 자면 2025~2027년까지 3년 누적 Free Cash Flow의 50% 수준을 총 재원으로 설정하는 것은 기존과 동일하다. 다만, 기존에 매년 지급하던 FCF 내 5%의 추가 배당금을 앞으로 는 재무 건전성 강화로 사용하는 대신에 정책 종료 후 FCF 50% 수준 안에서 여유 재원을 기반으로 한 추가 환원을 결정한 것이다. 메모리 업황 특성상 변동성이 크기 때문에 예측 가능한 주주환원 규모를 선정하기 어렵기 때문에 3년 누적의 Free Cash Flow 선정은 동종 업체들의 정책과도 일맥상통하는 부분이다. 또한, SK하이닉스의 재무 건전성이 경쟁사들보 다 열위에 있던 점을 고려하면 금번 주주환원 정책 발표는 합리적인 결정이라 판단한다.', 'page': 1, 'type': 'paragraph'}\n",
      "page_content='SK하이닉스의 이번 주주환원 정책과 기업가치 제고 계획에 시장 반응은 실망스러울 수 있지만, 메모리 업종에서는 기술 리더십이 중요하며, 재무 건정성이 강화되면 중장기적으로 주주환원 강화와 연결되어 밸류에이션 할증에 대한 정당성을 확보할 수 있음을 고려해야 함' metadata={'company_name': 'SK하이닉스', 'dir_route': 'datas/SK하이닉스_하나증권(2024.11.28)', 'file_name': 'SK하이닉스_하나증권(2024.11.28).pdf', 'id': 21, 'investment': '하나증권(2024.11.28)', 'original_content': '이번에 발표된 향후 3년간 주주환원 정책과 기업가치 제고 계획에 대해 다소 실망스러운 시장 반응이 있을 수 있다. 다만, 메모리 업종은 주주환원보다 기술 리더십이 우선시 되어 야 한다. 그럼에도 불구하고 변동성 높은 업황 안에서 주주환원을 안정화시키려는 의도에 주목해야 한다는 판단이다. 글로벌 메모리 3사 중 재무 건전성 측면에서 상대적으로 열위 에 있었다는 이유로 밸류에이션 할인이 있었다는 점 또한 부인할 수 없다. 향후에 SK하이 닉스의 재무 건전성이 강화된다면, 중장기적으로 주주환원 강화와 연결될 수 있고, 나아가 밸류에이션 할증에 대한 정당성도 확보할 수 있다는 점을 고려할 필요가 있다.', 'page': 1, 'type': 'paragraph'}\n",
      "page_content='카카오뱅크는 2024년부터 26년까지 주주 환원율 50% 달성 후 27년부터 주당 배당금(DPS) 유지 또는 점진적으로 늘릴 계획이며, 이를 통해 배당 중심의 주주 환원 정책을 시행할 것으로 예상된다.' metadata={'company_name': '카카오뱅크', 'dir_route': 'datas/카카오뱅크_삼성증권(2024.11.27)', 'file_name': '카카오뱅크_삼성증권(2024.11.27).pdf', 'id': 80, 'investment': '삼성증권(2024.11.27)', 'original_content': '4. 목표: ’24~’26년 주주환원율 50% 도달 이후 ’27년부터 DPS 유지 또는 점진적 상향 – 시사점: 배당 중심 주주환원 정책 예상', 'page': 5, 'type': 'paragraph'}\n",
      "page_content='SK하이닉스는 향후 3년간 매출액 대비 CapEx 30% 중반을 목표로 하며, HBM 등 기술 리더십을 유지하면서 동시에 재무 건정성을 기반으로 한 주주환원 정책을 추진할 계획이다. 또한 안정적인 이익 창출과 재무 건전성의 강화를 바탕으로 지속적이고 균형 있는 주주환원을 계속하겠다고 밝혔다.' metadata={'company_name': 'SK하이닉스', 'dir_route': 'datas/SK하이닉스_하나증권(2024.11.28)', 'file_name': 'SK하이닉스_하나증권(2024.11.28).pdf', 'id': 19, 'investment': '하나증권(2024.11.28)', 'original_content': '주주환원과 더불어 기업가치 제고 계획도 공시했다. 3개년 이동평균 기준으로 매출액대비 CapEx 30% 중반을 목표로 하고, HBM 기반으로 기술 리더십을 유지하되, 재무 건전성을 기반으로 한 주주환원 정책을 언급했다. 매출액대비 30% 중반 수준의 CapEx는 기존에 유지하던 수익성 기반의 투자 기조와 과거보다 상향된 투자 금액을 고려한 기준이라 판단 한다. 아울러 HBM을 계기로 기술 리더십을 확보한 AI 및 차세대 메모리 기술에 있어서는 물량보다 적기 기술 확보를 핵심으로 투자할 전망이다. 마지막으로 주주환원 정책에서도 강조했던 것처럼 안정적인 이익 창출과 재무 건전성 강화를 기반으로 지속적이고 균형 있 는 주주환원을 지속할 것을 언급했다.', 'page': 1, 'type': 'paragraph'}\n",
      "page_content='카카오뱅크는 2024년에서 2025년까지 주주 환원율 50% 달성 후, 27년부터는 주당배당금(DPS)유지 또는 점진적 상승을 통한 배당 중심의 주주환원 정책을 펼칠 것으로 예상되며, 이를 위해 26년까지 높은 성장률을 이어갈 것으로 전망된다.' metadata={'id': 21, 'type': 'paragraph', 'image_route': nan, 'dir_route': 'datas/카카오뱅크_삼성증권(2024.11.27)', 'file_name': '카카오뱅크_삼성증권(2024.11.27).pdf', 'page': 1, 'investment': '삼성증권(2024.11.27)', 'company_name': '카카오뱅크', 'table': nan, 'original_content': '기업가치 제고계획 목표 4. ’24~’25년 주주환원율 50% 도달 이후 ’27년부터 DPS 유지 또 는 점진적 상향 – 배당 중심 주주환원 정책 예상: 동사의 주주환원 정책은 자사주 매입 및 소각보다는 배당 확대가 보다 현실적일 것으로 판단. 이에, DPS는 주주환원율 상향 계획에 따라 2026년까지 고성장을 지속한 후, 이익 증가 속도와 유사한 흐름을 전망.'}\n",
      "\n",
      "주어지는 참고 문서들을 반드시 활용하여 질문에 100자 이내의 정답을 말하세요.\n",
      "질문: SK하이닉스의 2025~2027년 주주환원 정책에서 변경된 고정배당금과 추가 배당금의 활용 방안은 무엇인가요?\n",
      "참고 문서1: SK하이닉스는 장 종료 후에 향후 3개년간 주주환원 쟁책을 공시했다. 기존 3개년 주주환 원 정책에서 변화가 생겼다. 변경된 부분의 핵심은 연간 고정배당금을 기존 1,200원에서 1,500원으로 상향하고, 기존 정책 하에서 지급하던 추가 배당금이었던 연간 Free Cash Flow의 5% 재원을 재무 건전성 강화에 우선 활용한다는 점이다. 아울러 정책 종료 후 총 재원 안에서 재무 건전성 목표가 달성되면 추가 환원을 실행하거나, 유의미한 수준의 Free Cash Flow 창출이 예상되는 경우에 조기 환원도 가능하다고 언급했다. 다시 설명하 자면 2025~2027년까지 3년 누적 Free Cash Flow의 50% 수준을 총 재원으로 설정하는 것은 기존과 동일하다. 다만, 기존에 매년 지급하던 FCF 내 5%의 추가 배당금을 앞으로 는 재무 건전성 강화로 사용하는 대신에 정책 종료 후 FCF 50% 수준 안에서 여유 재원을 기반으로 한 추가 환원을 결정한 것이다. 메모리 업황 특성상 변동성이 크기 때문에 예측 가능한 주주환원 규모를 선정하기 어렵기 때문에 3년 누적의 Free Cash Flow 선정은 동종 업체들의 정책과도 일맥상통하는 부분이다. 또한, SK하이닉스의 재무 건전성이 경쟁사들보 다 열위에 있던 점을 고려하면 금번 주주환원 정책 발표는 합리적인 결정이라 판단한다.\n",
      "참고 문서2: 이번에 발표된 향후 3년간 주주환원 정책과 기업가치 제고 계획에 대해 다소 실망스러운 시장 반응이 있을 수 있다. 다만, 메모리 업종은 주주환원보다 기술 리더십이 우선시 되어 야 한다. 그럼에도 불구하고 변동성 높은 업황 안에서 주주환원을 안정화시키려는 의도에 주목해야 한다는 판단이다. 글로벌 메모리 3사 중 재무 건전성 측면에서 상대적으로 열위 에 있었다는 이유로 밸류에이션 할인이 있었다는 점 또한 부인할 수 없다. 향후에 SK하이 닉스의 재무 건전성이 강화된다면, 중장기적으로 주주환원 강화와 연결될 수 있고, 나아가 밸류에이션 할증에 대한 정당성도 확보할 수 있다는 점을 고려할 필요가 있다.\n",
      "참고 문서3: 4. 목표: ’24~’26년 주주환원율 50% 도달 이후 ’27년부터 DPS 유지 또는 점진적 상향 – 시사점: 배당 중심 주주환원 정책 예상\n",
      "참고 문서4: 주주환원과 더불어 기업가치 제고 계획도 공시했다. 3개년 이동평균 기준으로 매출액대비 CapEx 30% 중반을 목표로 하고, HBM 기반으로 기술 리더십을 유지하되, 재무 건전성을 기반으로 한 주주환원 정책을 언급했다. 매출액대비 30% 중반 수준의 CapEx는 기존에 유지하던 수익성 기반의 투자 기조와 과거보다 상향된 투자 금액을 고려한 기준이라 판단 한다. 아울러 HBM을 계기로 기술 리더십을 확보한 AI 및 차세대 메모리 기술에 있어서는 물량보다 적기 기술 확보를 핵심으로 투자할 전망이다. 마지막으로 주주환원 정책에서도 강조했던 것처럼 안정적인 이익 창출과 재무 건전성 강화를 기반으로 지속적이고 균형 있 는 주주환원을 지속할 것을 언급했다.\n",
      "참고 문서5: 기업가치 제고계획 목표 4. ’24~’25년 주주환원율 50% 도달 이후 ’27년부터 DPS 유지 또 는 점진적 상향 – 배당 중심 주주환원 정책 예상: 동사의 주주환원 정책은 자사주 매입 및 소각보다는 배당 확대가 보다 현실적일 것으로 판단. 이에, DPS는 주주환원율 상향 계획에 따라 2026년까지 고성장을 지속한 후, 이익 증가 속도와 유사한 흐름을 전망.\n",
      "정답:\n",
      "SK하이닉스는 2025~2027년 고정배당금을 1,500원으로 상향하고, 추가 배당금을 재무 건전성 강화에 우선 활용합니다.\n"
     ]
    }
   ],
   "source": [
    "answer = pipe.QA(query, model = 'GPT', mode = 'ensemble')\n",
    "# QA를 따로 내는 것이 아니라 한번에 정답을 얻을 수도 있습니다. 이후 정량평가에서는 QA를 사용하면 됩니다."
   ]
  },
  {
   "cell_type": "code",
   "execution_count": 2,
   "metadata": {},
   "outputs": [
    {
     "name": "stdout",
     "output_type": "stream",
     "text": [
      "[query]: 네이버의 주가가 부진한 이유와 이를 극복하기 위한 조건은 무엇인가요?\n",
      "----------------------------------------------------------------------------------------------------\n",
      "page_content='네이버는 상반기 최대 실적과 특별 자사주 매입/소각 발표에도 주가가 부진하다. 이는 주주환원 의지와 함께 섹터 내에서 방어적인 접근이 유효하나, 멀티플 회복은 자체 개발 AI의 경쟁력 입증이나 글로벌 중장기 전략 발표 등이 필요해 보인다.' metadata={'company_name': '네이버', 'dir_route': 'datas/네이버_하나증권(2024.10.10)', 'file_name': '네이버_하나증권(2024.10.10).pdf', 'id': 21, 'investment': '하나증권(2024.10.10)', 'original_content': '투자의견 Buy, 목표주가 240,000원을 유지한다. 네이버는 상반기 최대 실적, 특별 자사주 매입/소각 발표에도 불구하고 부진한 수익률을 기록하고 있다. 2분기 분기 최대 영업이익을 기록한 이후 12MF PER은 16.5배 수준으로 유지되는 중이다. 서치플랫폼의 성장에 더해진 비용 효율화로 이익은 우상향하고 있으나 주가는 동행하지 않는 모습이다. 호실적에 이은 주주환원에 대한 의지는 긍정적으로 섹터 내에서 방어적인 접근은 여전히 유효하다고 판단 한다. 다만 탄력적인 멀티플 회복은 1) 자체 개발 AI의 경쟁력 입증, 2) 글로벌 중장기 전략 발표 및 미래 성장 동력을 위한 투자 집행이 이루어져야 가능할 것으로 전망한다.', 'page': 1, 'type': 'paragraph'}\n",
      "page_content='네이버의 1분기 영업이익은 3,018억 원으로 전년 동기 대비 4.5% 감소하였으나, 전 분기 대비로는 14.1% 증가하였으며, 이는 1Q24 SODA 인수 영향 때문이다.' metadata={'company_name': '네이버', 'dir_route': 'datas/네이버_하나증권(2024.10.10)', 'file_name': '네이버_하나증권(2024.10.10).pdf', 'id': 42, 'investment': '하나증권(2024.10.10)', 'original_content': '주: 1Q24 SODA 인수 영향 자료: 네이버, 하나증권', 'page': 3, 'type': 'paragraph'}\n",
      "page_content='롯데렌탈은 2차 쏘카 주식 매매 계약이 연기되었다. 이유는 롯데렌탈의 카쉐어링 자회사인 그린카의 지분 10%를 보유한 GS칼텍스가 롯데렌탈을 대상으로 한 쏘카 주식 추가 취득 금지 가처분 신청에서 승소했기 때문이다. 이로 인해 롯데렌탈의 쏘카 주식 추가 취득은 당분간 어려울 것으로 보인다.' metadata={'id': 5, 'type': 'paragraph', 'image_route': nan, 'dir_route': 'datas/롯데렌탈_하나증권(2024.09.20)', 'file_name': '롯데렌탈_하나증권(2024.09.20).pdf', 'page': 1, 'investment': '하나증권(2024.09.20)', 'company_name': '롯데렌탈', 'table': nan, 'original_content': '롯데렌탈은 최근 공시를 통해 SK와의 쏘카 주식 매매 계약(2차)이 연기되었음을 알렸다. 롯데렌탈의 카쉐어링 자회사 롯데렌터카 G car(그린카)의 지분 10%(롯데렌탈의 지분율은 84.71%)를 보유한 GS칼텍스가 롯데렌탈을 대상으로 쏘카 주식 추가 취득 금지 가처분 신 청을 제기했고 승소했기 때문이다. 법원은 롯데렌탈의 쏘카 주식 취득이 경업금지 조항에 해당되고, 이 경우 GS칼텍스가 회복이 어려운 손해를 입을 것으로 판단했다. 따라서 롯데 렌탈의 쏘카 주식 추가 취득은 당분간 어려울 것으로 예상한다.'}\n",
      "page_content='네이버의 2021년 2분기 매출액은 전년동기 대비 30.4% 증가한 1조 6,635억원이며 영업이익은 8,362억원으로 전년동기 대비 16.2% 감소했다. 이는 21년 2분기에 있었던 왓패드와 이북 재팬 인수 및 22년 4분기부터 적용된 순매출 > 총매출 회계 처리 방식 변경 때문이다.' metadata={'company_name': '네이버', 'dir_route': 'datas/네이버_하나증권(2024.10.10)', 'file_name': '네이버_하나증권(2024.10.10).pdf', 'id': 45, 'investment': '하나증권(2024.10.10)', 'original_content': '주: 2Q21 왓패드 인수, 4Q21 이북재팬 인수, 4Q22 순매출>총매출 회계처리 변경 영향 자료: 네이버, 하나증권', 'page': 3, 'type': 'paragraph'}\n",
      "page_content='DS투자증권에서 제공한 이 보고서는 고객의 증권투자를 돕기 위한 정보를 담고 있으며, 해당 기업인 엘앤에프와 관련된 신뢰할 만한 자료와 정보를 바탕으로 작성되었다.' metadata={'id': 62, 'type': 'paragraph', 'image_route': nan, 'dir_route': 'datas/엘앤에프_DS투자증권(2024.11.04)', 'file_name': '엘앤에프_DS투자증권(2024.11.04).pdf', 'page': 5, 'investment': 'DS투자증권(2024.11.04)', 'company_name': '엘앤에프', 'table': nan, 'original_content': '본 자료는 고객의 증권투자를 돕기 위한 정보제공을 목적으로 제작되었습니다. 본 자료에 수록된 내용은 당사 리서치센터가 신뢰할 만한 자료 및 정보를 바탕으로 작성한 것'}\n",
      "\n",
      "주어지는 참고 문서들을 반드시 활용하여 질문에 100자 이내의 정답을 말하세요.\n",
      "질문: 네이버의 주가가 부진한 이유와 이를 극복하기 위한 조건은 무엇인가요?\n",
      "참고 문서1: 투자의견 Buy, 목표주가 240,000원을 유지한다. 네이버는 상반기 최대 실적, 특별 자사주 매입/소각 발표에도 불구하고 부진한 수익률을 기록하고 있다. 2분기 분기 최대 영업이익을 기록한 이후 12MF PER은 16.5배 수준으로 유지되는 중이다. 서치플랫폼의 성장에 더해진 비용 효율화로 이익은 우상향하고 있으나 주가는 동행하지 않는 모습이다. 호실적에 이은 주주환원에 대한 의지는 긍정적으로 섹터 내에서 방어적인 접근은 여전히 유효하다고 판단 한다. 다만 탄력적인 멀티플 회복은 1) 자체 개발 AI의 경쟁력 입증, 2) 글로벌 중장기 전략 발표 및 미래 성장 동력을 위한 투자 집행이 이루어져야 가능할 것으로 전망한다.\n",
      "참고 문서2: 주: 1Q24 SODA 인수 영향 자료: 네이버, 하나증권\n",
      "참고 문서3: 롯데렌탈은 최근 공시를 통해 SK와의 쏘카 주식 매매 계약(2차)이 연기되었음을 알렸다. 롯데렌탈의 카쉐어링 자회사 롯데렌터카 G car(그린카)의 지분 10%(롯데렌탈의 지분율은 84.71%)를 보유한 GS칼텍스가 롯데렌탈을 대상으로 쏘카 주식 추가 취득 금지 가처분 신 청을 제기했고 승소했기 때문이다. 법원은 롯데렌탈의 쏘카 주식 취득이 경업금지 조항에 해당되고, 이 경우 GS칼텍스가 회복이 어려운 손해를 입을 것으로 판단했다. 따라서 롯데 렌탈의 쏘카 주식 추가 취득은 당분간 어려울 것으로 예상한다.\n",
      "참고 문서4: 주: 2Q21 왓패드 인수, 4Q21 이북재팬 인수, 4Q22 순매출>총매출 회계처리 변경 영향 자료: 네이버, 하나증권\n",
      "참고 문서5: 본 자료는 고객의 증권투자를 돕기 위한 정보제공을 목적으로 제작되었습니다. 본 자료에 수록된 내용은 당사 리서치센터가 신뢰할 만한 자료 및 정보를 바탕으로 작성한 것\n",
      "정답:\n",
      "네이버 주가 부진은 최대 실적에도 불구하고 주가가 동행하지 않기 때문이며, AI 경쟁력과 글로벌 전략 발표가 필요합니다.\n",
      "----------------------------------------------------------------------------------------------------\n",
      "[answer]: 네이버 주가 부진은 최대 실적에도 불구하고 주가가 동행하지 않기 때문이며, AI 경쟁력과 글로벌 전략 발표가 필요합니다.\n",
      "----------------------------------------------------------------------------------------------------\n",
      "[score]\n",
      "#### 1. Retrieval Evaluation (20 points):\n",
      "1. **Do any of the retrieved contexts show strong similarity to the Ground Truth?** (5 points)  \n",
      "   [Yes] - Justification: The retrieved contexts contain information that closely mirrors the Ground Truth, particularly regarding the reasons for Naver's stock underperformance and the necessary conditions for recovery, such as proving AI competitiveness and announcing global strategies.\n",
      "\n",
      "2. **Do the retrieved contexts collectively capture essential information from the Ground Truth?** (5 points)  \n",
      "   [Yes] - Justification: The retrieved contexts collectively provide a comprehensive view of Naver's financial performance and the factors affecting its stock price, aligning well with the essential points in the Ground Truth.\n",
      "\n",
      "3. **Do the retrieved contexts sufficiently address the user’s question?** (4 points)  \n",
      "   [Yes] - Justification: The contexts address both parts of the user's question regarding the reasons for Naver's stock decline and the conditions needed for improvement.\n",
      "\n",
      "4. **Are all retrieved contexts relevant to the Ground Truth or the user’s query?** (3 points)  \n",
      "   [Yes] - Justification: All retrieved contexts pertain to Naver and its financial situation, making them relevant to the user's query.\n",
      "\n",
      "5. **Does the combined length and number of retrieved contexts remain reasonable without overwhelming the user with excessive or irrelevant details?** (3 points)  \n",
      "   [Yes] - Justification: The number of retrieved contexts is manageable, and they provide focused information without unnecessary details.\n",
      "\n",
      "**Total Retrieval Score**: 20 / 20\n",
      "\n",
      "---\n",
      "\n",
      "#### 2. Generation Evaluation (30 points):\n",
      "1. **Is the final answer clearly relevant to the question and reflective of the user’s intent?** (5 points)  \n",
      "   [Yes] - Justification: The generated answer directly addresses the user's question about Naver's stock performance and the necessary conditions for improvement.\n",
      "\n",
      "2. **Is the answer factually correct and free from unsupported or inaccurate information?** (5 points)  \n",
      "   [Yes] - Justification: The answer accurately reflects the information found in the retrieved contexts and aligns with the Ground Truth.\n",
      "\n",
      "3. **Does the answer include all essential points required by the question and the ground_truth_answer?** (5 points)  \n",
      "   [No] - Justification: While the answer captures the main points, it lacks the detail of the specific conditions (like the need for investment in future growth drivers) mentioned in the Ground Truth.\n",
      "\n",
      "4. **Is the answer clear and concise, avoiding unnecessary repetition or ambiguity?** (5 points)  \n",
      "   [Yes] - Justification: The answer is clear and concise, effectively communicating the key points without ambiguity.\n",
      "\n",
      "5. **Is the answer logically structured, consistent with the context, and free of contradictions?** (3 points)  \n",
      "   [Yes] - Justification: The answer is logically structured and consistent with the context provided in the retrieved documents.\n",
      "\n",
      "6. **Does the answer provide sufficient detail for the question without being excessive?** (3 points)  \n",
      "   [No] - Justification: The answer could benefit from additional detail regarding the specific conditions for overcoming the stock decline.\n",
      "\n",
      "7. **Does the answer provide proper citations or indications of the source when claims or data are referenced?** (2 points)  \n",
      "   [No] - Justification: The answer does not reference the sources of the information, which is important for credibility.\n",
      "\n",
      "8. **Is the answer presented in a suitable format (list, table, short text, etc.) for the question?** (1 point)  \n",
      "   [Yes] - Justification: The answer is presented in a suitable short text format appropriate for the question.\n",
      "\n",
      "9. **Does the answer offer any helpful extra insights or context that enrich the user’s understanding (without deviating from factual correctness)?** (1 point)  \n",
      "   [No] - Justification: The answer does not provide additional insights beyond what was asked.\n",
      "\n",
      "**Total Generation Score**: 19 / 30\n",
      "\n",
      "---\n",
      "\n",
      "### Final Output:\n",
      "**Total Score**: 39 / 50\n"
     ]
    }
   ],
   "source": [
    "answer, score = pipe.QA_eval(mode = 'ensemble', model = 'GPT')\n",
    "\n",
    "# validation 데이터셋의 무작위 샘플을 가져와 G-eval로 평가할 수 있습니다."
   ]
  },
  {
   "cell_type": "code",
   "execution_count": null,
   "metadata": {},
   "outputs": [],
   "source": []
  }
 ],
 "metadata": {
  "kernelspec": {
   "display_name": "base",
   "language": "python",
   "name": "python3"
  },
  "language_info": {
   "codemirror_mode": {
    "name": "ipython",
    "version": 3
   },
   "file_extension": ".py",
   "mimetype": "text/x-python",
   "name": "python",
   "nbconvert_exporter": "python",
   "pygments_lexer": "ipython3",
   "version": "3.10.13"
  }
 },
 "nbformat": 4,
 "nbformat_minor": 2
}
