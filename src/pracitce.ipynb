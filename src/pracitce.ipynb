{
 "cells": [
  {
   "cell_type": "code",
   "execution_count": null,
   "metadata": {},
   "outputs": [
    {
     "name": "stderr",
     "output_type": "stream",
     "text": [
      "pdf 문서 파싱중..:   0%|          | 0/80 [00:00<?, ?it/s]"
     ]
    },
    {
     "name": "stdout",
     "output_type": "stream",
     "text": [
      "한화솔루션_IBK투자증권(2024.10.31).json 파일이 이미 존재합니다. 기존 파일을 불러옵니다.\n"
     ]
    }
   ],
   "source": [
    "import os\n",
    "import sys\n",
    "project_root = os.getcwd()\n",
    "sys.path.append(project_root + '/modules')\n",
    "\n",
    "from modules.pdf_parsing.pdf_parser import pdf_to_md_and_csv\n",
    "\n",
    "BASE_DIR = './modules/datas'\n",
    "pdf_to_md_and_csv(BASE_DIR=BASE_DIR)"
   ]
  },
  {
   "cell_type": "code",
   "execution_count": null,
   "metadata": {},
   "outputs": [
    {
     "data": {
      "text/plain": [
       "'./modules/datas/SK케미칼_DB금융투자(2024.02.08)/page_3_id_26_image.png'"
      ]
     },
     "execution_count": 12,
     "metadata": {},
     "output_type": "execute_result"
    }
   ],
   "source": [
    "from modules.utils import get_all_datas\n",
    "BASE_DIR = './modules/datas'\n",
    "df = get_all_datas(BASE_DIR)\n",
    "df[df['type'] == 'chart'].loc[7]['image_route']\n"
   ]
  },
  {
   "cell_type": "code",
   "execution_count": null,
   "metadata": {},
   "outputs": [],
   "source": []
  },
  {
   "cell_type": "code",
   "execution_count": null,
   "metadata": {},
   "outputs": [],
   "source": []
  }
 ],
 "metadata": {
  "kernelspec": {
   "display_name": "base",
   "language": "python",
   "name": "python3"
  },
  "language_info": {
   "codemirror_mode": {
    "name": "ipython",
    "version": 3
   },
   "file_extension": ".py",
   "mimetype": "text/x-python",
   "name": "python",
   "nbconvert_exporter": "python",
   "pygments_lexer": "ipython3",
   "version": "3.10.13"
  }
 },
 "nbformat": 4,
 "nbformat_minor": 2
}
