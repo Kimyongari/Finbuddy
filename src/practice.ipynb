{
 "cells": [
  {
   "cell_type": "code",
   "execution_count": null,
   "metadata": {},
   "outputs": [],
   "source": [
    "from DB.chromadb_storing import ChromaDB\n",
    "from langchain.schema import Document\n",
    "from utils import get_only_paragraphs, get_all_datas, create_documents\n",
    "BASE_DIR = './datas' # 데이터가 저장돼 있는 루트를 의미합니다.\n",
    "\n",
    "df = get_only_paragraphs(BASE_DIR)\n",
    "documents = create_documents(df)\n",
    "documents[:3]\n",
    "# add_docs를 통해 문서들을 저장합니다.\n",
    "\n",
    "collection_name = 'chrdb.db'\n",
    "persist_directory = 'DB'\n",
    "DB = ChromaDB(collection_name, persist_directory, mode = 'NaverCloudEmb')\n",
    "#                   [가능한 모델]\n",
    "                #   1. NaverCloudEmb\n",
    "                #   2. KF_DebertaEmb\n",
    "                #   3. Kure_Emb - 공개된 모델이 아님 (Access키 필요)\n",
    "                #   4. OpenAI_Emb\n",
    "DB.create_and_add(documents,)\n",
    "\n"
   ]
  }
 ],
 "metadata": {
  "kernelspec": {
   "display_name": "base",
   "language": "python",
   "name": "python3"
  },
  "language_info": {
   "codemirror_mode": {
    "name": "ipython",
    "version": 3
   },
   "file_extension": ".py",
   "mimetype": "text/x-python",
   "name": "python",
   "nbconvert_exporter": "python",
   "pygments_lexer": "ipython3",
   "version": "3.10.13"
  }
 },
 "nbformat": 4,
 "nbformat_minor": 2
}
