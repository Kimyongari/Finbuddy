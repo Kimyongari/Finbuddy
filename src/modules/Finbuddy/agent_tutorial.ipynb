{
 "cells": [
  {
   "cell_type": "code",
   "execution_count": null,
   "metadata": {},
   "outputs": [],
   "source": [
    "import os\n",
    "import subprocess\n",
    "import tempfile\n",
    "\n",
    "def execute_code(code_str: str, ):\n",
    "    \"\"\"\n",
    "    입력받은 파이썬 코드 문자열을 임시 파일에 저장하고 실행하여,\n",
    "    시각화 이미지를 생성·저장한다.\n",
    "    input의 ['code'] 부분만을 활용하여 완전한 형태의 코드를 넣어야 한다.\n",
    "    [경로]\n",
    "    str: 생성된 이미지 파일의 경로 (예: output/image_name.png)\n",
    "    \"\"\"\n",
    "    \n",
    "    with open('test.txt', 'w', encoding = 'utf-8') as f:\n",
    "        f.write(code_str)\n",
    "    with tempfile.NamedTemporaryFile(mode='w', suffix='.py', delete=False) as tmp_file:\n",
    "        tmp_file.write(code_str)\n",
    "        tmp_filename = tmp_file.name\n",
    "\n",
    "    # 저장된 파일 실행\n",
    "    try:\n",
    "        result = subprocess.run(\n",
    "            ['python', tmp_filename],\n",
    "            capture_output=True, text=True, check=True\n",
    "        )\n",
    "    except subprocess.CalledProcessError as e:\n",
    "        raise RuntimeError(f\"코드 실행 중 오류 발생:\\nSTDERR: {e.stderr}\\nSTDOUT: {e.stdout}\")\n",
    "    finally:\n",
    "        # 임시 파일 삭제 (삭제하지 않으려면 주석 처리)\n",
    "        os.remove(tmp_filename)"
   ]
  },
  {
   "cell_type": "code",
   "execution_count": null,
   "metadata": {},
   "outputs": [],
   "source": [
    "from dotenv import load_dotenv\n",
    "load_dotenv()\n",
    "\n",
    "# from crews import blog_crew\n",
    "# crew = blog_crew.BlogCrew().blog_crew() __init__없으면 이렇게불러야됨\n",
    "import crews\n",
    "#crew = crews.get_retrieval_crew()\n",
    "context_crew = crews.get_context_crew()\n",
    "image_crew = crews.get_image_crew()\n",
    "table_crew = crews.get_table_crew()\n",
    "\n",
    "\n"
   ]
  },
  {
   "cell_type": "code",
   "execution_count": null,
   "metadata": {},
   "outputs": [],
   "source": [
    "\n",
    "inputs = {'query': '크래프톤의 핵심 사업에 대해 알려줘.',\n",
    " 'paragraphs': ['CJ제일제당의 바이오 사업 매각 추진 보도. 언론 보도에 따른 예상 매각 가치는 5~6조원, 실제 매각 추진 과정에서 가치 변화는 가능하지만 매각 추진 이슈 자체 로도 긍정적인 뉴스. 지난해부터 이어진 비핵심 계열사 지상쥐(중국 식품), 셀렉타 (SPC, 농축대두단백)의 매각으로 식품, 그 중에서도 K푸드 중심으로 선택과 집중 하는 의사결정이 시작. 바이오 사업의 매각을 통해 1차적으로 재무구조가 개선되 고, 2차적으로 글로벌 식품 사업 확대를 위한 M&A로 이어진다면 밸류에이션 저평 가 요인 해소로 판단'],\n",
    " 'images': {'image_route': [], 'summary': []},\n",
    " 'tables': {'table': ['| 구분       | 2024E       | 변경 전    | 변경 후    | 차이 (%) | 2025E       | 변경 전    | 변경 후    | 차이 (%) | 2026E       | 변경 전    | 변경 후    | 차이 (%) |\\n|------------|-------------|------------|------------|----------|-------------|------------|------------|----------|-------------|------------|------------|----------|\\n| 매출액     | 2,615.7     | 2,670.7    | 2.1        |          | 2,917.0     | 2,909.2    | -0.3       |          | 3,555.8     | 3,518.7    | -1.0      |\\n| 온라인     | 900.0       | 888.8      | -1.2       |          | 1,145.7     | 1,083.4    | -5.4       |          | 1,554.0     | 1,457.8    | -6.2      |\\n| 모바일     | 1,646.7     | 1,711.2    | 3.9        |          | 1,703.7     | 1,756.2    | 3.1        |          | 1,812.6     | 1,870.6    | 3.2       |\\n| 콘솔       | 36.3        | 37.9       | 4.4        |          | 33.3        | 35.2       | 5.8        |          | 150.5       | 152.3      | 1.2       |\\n| 기타       | 32.8        | 32.8       | 0.0        |          | 34.4        | 34.4       | 0.0        |          | 37.9        | 37.9       | 0.0       |\\n| 영업이익   | 1,601.2     | 1,585.5    | -1.0       |          | 1,919.3     | 1,847.4    | -3.7       |          | 2,304.1     | 2,191.9    | -4.9      |\\n| 인건비 및 복리후생 | 707.2 | 711.7      | 0.6        |          | 836.1       | 858.6      | 2.7        |          | 960.6       | 997.2      | 3.8       |\\n| 앱수수료/매출원가 | 341.0 | 350.3      | 2.7        |          | 437.7       | 431.7      | -1.4       |          | 552.4       | 540.1      | -2.2      |\\n| 지급수수료 | 278.8       | 266.0      | -4.4       |          | 383.3       | 299.4      | -21.9      |          | 433.4       | 338.5      | -21.9     |\\n| 광고선전비 | 106.2       | 100.4      | -4.3       |          | 104.9       | 182.3      | 40.2       |          | 175.5       | 175.5      | 0.0       |\\n| 기타       | 138.6       | 138.6      | 0.0        |          | 157.3       | 157.3      | 0.0        |          | 175.5       | 175.5      | 0.0       |\\n| 영업이익   | 1,014.5     | 1,085.2    | 7.0        |          | 997.7       | 1,061.9    | 6.4        |          | 1,251.6     | 1,326.7    | 6.0       |\\n| 세전이익   | 1,352.8     | 1,421.6    | 5.1        |          | 1,200.3     | 1,279.4    | 6.6        |          | 1,614.7     | 1,696.7    | 5.1       |\\n| 당기순이익 | 1,021.1     | 1,063.7    | 5.1        |          | 900.2       | 959.5      | 6.6        |          | 1,211.0     | 1,272.6    | 5.1       |\\n| 지배주주순이익 | 1,066.1 | 1,106.1    | 5.1        |          | 901.6       | 961.0      | 6.6        |          | 1,212.9     | 1,274.5    | 5.1       |\\n| 수정 EPS   | 14,396.36   | 15,322.00   | 6.4        |          | 15,281.00   | 16,344.00  | 7.0        |          | 25,326.00   | 26,611.00  | 5.1       |\\n| 이익률 (%)  |             |            |            |          |             |            |            |          |             |            |            |          |\\n| 영업이익률 | 38.8        | 40.6       |            |          | 34.2        | 36.5       |            |          | 35.2        | 37.7       |            |          |\\n| 세전이익률 | 51.7        | 53.2       |            |          | 41.1        | 44.0       |            |          | 45.4        | 48.2       |            |          |\\n| 순이익률   | 38.7        | 39.8       |            |          | 30.9        | 33.0       |            |          | 34.1        | 36.2       |            |          |\\n| 지배주주순이익률 | 38.8 | 39.9       |            |          | 30.9        | 33.0       |            |          | 34.1        | 36.2       |            |          |',\n",
    "   '| 결산기 (12월) | 2022  | 2023  | 2024F | 2025F | 2026F |\\n|----------------|-------|-------|-------|-------|-------|\\n| 매출액 (십억원) | 1,854 | 1,911 | 2,192 | 2,597 | 2,964 |\\n| 영업이익 (십억원) | 752   | 768   | 801   | 1,029 | 1,204 |\\n| 영업이익률 (%)   | 40.6  | 40.2  | 36.5  | 39.6  | 40.6  |\\n| 순이익 (십억원)  | 500   | 595   | 740   | 840   | 969   |\\n| EPS (원)        | 10,194| 12,221| 15,294| 17,359| 20,033|\\n| ROE (%)         | 10.3  | 11.2  | 12.5  | 12.5  | 12.7  |\\n| P/E (배)        | 16.5  | 15.8  | 17.0  | 15.0  | 13.0  |\\n| P/B (배)        | 1.6   | 1.7   | 2.0   | 1.8   | 1.6   |\\n| 배당수익률 (%)   | 0.0   | 0.0   | 0.0   | 0.0   | 0.0   |',\n",
    "   '| 구분         | 1Q23 | 2Q23 | 3Q23 | 4Q23 | 1Q24 | 2Q24F | 3Q24F | 4Q24F | 2022  | 2023  | 2024F | 2025F  |\\n|--------------|------|------|------|------|------|-------|-------|-------|-------|-------|-------|--------|\\n| 매출액       | 539  | 387  | 450  | 535  | 666  | 454   | 511   | 561   | 1,854 | 1,911 | 2,192 | 2,597  |\\n| (% YoY)      | 3.0% | -8.6%| 3.8% | 12.8%| 23.6%| 17.3% | 13.4% | 5.0%  | -1.7% | 3.1%  | 14.7% | 18.5%  |\\n| PC           | 178  | 117  | 121  | 167  | 244  | 150   | 151   | 183   | 465   | 584   | 728   | 857    |\\n| 모바일       | 348  | 245  | 309  | 343  | 402  | 286   | 342   | 360   | 1,253 | 1,245 | 1,390 | 1,561  |\\n| 콘솔         | 7    | 19   | 12   | 17   | 11   | 10    | 9     | 9     | 104   | 56    | 39    | 139    |\\n| 기타         | 5    | 6    | 8    | 7    | 8    | 9     | 9     | 9     | 32    | 26    | 35    | 40     |\\n| 영업비용     | 256  | 256  | 261  | 370  | 355  | 337   | 344   | 355   | 1,102 | 1,143 | 1,391 | 1,568  |\\n| 인건비       | 101  | 103  | 102  | 121  | 121  | 125   | 129   | 133   | 365   | 427   | 508   | 572    |\\n| 앱수수료/매출원가 | 47   | 32   | 60   | 88   | 86   | 65    | 72    | 79    | 207   | 227   | 302   | 413    |\\n| 지급수수료   | 62   | 71   | 65   | 62   | 61   | 74    | 68    | 65    | 325   | 259   | 268   | 282    |\\n| 광고선전비   | 5    | 9    | 18   | 34   | 12   | 17    | 22    | 25    | 130   | 66    | 76    | 74     |\\n| 주식보상비용 | 10   | 9    | -20  | 28   | 42   | 23    | 20    | 20    | -64   | 28    | 105   | 91     |\\n| 기타         | 31   | 32   | 36   | 37   | 32   | 33    | 33    | 33    | 139   | 136   | 131   | 136    |\\n| 영업이익     | 283  | 131  | 189  | 164  | 311  | 117   | 166   | 207   | 752   | 768   | 801   | 1,029  |\\n| (% YoY)      | -10.1%| -20.7%| 30.9% | 30.3% | 9.7% | -10.9%| -12.1%|       | 15.5% | 2.2%  | 4.3%  | 28.5%  |\\n| 영업이익률   | 52.5%| 34.0%| 42.0%| 30.7% | 46.6%| 25.8% | 32.6% |       | 40.5% | 40.2% | 36.5% | 39.6%  |\\n| 지배주주순이익| 267  | 129  | 212  | -13  | 350  | 97    | 131   |       | 500   | 595   | 740   | 840    |\\n| 순이익률     | 49.6% | 33.2% | 47.0% | -2.5% | 52.4% | 21.3% | 25.6% |       | 27.0% | 31.1% | 33.7% | 32.3%  |'],\n",
    "  'summary': ['이 테이블은 크래프톤의 연간 수익 추정 변화를 보여주며, 매출액, 영업이익, 순이익 등 주요 재무 지표의 변동을 정리하고 있습니다.',\n",
    "   '이 테이블은 크래프톤의 매출, 영업이익, 순이익 등 주요 재무 지표를 2022년부터 2026년까지의 예측치와 함께 보여줍니다.',\n",
    "   '이 테이블은 크래프톤의 분기 및 연간 실적 전망을 나타내며, 매출액, 영업비용, 영업이익, 지배주주순이익 등의 주요 지표를 포함하고 있습니다.']}}"
   ]
  },
  {
   "cell_type": "code",
   "execution_count": null,
   "metadata": {},
   "outputs": [],
   "source": [
    "context_result = context_crew.kickoff(inputs = inputs)\n",
    "table_result = table_crew.kickoff(inputs = inputs)\n",
    "image_result = image_crew.kickoff(inputs = inputs)"
   ]
  },
  {
   "cell_type": "code",
   "execution_count": null,
   "metadata": {},
   "outputs": [],
   "source": [
    "for i in range(0,len(context_result.raw), 100):\n",
    "    print(context_result.raw[i:i+100])\n"
   ]
  },
  {
   "cell_type": "code",
   "execution_count": null,
   "metadata": {},
   "outputs": [],
   "source": [
    "for i in range(0,len(table_result.raw), 100):\n",
    "    print(table_result.raw[i:i+100])\n"
   ]
  },
  {
   "cell_type": "code",
   "execution_count": null,
   "metadata": {},
   "outputs": [],
   "source": [
    "for i in range(0,len(image_result.raw), 100):\n",
    "    print(image_result.raw[i:i+100])\n"
   ]
  },
  {
   "cell_type": "code",
   "execution_count": 66,
   "metadata": {},
   "outputs": [
    {
     "ename": "NameError",
     "evalue": "name 'literal_evaltable_result' is not defined",
     "output_type": "error",
     "traceback": [
      "\u001b[0;31m---------------------------------------------------------------------------\u001b[0m",
      "\u001b[0;31mNameError\u001b[0m                                 Traceback (most recent call last)",
      "Cell \u001b[0;32mIn[66], line 2\u001b[0m\n\u001b[1;32m      1\u001b[0m \u001b[38;5;28;01mfrom\u001b[39;00m \u001b[38;5;21;01mast\u001b[39;00m \u001b[38;5;28;01mimport\u001b[39;00m literal_eval\n\u001b[0;32m----> 2\u001b[0m \u001b[38;5;28mprint\u001b[39m(\u001b[43mliteral_evaltable_result\u001b[49m\u001b[38;5;241m.\u001b[39mtasks_output[\u001b[38;5;241m-\u001b[39m\u001b[38;5;241m2\u001b[39m]\u001b[38;5;241m.\u001b[39mraw)\n",
      "\u001b[0;31mNameError\u001b[0m: name 'literal_evaltable_result' is not defined"
     ]
    }
   ],
   "source": [
    "from ast import literal_eval\n",
    "print(literal_evaltable_result.tasks_output[-2].raw)"
   ]
  },
  {
   "cell_type": "code",
   "execution_count": null,
   "metadata": {},
   "outputs": [],
   "source": []
  }
 ],
 "metadata": {
  "kernelspec": {
   "display_name": "base",
   "language": "python",
   "name": "python3"
  },
  "language_info": {
   "codemirror_mode": {
    "name": "ipython",
    "version": 3
   },
   "file_extension": ".py",
   "mimetype": "text/x-python",
   "name": "python",
   "nbconvert_exporter": "python",
   "pygments_lexer": "ipython3",
   "version": "3.10.13"
  }
 },
 "nbformat": 4,
 "nbformat_minor": 2
}
