{
 "cells": [
  {
   "cell_type": "code",
   "execution_count": 51,
   "metadata": {},
   "outputs": [],
   "source": [
    "import pandas as pd\n",
    "import requests\n",
    "from glob import glob\n",
    "import pdfplumber\n",
    "import os"
   ]
  },
  {
   "cell_type": "code",
   "execution_count": 52,
   "metadata": {},
   "outputs": [],
   "source": [
    "def parsing(route):\n",
    "\n",
    "\n",
    "    # API 엔드포인트 및 API 키\n",
    "    url = \"https://api.upstage.ai/v1/document-ai/document-parse\"\n",
    "    api_key = \"up_1Nau8lF94VG6q2SuDtNqM4SzOtXGd\"  # 실제 API 키로 대체하세요\n",
    "\n",
    "    # 파일 경로 설정\n",
    "    file_path = route\n",
    "\n",
    "    # HTTP 요청 헤더 및 파일\n",
    "    headers = {\n",
    "        \"Authorization\": f\"Bearer {api_key}\"\n",
    "    }\n",
    "    files = {\n",
    "        \"document\": open(file_path, \"rb\")  # 파일을 바이너리로 읽어 업로드\n",
    "    }\n",
    "\n",
    "    # POST 요청 전송\n",
    "    response = requests.post(url, headers=headers, files=files)\n",
    "\n",
    "    # 결과 확인\n",
    "    if response.status_code == 200:\n",
    "        print(f\"{file_path.split('/')[-1]} 파싱 성공 !\")\n",
    "    else:\n",
    "        print(f\"{file_path.split('/')[-1]} 파싱 중 오류 발생: {response.status_code}\")\n",
    "    return response.json()\n"
   ]
  },
  {
   "cell_type": "code",
   "execution_count": 53,
   "metadata": {},
   "outputs": [],
   "source": [
    "\n",
    "\n",
    "def crop_and_save(route, page_num, coords, id, dpi=500, scale = 15):\n",
    "    with pdfplumber.open(route) as pdf:\n",
    "        page = pdf.pages[page_num-1]\n",
    "    dir_route = f'datas/{route.split('/')[-1][:-4]}'\n",
    "    save_route = dir_route + f'/page_{page_num}_id_{id}_image.png'\n",
    "    os.makedirs(dir_route, exist_ok=True)\n",
    "    page_width = page.width\n",
    "    page_height = page.height\n",
    "\n",
    "    # 상대 좌표를 절대 픽셀 좌표로 변환\n",
    "    x0 = coords[0]['x'] * page_width\n",
    "    y0 = max(0, coords[0]['y'] * page_height - scale)\n",
    "    x1 = coords[2]['x'] * page_width\n",
    "    y1 = min(page_height, coords[2]['y'] * page_height + scale)\n",
    "\n",
    "    # 크롭 영역 정의\n",
    "    crop_box = (x0, y0, x1, y1)\n",
    "    page = page.crop(crop_box).to_image(resolution = dpi)\n",
    "    page.save(save_route)\n",
    "\n",
    "    return save_route"
   ]
  },
  {
   "cell_type": "code",
   "execution_count": 54,
   "metadata": {},
   "outputs": [],
   "source": [
    "from openai import OpenAI\n",
    "from dotenv import load_dotenv\n",
    "import os\n",
    "import base64\n",
    "load_dotenv()\n",
    "\n",
    "def image_summarization(image_path, investment, company):\n",
    "    api_key = os.environ['OPENAI_API_KEY']\n",
    "    client = OpenAI(api_key=api_key)\n",
    "    # Open the image file and encode it as a base64 string\n",
    "    def encode_image(image_path):\n",
    "        with open(image_path, \"rb\") as image_file:\n",
    "            return base64.b64encode(image_file.read()).decode(\"utf-8\")\n",
    "\n",
    "    base64_image = encode_image(image_path)\n",
    "\n",
    "    response = client.chat.completions.create(\n",
    "        model='gpt-4o-mini',\n",
    "        messages=[\n",
    "            {\n",
    "                \"role\": \"system\", \"content\": \n",
    "\n",
    "                \"당신은 RAG 시스템을 위한 이미지 요약가입니다.\"\n",
    "\n",
    "                },\n",
    "                {\"role\": \"user\", \"content\": [{\"type\": \"text\", \"text\": \n",
    "                                            \n",
    "                f\"\"\"\n",
    "                다음은 {investment}의 {company}에 대한 리포트 중 일부입니다.\n",
    "                주어진 이미지가 무엇을 나타내고 있는지 상세히 기술하세요.\n",
    "                회사 이름과 그래프를 작성한 투자증권을 명확히 밝히세요.\n",
    "                마크다운 문법으로 작성하세요.\n",
    "                \"\"\"\n",
    "\n",
    "                },\n",
    "                {\"type\": \"image_url\", \"image_url\": {\n",
    "                \"url\": f\"data:image/png;base64,{base64_image}\"}\n",
    "                }\n",
    "            ]}\n",
    "        ],\n",
    "        temperature=0.0,\n",
    "    )\n",
    "\n",
    "    result = response.choices[0].message.content + '\\n' + f'이미지 경로 : {image_path}'\n",
    "    return result"
   ]
  },
  {
   "cell_type": "code",
   "execution_count": 55,
   "metadata": {},
   "outputs": [],
   "source": [
    "def make_md(route, elements):\n",
    "    md_file = f'datas/{route.split('/')[-1][:-4]}/{route.split('/')[-1][:-4]}.md'\n",
    "    dir_route = f'datas/{route.split('/')[-1][:-4]}'\n",
    "    os.makedirs(dir_route, exist_ok=True)\n",
    "    company_name = route.split('/')[-1].split('_')[0]\n",
    "    investment = route.split('/')[-1].split('_')[1][:-4]\n",
    "    images = ['table', 'figure']\n",
    "    # result['elements']를 순회하며 처리\n",
    "    for item in elements:\n",
    "        with open(md_file, 'a', encoding='utf-8') as md:\n",
    "            if item['category'] in images:\n",
    "                # 이미지 루트를 반환하는 crop_and_save 함수 호출\n",
    "                image_route = crop_and_save(route, item['page'], item['coordinates'], item['id'])\n",
    "                # 이미지 경로를 Markdown 형식으로 추가\n",
    "                md.write(f\"![{item['category']}]({image_route.split('/')[-1]})\\n\\n\\n\")\n",
    "                result = image_summarization(image_route, company_name, investment)\n",
    "                md.write(f\"{result}\\n\\n\")\n",
    "            else:\n",
    "                # 이미지가 아닌 경우 html 콘텐츠를 추가\n",
    "                html_content = item['content'].get('html', '')\n",
    "                md.write(f\"{html_content}\\n\\n\\n\")\n"
   ]
  },
  {
   "cell_type": "code",
   "execution_count": 56,
   "metadata": {},
   "outputs": [
    {
     "name": "stdout",
     "output_type": "stream",
     "text": [
      "카카오뱅크_키움증권(2022.10.12).pdf 파싱 성공 !\n"
     ]
    }
   ],
   "source": [
    "\n",
    "data_routes = glob('datas/*')\n",
    "route = '/data/ephemeral/home/PDF Parsing/datas/카카오뱅크_키움증권(2022.10.12).pdf'\n",
    "result = parsing(route)\n",
    "make_md(route, result['elements'])\n"
   ]
  },
  {
   "cell_type": "code",
   "execution_count": null,
   "metadata": {},
   "outputs": [],
   "source": []
  }
 ],
 "metadata": {
  "kernelspec": {
   "display_name": "hackerthon",
   "language": "python",
   "name": "python3"
  },
  "language_info": {
   "codemirror_mode": {
    "name": "ipython",
    "version": 3
   },
   "file_extension": ".py",
   "mimetype": "text/x-python",
   "name": "python",
   "nbconvert_exporter": "python",
   "pygments_lexer": "ipython3",
   "version": "3.13.1"
  }
 },
 "nbformat": 4,
 "nbformat_minor": 2
}
