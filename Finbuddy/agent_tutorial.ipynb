{
 "cells": [
  {
   "cell_type": "code",
   "execution_count": 1,
   "metadata": {},
   "outputs": [
    {
     "name": "stderr",
     "output_type": "stream",
     "text": [
      "WARNING:opentelemetry.trace:Overriding of current TracerProvider is not allowed\n",
      "WARNING:opentelemetry.trace:Overriding of current TracerProvider is not allowed\n"
     ]
    },
    {
     "name": "stdout",
     "output_type": "stream",
     "text": [
      "LLM value is a string\n",
      "LLM value is a string\n",
      "LLM value is already an LLM object\n",
      "LLM value is a string\n",
      "LLM value is a string\n"
     ]
    }
   ],
   "source": [
    "from dotenv import load_dotenv\n",
    "load_dotenv()\n",
    "\n",
    "# from crews import blog_crew\n",
    "# crew = blog_crew.BlogCrew().blog_crew() __init__없으면 이렇게불러야됨\n",
    "import crews\n",
    "#crew = crews.get_retrieval_crew()\n",
    "context_crew = crews.get_context_crew()\n",
    "image_crew = crews.get_image_crew()\n",
    "table_crew = crews.get_table_crew()\n",
    "\n",
    "\n"
   ]
  },
  {
   "cell_type": "code",
   "execution_count": 2,
   "metadata": {},
   "outputs": [],
   "source": [
    "\n",
    "inputs = {'query': 'SK하이닉스의 핵심사업에 대해 알려줘.',\n",
    " 'paragraphs': ['시장 불확실성속에서도 HBM과 eSSD등 프리미엄 제품의 견고한 시장 지배력이 돋 보이며 4Q24~2025년에도 경쟁력을 기반으로한 실적성장이 기대. 2025년 CAPEX 에 대한 보수적인 계획을 발표하면서 효율적인 사업을 유지할 수 있을 것으로 판단하 며 2025년 추정치 상향에 따른 목표주가를 260,000원으로 상향조정.',\n",
    "  'SK 증권 유니버스 투자등급 비율 (2024 년 08 월 13 일 기준)',\n",
    "  '당사는 개별 종목에 대해 향후 1 년간 +15% 이상의 절대수익률이 기대되는 종목에 대해 Buy(매수) 의견을 제시합니다. 또한 절대수 익률 -15~+15%가 예상되는 종목에 대해 Hold(보유) 의견을, -15% 이하가 예상되는 종목에 대해 Sell(매도) 의견을 제시합니다. 밸류 에이션 방법 등 절대수익률 산정은 개별 종목을 커버하는 애널리스트의 추정에 따르며, 목표주가 산정이나 투자의견 변경 주기는 종 목별로 다릅니다.',\n",
    "  'SK 증권 유니버스 투자등급 비율 (2024 년 11 월 12 일 기준)'],\n",
    " 'images': {'image_route': [], 'summary': []},\n",
    " 'tables': {'table': ['| 주기수익률(%) | 1개월 | 6개월 | 12개월 |\\n|----------------|-------|-------|--------|\\n| 절대주가       | 21.2  | 10.2  | 56.3   |\\n| 상대주가       | 23.6  | 14.3  | 44.3   |'],\n",
    "  'summary': ['SK하이닉스의 주기수익률을 1개월, 6개월, 12개월로 나누어 절대주가와 상대주가를 비교한 테이블입니다.']}}"
   ]
  },
  {
   "cell_type": "code",
   "execution_count": null,
   "metadata": {},
   "outputs": [
    {
     "name": "stdout",
     "output_type": "stream",
     "text": [
      "\u001b[1m\u001b[95m# Agent:\u001b[00m \u001b[1m\u001b[92mContext 분석가\u001b[00m\n",
      "\u001b[95m## Task:\u001b[00m \u001b[92m제공된 Context 데이터를 분석하여 유용한 정보를 정리하세요. 분석 결과는 사용자에게 바로 전달할 수 있을 만큼 명확해야 합니다. 사용자의 질문과 관계가 없는 Context 데이터는 무시합니다. 질문 : SK하이닉스의 핵심사업에 대해 알려줘. 제공된 context : ['시장 불확실성속에서도 HBM과 eSSD등 프리미엄 제품의 견고한 시장 지배력이 돋 보이며 4Q24~2025년에도 경쟁력을 기반으로한 실적성장이 기대. 2025년 CAPEX 에 대한 보수적인 계획을 발표하면서 효율적인 사업을 유지할 수 있을 것으로 판단하 며 2025년 추정치 상향에 따른 목표주가를 260,000원으로 상향조정.', 'SK 증권 유니버스 투자등급 비율 (2024 년 08 월 13 일 기준)', '당사는 개별 종목에 대해 향후 1 년간 +15% 이상의 절대수익률이 기대되는 종목에 대해 Buy(매수) 의견을 제시합니다. 또한 절대수 익률 -15~+15%가 예상되는 종목에 대해 Hold(보유) 의견을, -15% 이하가 예상되는 종목에 대해 Sell(매도) 의견을 제시합니다. 밸류 에이션 방법 등 절대수익률 산정은 개별 종목을 커버하는 애널리스트의 추정에 따르며, 목표주가 산정이나 투자의견 변경 주기는 종 목별로 다릅니다.', 'SK 증권 유니버스 투자등급 비율 (2024 년 11 월 12 일 기준)']\n",
      "\u001b[00m\n",
      "\n",
      "\n",
      "\u001b[1m\u001b[95m# Agent:\u001b[00m \u001b[1m\u001b[92mContext 분석가\u001b[00m\n",
      "\u001b[95m## Final Answer:\u001b[00m \u001b[92m\n",
      "SK하이닉스는 HBM과 eSSD 등 프리미엄 제품군에서 강력한 시장 지배력을 보유하고 있으며, 이러한 제품을 중심으로 2024년 4분기부터 2025년까지 실적 성장이 기대됩니다. 회사는 2025년의 CAPEX에 대해 보수적인 계획을 발표하며, 효율적인 사업 운영을 유지할 계획입니다.\u001b[00m\n",
      "\n",
      "\n",
      "Before kickoff function with inputs: {'query': 'SK하이닉스의 핵심사업에 대해 알려줘.', 'paragraphs': ['시장 불확실성속에서도 HBM과 eSSD등 프리미엄 제품의 견고한 시장 지배력이 돋 보이며 4Q24~2025년에도 경쟁력을 기반으로한 실적성장이 기대. 2025년 CAPEX 에 대한 보수적인 계획을 발표하면서 효율적인 사업을 유지할 수 있을 것으로 판단하 며 2025년 추정치 상향에 따른 목표주가를 260,000원으로 상향조정.', 'SK 증권 유니버스 투자등급 비율 (2024 년 08 월 13 일 기준)', '당사는 개별 종목에 대해 향후 1 년간 +15% 이상의 절대수익률이 기대되는 종목에 대해 Buy(매수) 의견을 제시합니다. 또한 절대수 익률 -15~+15%가 예상되는 종목에 대해 Hold(보유) 의견을, -15% 이하가 예상되는 종목에 대해 Sell(매도) 의견을 제시합니다. 밸류 에이션 방법 등 절대수익률 산정은 개별 종목을 커버하는 애널리스트의 추정에 따르며, 목표주가 산정이나 투자의견 변경 주기는 종 목별로 다릅니다.', 'SK 증권 유니버스 투자등급 비율 (2024 년 11 월 12 일 기준)'], 'images': {'image_route': [], 'summary': []}, 'tables': {'table': ['| 주기수익률(%) | 1개월 | 6개월 | 12개월 |\\n|----------------|-------|-------|--------|\\n| 절대주가       | 21.2  | 10.2  | 56.3   |\\n| 상대주가       | 23.6  | 14.3  | 44.3   |'], 'summary': ['SK하이닉스의 주기수익률을 1개월, 6개월, 12개월로 나누어 절대주가와 상대주가를 비교한 테이블입니다.']}}\n",
      "\u001b[1m\u001b[95m# Agent:\u001b[00m \u001b[1m\u001b[92m시각화 그래프 코드 생성자\u001b[00m\n",
      "\u001b[95m## Task:\u001b[00m \u001b[92m주어진 마크다운 테이블을 활용하여 사용자의 질문에 가장 도움이 되는 깔끔한 시각화 코드를 작성 코드는 반드시 파이썬의 문법에 맞게 작성되어야 함. 코드에는 반드시 'output' 폴더에 결과물을 저장하는 로직이 포함돼 있어야 함 결과물의 이름은 사용자가 알아볼 수 있는 이름의 png파일이여야 함 질문: SK하이닉스의 핵심사업에 대해 알려줘. 테이블: ['| 주기수익률(%) | 1개월 | 6개월 | 12개월 |\\n|----------------|-------|-------|--------|\\n| 절대주가       | 21.2  | 10.2  | 56.3   |\\n| 상대주가       | 23.6  | 14.3  | 44.3   |'] 테이블에 대한 설명: ['SK하이닉스의 주기수익률을 1개월, 6개월, 12개월로 나누어 절대주가와 상대주가를 비교한 테이블입니다.'] 오로지 코드만 제출해야 함.\n",
      "\u001b[00m\n",
      "\n",
      "\n",
      "\u001b[1m\u001b[95m# Agent:\u001b[00m \u001b[1m\u001b[92m시각화 그래프 코드 생성자\u001b[00m\n",
      "\u001b[95m## Final Answer:\u001b[00m \u001b[92m\n",
      "```python\n",
      "import matplotlib.pyplot as plt\n",
      "import pandas as pd\n",
      "\n",
      "# Set font to NanumGothic for matplotlib\n",
      "plt.rc('font', family='NanumGothic')\n",
      "\n",
      "# Data setup from the markdown table\n",
      "data = {\n",
      "    '주기': ['1개월', '6개월', '12개월'],\n",
      "    '절대주가': [21.2, 10.2, 56.3],\n",
      "    '상대주가': [23.6, 14.3, 44.3]\n",
      "}\n",
      "\n",
      "df = pd.DataFrame(data)\n",
      "\n",
      "# Plotting the data\n",
      "plt.figure(figsize=(8, 6))\n",
      "plt.plot(df['주기'], df['절대주가'], marker='o', label='절대주가')\n",
      "plt.plot(df['주기'], df['상대주가'], marker='s', label='상대주가')\n",
      "\n",
      "# Adding titles and labels\n",
      "plt.title('SK하이닉스 주기수익률 비교')\n",
      "plt.xlabel('주기')\n",
      "plt.ylabel('수익률 (%)')\n",
      "\n",
      "# Show legend\n",
      "plt.legend()\n",
      "\n",
      "# Save the plot as a PNG file in the 'output' folder\n",
      "plt.savefig('output/SKHynix_주기수익률_비교.png')\n",
      "\n",
      "# Close the plot to avoid display in interactive environments\n",
      "plt.close()\n",
      "```\u001b[00m\n",
      "\n",
      "\n",
      "\u001b[1m\u001b[95m# Agent:\u001b[00m \u001b[1m\u001b[92m시각화 그래프 코드 실행자\u001b[00m\n",
      "\u001b[95m## Task:\u001b[00m \u001b[92m사용자의 질문에 도움이 되는 답변을 하기 위해 생성된 시각화 코드를 검토 후 실행 파이썬 시각화 코드에 오류가 생기지 않도록 각별히 주의해야 함 시각화 코드는 반드시 사용자의 질문을 해소할 수 있도록 도움이 되어야 함 코드 실행 도구를 사용할 때에는 시각화 코드를 일부만 사용하지 않고 완전한 형태로 넣어야 함 질문: SK하이닉스의 핵심사업에 대해 알려줘.\n",
      "\u001b[00m\n",
      "\u001b[91m \n",
      "\n",
      "I encountered an error while trying to use the tool. This was the error: 코드 실행 중 오류 발생:\n",
      "STDERR:   File \"/tmp/tmpodx54oqk.py\", line 9\n",
      "    data = {\n",
      "           ^\n",
      "SyntaxError: '{' was never closed\n",
      "\n",
      "STDOUT:  \n",
      " 입력된 코드: \n",
      "import matplotlib.pyplot as plt\n",
      "import pandas as pd\n",
      "\n",
      "# Set font to NanumGothic for matplotlib\n",
      "plt.rc(\"font\", family=\"NanumGothic\")\n",
      "\n",
      "# Data setup from the markdown table\n",
      "data = {\n",
      "    \"\\uc8fc\\uae30\": [\"1\\uac1c\\uc6d4\", \"6\\uac1c\\uc6d4\", \"12\\uac1c\\uc6d4\"].\n",
      " Tool execute_visualization_code_tool accepts these inputs: Tool Name: execute_visualization_code_tool\n",
      "Tool Arguments: {'code_str': {'description': None, 'type': 'str'}}\n",
      "Tool Description: \n",
      "    입력받은 파이썬 코드 문자열을 임시 파일에 저장하고 실행하여,\n",
      "    시각화 이미지를 생성·저장한다.\n",
      "    \n",
      "    반환:\n",
      "        str: 생성된 이미지 파일의 경로 (예: output/generated_visualization.png)\n",
      "    \n",
      "\u001b[00m\n",
      "\n",
      "\n",
      "\u001b[1m\u001b[95m# Agent:\u001b[00m \u001b[1m\u001b[92m시각화 그래프 코드 실행자\u001b[00m\n",
      "\u001b[95m## Thought:\u001b[00m \u001b[92mThe code sets up a matplotlib plot using the NanumGothic font and visualizes data for \"SK하이닉스의 주기 수익률 비교\". It saves the plot in an 'output' folder. My task is to ensure the code execution to generate and save the plot is error-free. I will use the tool to execute the provided visualization code.\u001b[00m\n",
      "\u001b[95m## Using tool:\u001b[00m \u001b[92mexecute_visualization_code_tool\u001b[00m\n",
      "\u001b[95m## Tool Input:\u001b[00m \u001b[92m\n",
      "\"{\\\"code_str\\\": \\\"\\\\nimport matplotlib.pyplot as plt\\\\nimport pandas as pd\\\\n\\\\n# Set font to NanumGothic for matplotlib\\\\nplt.rc('font', family='NanumGothic')\\\\n\\\\n# Data setup from the markdown table\\\\ndata = {\\\\n    '\\\\uc8fc\\\\uae30': ['1\\\\uac1c\\\\uc6d4', '6\\\\uac1c\\\\uc6d4', '12\\\\uac1c\\\\uc6d4'],\\\\n    '\\\\uc808\\\\ub300\\\\uc8fc\\\\uac00': [21.2, 10.2, 56.3],\\\\n    '\\\\uc0c1\\\\ub300\\\\uc8fc\\\\uac00': [23.6, 14.3, 44.3]\\\\n}\\\\n\\\\ndf = pd.DataFrame(data)\\\\n\\\\n# Plotting the data\\\\nplt.figure(figsize=(8, 6))\\\\nplt.plot(df['\\\\uc8fc\\\\uae30'], df['\\\\uc808\\\\ub300\\\\uc8fc\\\\uac00'], marker='o', label='\\\\uc808\\\\ub300\\\\uc8fc\\\\uac00')\\\\nplt.plot(df['\\\\uc8fc\\\\uae30'], df['\\\\uc0c1\\\\ub300\\\\uc8fc\\\\uac00'], marker='s', label='\\\\uc0c1\\\\ub300\\\\uc8fc\\\\uac00')\\\\n\\\\n# Adding titles and labels\\\\nplt.title('SK\\\\ud558\\\\uc774\\\\ub2c9\\\\uc2a4 \\\\uc8fc\\\\uae30\\\\uc218\\\\uc775\\\\ub960 \\\\ube44\\\\uad50')\\\\nplt.xlabel('\\\\uc8fc\\\\uae30')\\\\nplt.ylabel('\\\\uc218\\\\uc775\\\\ub960 (%)')\\\\n\\\\n# Show legend\\\\nplt.legend()\\\\n\\\\n# Save the plot as a PNG file in the 'output' folder\\\\nplt.savefig('output/SKHynix_\\\\uc8fc\\\\uae30\\\\uc218\\\\uc775\\\\ub960_\\\\ube44\\\\uad50.png')\\\\n\\\\n# Close the plot to avoid display in interactive environments\\\\nplt.close()\\\\n\\\"}\"\u001b[00m\n",
      "\u001b[95m## Tool Output:\u001b[00m \u001b[92m\n",
      "\n",
      "I encountered an error while trying to use the tool. This was the error: 코드 실행 중 오류 발생:\n",
      "STDERR:   File \"/tmp/tmpodx54oqk.py\", line 9\n",
      "    data = {\n",
      "           ^\n",
      "SyntaxError: '{' was never closed\n",
      "\n",
      "STDOUT:  \n",
      " 입력된 코드: \n",
      "import matplotlib.pyplot as plt\n",
      "import pandas as pd\n",
      "\n",
      "# Set font to NanumGothic for matplotlib\n",
      "plt.rc(\"font\", family=\"NanumGothic\")\n",
      "\n",
      "# Data setup from the markdown table\n",
      "data = {\n",
      "    \"\\uc8fc\\uae30\": [\"1\\uac1c\\uc6d4\", \"6\\uac1c\\uc6d4\", \"12\\uac1c\\uc6d4\"].\n",
      " Tool execute_visualization_code_tool accepts these inputs: Tool Name: execute_visualization_code_tool\n",
      "Tool Arguments: {'code_str': {'description': None, 'type': 'str'}}\n",
      "Tool Description: \n",
      "    입력받은 파이썬 코드 문자열을 임시 파일에 저장하고 실행하여,\n",
      "    시각화 이미지를 생성·저장한다.\n",
      "    \n",
      "    반환:\n",
      "        str: 생성된 이미지 파일의 경로 (예: output/generated_visualization.png)\n",
      "    .\n",
      "Moving on then. I MUST either use a tool (use one at time) OR give my best final answer not both at the same time. When responding, I must use the following format:\n",
      "\n",
      "```\n",
      "Thought: you should always think about what to do\n",
      "Action: the action to take, should be one of [execute_visualization_code_tool]\n",
      "Action Input: the input to the action, dictionary enclosed in curly braces\n",
      "Observation: the result of the action\n",
      "```\n",
      "This Thought/Action/Action Input/Result can repeat N times. Once I know the final answer, I must return the following format:\n",
      "\n",
      "```\n",
      "Thought: I now can give a great answer\n",
      "Final Answer: Your final answer must be the great and the most complete as possible, it must be outcome described\n",
      "\n",
      "```\u001b[00m\n"
     ]
    }
   ],
   "source": [
    "context_result = context_crew.kickoff(inputs = inputs)\n",
    "table_result = table_crew.kickoff(inputs = inputs)\n",
    "image_result = image_crew.kickoff(inputs = inputs)"
   ]
  },
  {
   "cell_type": "code",
   "execution_count": 8,
   "metadata": {},
   "outputs": [
    {
     "name": "stdout",
     "output_type": "stream",
     "text": [
      "네이버의 핵심 사업과 관련하여 2024년 네이버의 영업수익은 10조 5,184억원으로 전년 대비 8.8% 증가할 것으로 전망됩니다. 네이버는 여러 부문에서 성장세를 기대하고 있으며\n",
      ", 그중 서치플랫폼의 매출액은 3조 8,546억원으로 전년 대비 7.4% 증가할 것으로 예상됩니다. DA 광고 지면 증가 효과로 인해 연말까지 높은 성장률이 유지될 것으로 보입니다\n",
      ". 커머스 분야의 매출액도 2조 9,045억원으로 전년 대비 14.1% 증가할 것으로 전망되고, 네이버는 올해 모바일 쇼핑 탭을 네이버플러스 스토어로 개편할 계획이며, 스마트/브랜\n",
      "드스토어 중심으로 개인화 추천 및 UI/UX 개선을 도입할 예정입니다. 이러한 개선을 통해 커머스 광고 매출과 GMV(총 상품 거래액)의 반등을 기대하고 있습니다.\n"
     ]
    }
   ],
   "source": [
    "for i in range(0,len(context_result.raw), 100):\n",
    "    print(context_result.raw[i:i+100])\n"
   ]
  },
  {
   "cell_type": "code",
   "execution_count": 9,
   "metadata": {},
   "outputs": [
    {
     "name": "stdout",
     "output_type": "stream",
     "text": [
      "네이버의 핵심사업은 여러 분야에 걸쳐 있습니다. 주된 사업으로는 포털 서비스, 광고, 커머스(쇼핑), 콘텐츠 서비스, 그리고 클라우드 및 IT 플랫폼을 포함한 다양한 수익원들이 있\n",
      "습니다. 포털 서비스는 네이버 검색 엔진을 포함한 인터넷 서비스로, 광고는 이러한 플랫폼을 통해 다양한 광고 상품을 제공하여 수익을 창출합니다. 커머스 사업에서는 온라인 쇼핑 플랫\n",
      "폼을 운영하며, 콘텐츠 사업에서는 웹툰, 음악 스트리밍 등 다양한 디지털 콘텐츠를 제공합니다. 또한, 네이버는 클라우드 서비스와 같은 IT 플랫폼 사업도 확장하고 있습니다. 이 모\n",
      "든 서비스들은 연간 매출액, 영업이익, 순이익에 반영되며, 이는 제공된 시각화를 통해 2022년부터 2025년까지의 재무 요약에서 쉽게 볼 수 있습니다. 그 결과, 네이버는 다양한\n",
      " 분야에서 안정적인 성장을 이어가고 있습니다.\n"
     ]
    }
   ],
   "source": [
    "for i in range(0,len(table_result.raw), 100):\n",
    "    print(table_result.raw[i:i+100])\n"
   ]
  },
  {
   "cell_type": "code",
   "execution_count": 11,
   "metadata": {},
   "outputs": [
    {
     "name": "stdout",
     "output_type": "stream",
     "text": [
      "네이버의 2024년 3분기까지의 다양한 사업 부문 매출 변화를 분석했습니다. 그래프는 네이버의 4대 핵심 사업인 서치 플랫폼&커머스, 핀테크, 콘텐츠, 클라우드 부문의 분기별 매출\n",
      "액을 비교하여 제시합니다. \n",
      "\n",
      "1. **서치 플랫폼&커머스**: 이 부문은 가장 견고한 성장세를 보이고 있으며, 매 분기 꾸준히 매출이 상승하면서 네이버의 핵심 수익원으로 자리잡고\n",
      " 있습니다. 검색 광고와 온라인 쇼핑 플랫폼의 강력한 성장이 이 부문 매출 증가의 주된 원인으로 분석됩니다.\n",
      "\n",
      "2. **핀테크**: 네이버파이낸셜을 통한 핀테크 사업은 지속적인 성\n",
      "장세를 유지하고 있으며, 특히 네이버페이 사용자 수 증가로 인한 거래량 증가가 반영된 결과로 보입니다. 핀테크 분야는 향후 더 높은 성장세를 보일 것으로 예상됩니다.\n",
      "\n",
      "3. **콘\n",
      "텐츠**: 콘텐츠 부문은 상대적으로 보합세를 보이고 있습니다. 웹툰, 웹소설 등의 콘텐츠 플랫폼 이용자 기반은 안정적이나, 시장 경쟁이 심화됨에 따라 매출 성장은 완만한 상태입니다\n",
      ". 새로운 콘텐츠와 오리지널 콘텐츠의 개발이 필요할 것으로 보입니다.\n",
      "\n",
      "4. **클라우드**: 클라우드 사업은 최근 몇 분기 동안 눈에 띄는 성장을 보여주고 있습니다. 특히, 코로\n",
      "나19 팬데믹 이후 기업들의 디지털 전환이 가속화되면서 클라우드 수요가 급증한 것이 주요 원인입니다.\n",
      "\n",
      "전체적으로 네이버는 다각화된 포트폴리오를 통해 다양한 디지털 생태계에서의 입\n",
      "지를 굳건히 하고 있으며, 각 부문이 가지고 있는 성장 동력에 따라 향후 사업 전략을 조정할 필요가 있습니다.\n"
     ]
    }
   ],
   "source": [
    "for i in range(0,len(image_result.raw), 100):\n",
    "    print(image_result.raw[i:i+100])\n"
   ]
  },
  {
   "cell_type": "code",
   "execution_count": 4,
   "metadata": {},
   "outputs": [
    {
     "name": "stdout",
     "output_type": "stream",
     "text": [
      "| 투자지표   | 2022     | 2023     | 2024F    | 2025F    |\n",
      "|------------|----------|----------|----------|----------|\n",
      "| 매출액     | 8,220.1  | 9,670.6  | 10,518.4 | 11,191.6 |\n",
      "| 영업이익   | 1,304.7  | 1,488.8  | 1,899.4  | 2,099.6  |\n",
      "| 세전이익   | 1,083.7  | 1,481.4  | 2,394.4  | 2,325.0  |\n",
      "| 순이익     | 760.3    | 1,012.3  | 1,752.7  | 1,562.4  |\n",
      "| EPS        | 4,634    | 6,180    | 10,836   | 9,861    |\n",
      "| 증감률     | (95.38)  | 33.36    | 75.34    | (9.00)   |\n",
      "| PER        | 38.30    | 36.25    | 15.34    | 16.85    |\n",
      "| PBR        | 1.23     | 1.51     | 1.04     | 0.98     |\n",
      "| EV/EBITDA  | 16.12    | 17.96    | 11.80    | 9.27     |\n",
      "| ROE        | 3.29     | 4.41     | 7.35     | 6.19     |\n",
      "| BPS        | 144,841  | 148,137  | 160,140  | 169,260  |\n",
      "| DPS        | 914      | 1,205    | 790      | 790      |\n"
     ]
    }
   ],
   "source": [
    "print(inputs['tables']['table'][0])"
   ]
  },
  {
   "cell_type": "code",
   "execution_count": null,
   "metadata": {},
   "outputs": [],
   "source": []
  }
 ],
 "metadata": {
  "kernelspec": {
   "display_name": "base",
   "language": "python",
   "name": "python3"
  },
  "language_info": {
   "codemirror_mode": {
    "name": "ipython",
    "version": 3
   },
   "file_extension": ".py",
   "mimetype": "text/x-python",
   "name": "python",
   "nbconvert_exporter": "python",
   "pygments_lexer": "ipython3",
   "version": "3.10.13"
  }
 },
 "nbformat": 4,
 "nbformat_minor": 2
}
