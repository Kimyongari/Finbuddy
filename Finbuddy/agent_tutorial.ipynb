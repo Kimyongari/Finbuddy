{
 "cells": [
  {
   "cell_type": "code",
   "execution_count": 1,
   "metadata": {},
   "outputs": [
    {
     "ename": "KeyError",
     "evalue": "'markdown_to_df'",
     "output_type": "error",
     "traceback": [
      "\u001b[1;31m---------------------------------------------------------------------------\u001b[0m",
      "\u001b[1;31mKeyError\u001b[0m                                  Traceback (most recent call last)",
      "Cell \u001b[1;32mIn[1], line 10\u001b[0m\n\u001b[0;32m      6\u001b[0m \u001b[38;5;28;01mimport\u001b[39;00m\u001b[38;5;250m \u001b[39m\u001b[38;5;21;01mcrews\u001b[39;00m\n\u001b[0;32m      8\u001b[0m \u001b[38;5;66;03m# crew = crews.Get_Blog_Crew()\u001b[39;00m\n\u001b[0;32m      9\u001b[0m \u001b[38;5;66;03m# crew = crews.Get_Table_Crew()\u001b[39;00m\n\u001b[1;32m---> 10\u001b[0m crew \u001b[38;5;241m=\u001b[39m \u001b[43mcrews\u001b[49m\u001b[38;5;241;43m.\u001b[39;49m\u001b[43mGet_Analysis_Crew\u001b[49m\u001b[43m(\u001b[49m\u001b[43m)\u001b[49m\n",
      "File \u001b[1;32mc:\\Users\\seohy\\Desktop\\boostcamp_AITech\\LabQ\\level4-nlp-finalproject-hackathon-nlp-09-lv3\\Finbuddy\\crews\\__init__.py:14\u001b[0m, in \u001b[0;36mGet_Analysis_Crew\u001b[1;34m()\u001b[0m\n\u001b[0;32m     12\u001b[0m \u001b[38;5;28;01mdef\u001b[39;00m\u001b[38;5;250m \u001b[39m\u001b[38;5;21mGet_Analysis_Crew\u001b[39m():\n\u001b[0;32m     13\u001b[0m     \u001b[38;5;66;03m# 예시: AnalysisCrew에서 tool_functions 사용\u001b[39;00m\n\u001b[1;32m---> 14\u001b[0m     crew \u001b[38;5;241m=\u001b[39m \u001b[43mAnalysisCrew\u001b[49m\u001b[43m(\u001b[49m\u001b[43m)\u001b[49m\n\u001b[0;32m     15\u001b[0m     crew\u001b[38;5;241m.\u001b[39mtools \u001b[38;5;241m=\u001b[39m tool_functions  \u001b[38;5;66;03m# tool_functions를 AnalysisCrew 인스턴스에 주입\u001b[39;00m\n\u001b[0;32m     16\u001b[0m     \u001b[38;5;28;01mreturn\u001b[39;00m crew\u001b[38;5;241m.\u001b[39manalysis_crew()\n",
      "File \u001b[1;32mc:\\Users\\seohy\\Desktop\\boostcamp_AITech\\LabQ\\labqenv\\Lib\\site-packages\\crewai\\project\\crew_base.py:35\u001b[0m, in \u001b[0;36mCrewBase.<locals>.WrappedClass.__init__\u001b[1;34m(self, *args, **kwargs)\u001b[0m\n\u001b[0;32m     33\u001b[0m \u001b[38;5;28msuper\u001b[39m()\u001b[38;5;241m.\u001b[39m\u001b[38;5;21m__init__\u001b[39m(\u001b[38;5;241m*\u001b[39margs, \u001b[38;5;241m*\u001b[39m\u001b[38;5;241m*\u001b[39mkwargs)\n\u001b[0;32m     34\u001b[0m \u001b[38;5;28mself\u001b[39m\u001b[38;5;241m.\u001b[39mload_configurations()\n\u001b[1;32m---> 35\u001b[0m \u001b[38;5;28;43mself\u001b[39;49m\u001b[38;5;241;43m.\u001b[39;49m\u001b[43mmap_all_agent_variables\u001b[49m\u001b[43m(\u001b[49m\u001b[43m)\u001b[49m\n\u001b[0;32m     36\u001b[0m \u001b[38;5;28mself\u001b[39m\u001b[38;5;241m.\u001b[39mmap_all_task_variables()\n\u001b[0;32m     37\u001b[0m \u001b[38;5;66;03m# Preserve all decorated functions\u001b[39;00m\n",
      "File \u001b[1;32mc:\\Users\\seohy\\Desktop\\boostcamp_AITech\\LabQ\\labqenv\\Lib\\site-packages\\crewai\\project\\crew_base.py:143\u001b[0m, in \u001b[0;36mCrewBase.<locals>.WrappedClass.map_all_agent_variables\u001b[1;34m(self)\u001b[0m\n\u001b[0;32m    140\u001b[0m agents \u001b[38;5;241m=\u001b[39m \u001b[38;5;28mself\u001b[39m\u001b[38;5;241m.\u001b[39m_filter_functions(all_functions, \u001b[38;5;124m\"\u001b[39m\u001b[38;5;124mis_agent\u001b[39m\u001b[38;5;124m\"\u001b[39m)\n\u001b[0;32m    142\u001b[0m \u001b[38;5;28;01mfor\u001b[39;00m agent_name, agent_info \u001b[38;5;129;01min\u001b[39;00m \u001b[38;5;28mself\u001b[39m\u001b[38;5;241m.\u001b[39magents_config\u001b[38;5;241m.\u001b[39mitems():\n\u001b[1;32m--> 143\u001b[0m     \u001b[38;5;28;43mself\u001b[39;49m\u001b[38;5;241;43m.\u001b[39;49m\u001b[43m_map_agent_variables\u001b[49m\u001b[43m(\u001b[49m\n\u001b[0;32m    144\u001b[0m \u001b[43m        \u001b[49m\u001b[43magent_name\u001b[49m\u001b[43m,\u001b[49m\n\u001b[0;32m    145\u001b[0m \u001b[43m        \u001b[49m\u001b[43magent_info\u001b[49m\u001b[43m,\u001b[49m\n\u001b[0;32m    146\u001b[0m \u001b[43m        \u001b[49m\u001b[43magents\u001b[49m\u001b[43m,\u001b[49m\n\u001b[0;32m    147\u001b[0m \u001b[43m        \u001b[49m\u001b[43mllms\u001b[49m\u001b[43m,\u001b[49m\n\u001b[0;32m    148\u001b[0m \u001b[43m        \u001b[49m\u001b[43mtool_functions\u001b[49m\u001b[43m,\u001b[49m\n\u001b[0;32m    149\u001b[0m \u001b[43m        \u001b[49m\u001b[43mcache_handler_functions\u001b[49m\u001b[43m,\u001b[49m\n\u001b[0;32m    150\u001b[0m \u001b[43m        \u001b[49m\u001b[43mcallbacks\u001b[49m\u001b[43m,\u001b[49m\n\u001b[0;32m    151\u001b[0m \u001b[43m    \u001b[49m\u001b[43m)\u001b[49m\n",
      "File \u001b[1;32mc:\\Users\\seohy\\Desktop\\boostcamp_AITech\\LabQ\\labqenv\\Lib\\site-packages\\crewai\\project\\crew_base.py:170\u001b[0m, in \u001b[0;36mCrewBase.<locals>.WrappedClass._map_agent_variables\u001b[1;34m(self, agent_name, agent_info, agents, llms, tool_functions, cache_handler_functions, callbacks)\u001b[0m\n\u001b[0;32m    167\u001b[0m         \u001b[38;5;28mself\u001b[39m\u001b[38;5;241m.\u001b[39magents_config[agent_name][\u001b[38;5;124m\"\u001b[39m\u001b[38;5;124mllm\u001b[39m\u001b[38;5;124m\"\u001b[39m] \u001b[38;5;241m=\u001b[39m llm\n\u001b[0;32m    169\u001b[0m \u001b[38;5;28;01mif\u001b[39;00m tools \u001b[38;5;241m:=\u001b[39m agent_info\u001b[38;5;241m.\u001b[39mget(\u001b[38;5;124m\"\u001b[39m\u001b[38;5;124mtools\u001b[39m\u001b[38;5;124m\"\u001b[39m):\n\u001b[1;32m--> 170\u001b[0m     \u001b[38;5;28mself\u001b[39m\u001b[38;5;241m.\u001b[39magents_config[agent_name][\u001b[38;5;124m\"\u001b[39m\u001b[38;5;124mtools\u001b[39m\u001b[38;5;124m\"\u001b[39m] \u001b[38;5;241m=\u001b[39m \u001b[43m[\u001b[49m\n\u001b[0;32m    171\u001b[0m \u001b[43m        \u001b[49m\u001b[43mtool_functions\u001b[49m\u001b[43m[\u001b[49m\u001b[43mtool\u001b[49m\u001b[43m]\u001b[49m\u001b[43m(\u001b[49m\u001b[43m)\u001b[49m\u001b[43m \u001b[49m\u001b[38;5;28;43;01mfor\u001b[39;49;00m\u001b[43m \u001b[49m\u001b[43mtool\u001b[49m\u001b[43m \u001b[49m\u001b[38;5;129;43;01min\u001b[39;49;00m\u001b[43m \u001b[49m\u001b[43mtools\u001b[49m\n\u001b[0;32m    172\u001b[0m \u001b[43m    \u001b[49m\u001b[43m]\u001b[49m\n\u001b[0;32m    174\u001b[0m \u001b[38;5;28;01mif\u001b[39;00m function_calling_llm \u001b[38;5;241m:=\u001b[39m agent_info\u001b[38;5;241m.\u001b[39mget(\u001b[38;5;124m\"\u001b[39m\u001b[38;5;124mfunction_calling_llm\u001b[39m\u001b[38;5;124m\"\u001b[39m):\n\u001b[0;32m    175\u001b[0m     \u001b[38;5;28mself\u001b[39m\u001b[38;5;241m.\u001b[39magents_config[agent_name][\u001b[38;5;124m\"\u001b[39m\u001b[38;5;124mfunction_calling_llm\u001b[39m\u001b[38;5;124m\"\u001b[39m] \u001b[38;5;241m=\u001b[39m agents[\n\u001b[0;32m    176\u001b[0m         function_calling_llm\n\u001b[0;32m    177\u001b[0m     ]()\n",
      "File \u001b[1;32mc:\\Users\\seohy\\Desktop\\boostcamp_AITech\\LabQ\\labqenv\\Lib\\site-packages\\crewai\\project\\crew_base.py:171\u001b[0m, in \u001b[0;36m<listcomp>\u001b[1;34m(.0)\u001b[0m\n\u001b[0;32m    167\u001b[0m         \u001b[38;5;28mself\u001b[39m\u001b[38;5;241m.\u001b[39magents_config[agent_name][\u001b[38;5;124m\"\u001b[39m\u001b[38;5;124mllm\u001b[39m\u001b[38;5;124m\"\u001b[39m] \u001b[38;5;241m=\u001b[39m llm\n\u001b[0;32m    169\u001b[0m \u001b[38;5;28;01mif\u001b[39;00m tools \u001b[38;5;241m:=\u001b[39m agent_info\u001b[38;5;241m.\u001b[39mget(\u001b[38;5;124m\"\u001b[39m\u001b[38;5;124mtools\u001b[39m\u001b[38;5;124m\"\u001b[39m):\n\u001b[0;32m    170\u001b[0m     \u001b[38;5;28mself\u001b[39m\u001b[38;5;241m.\u001b[39magents_config[agent_name][\u001b[38;5;124m\"\u001b[39m\u001b[38;5;124mtools\u001b[39m\u001b[38;5;124m\"\u001b[39m] \u001b[38;5;241m=\u001b[39m [\n\u001b[1;32m--> 171\u001b[0m         \u001b[43mtool_functions\u001b[49m\u001b[43m[\u001b[49m\u001b[43mtool\u001b[49m\u001b[43m]\u001b[49m() \u001b[38;5;28;01mfor\u001b[39;00m tool \u001b[38;5;129;01min\u001b[39;00m tools\n\u001b[0;32m    172\u001b[0m     ]\n\u001b[0;32m    174\u001b[0m \u001b[38;5;28;01mif\u001b[39;00m function_calling_llm \u001b[38;5;241m:=\u001b[39m agent_info\u001b[38;5;241m.\u001b[39mget(\u001b[38;5;124m\"\u001b[39m\u001b[38;5;124mfunction_calling_llm\u001b[39m\u001b[38;5;124m\"\u001b[39m):\n\u001b[0;32m    175\u001b[0m     \u001b[38;5;28mself\u001b[39m\u001b[38;5;241m.\u001b[39magents_config[agent_name][\u001b[38;5;124m\"\u001b[39m\u001b[38;5;124mfunction_calling_llm\u001b[39m\u001b[38;5;124m\"\u001b[39m] \u001b[38;5;241m=\u001b[39m agents[\n\u001b[0;32m    176\u001b[0m         function_calling_llm\n\u001b[0;32m    177\u001b[0m     ]()\n",
      "\u001b[1;31mKeyError\u001b[0m: 'markdown_to_df'"
     ]
    }
   ],
   "source": [
    "from dotenv import load_dotenv\n",
    "load_dotenv()\n",
    "\n",
    "# from crews import blog_crew\n",
    "# crew = blog_crew.BlogCrew().blog_crew() __init__없으면 이렇게불러야됨\n",
    "import crews\n",
    "\n",
    "# crew = crews.Get_Blog_Crew()\n",
    "# crew = crews.Get_Table_Crew()\n",
    "crew = crews.Get_Analysis_Crew()\n"
   ]
  },
  {
   "cell_type": "code",
   "execution_count": null,
   "metadata": {},
   "outputs": [],
   "source": [
    "crew"
   ]
  },
  {
   "cell_type": "code",
   "execution_count": null,
   "metadata": {},
   "outputs": [],
   "source": [
    "result = crew.kickoff()"
   ]
  },
  {
   "cell_type": "code",
   "execution_count": null,
   "metadata": {},
   "outputs": [],
   "source": [
    "print(result)"
   ]
  },
  {
   "cell_type": "code",
   "execution_count": null,
   "metadata": {},
   "outputs": [],
   "source": []
  }
 ],
 "metadata": {
  "kernelspec": {
   "display_name": "labqenv",
   "language": "python",
   "name": "python3"
  },
  "language_info": {
   "codemirror_mode": {
    "name": "ipython",
    "version": 3
   },
   "file_extension": ".py",
   "mimetype": "text/x-python",
   "name": "python",
   "nbconvert_exporter": "python",
   "pygments_lexer": "ipython3",
   "version": "3.11.1"
  }
 },
 "nbformat": 4,
 "nbformat_minor": 2
}
