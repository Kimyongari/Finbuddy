{
 "cells": [
  {
   "cell_type": "code",
   "execution_count": 1,
   "metadata": {},
   "outputs": [
    {
     "name": "stderr",
     "output_type": "stream",
     "text": [
      "WARNING:opentelemetry.trace:Overriding of current TracerProvider is not allowed\n",
      "WARNING:opentelemetry.trace:Overriding of current TracerProvider is not allowed\n"
     ]
    },
    {
     "name": "stdout",
     "output_type": "stream",
     "text": [
      "LLM value is a string\n",
      "LLM value is a string\n",
      "LLM value is a string\n",
      "LLM value is a string\n",
      "LLM value is a string\n"
     ]
    }
   ],
   "source": [
    "from dotenv import load_dotenv\n",
    "load_dotenv()\n",
    "\n",
    "# from crews import blog_crew\n",
    "# crew = blog_crew.BlogCrew().blog_crew() __init__없으면 이렇게불러야됨\n",
    "import crews\n",
    "#crew = crews.get_retrieval_crew()\n",
    "context_crew = crews.get_context_crew()\n",
    "image_crew = crews.get_image_crew()\n",
    "table_crew = crews.get_table_crew()\n",
    "\n",
    "\n"
   ]
  },
  {
   "cell_type": "code",
   "execution_count": 2,
   "metadata": {},
   "outputs": [],
   "source": [
    "\n",
    "inputs = {'query': 'SK하이닉스의 핵심사업에 대해 알려줘.',\n",
    " 'paragraphs': ['시장 불확실성속에서도 HBM과 eSSD등 프리미엄 제품의 견고한 시장 지배력이 돋 보이며 4Q24~2025년에도 경쟁력을 기반으로한 실적성장이 기대. 2025년 CAPEX 에 대한 보수적인 계획을 발표하면서 효율적인 사업을 유지할 수 있을 것으로 판단하 며 2025년 추정치 상향에 따른 목표주가를 260,000원으로 상향조정.',\n",
    "  'SK 증권 유니버스 투자등급 비율 (2024 년 08 월 13 일 기준)',\n",
    "  '당사는 개별 종목에 대해 향후 1 년간 +15% 이상의 절대수익률이 기대되는 종목에 대해 Buy(매수) 의견을 제시합니다. 또한 절대수 익률 -15~+15%가 예상되는 종목에 대해 Hold(보유) 의견을, -15% 이하가 예상되는 종목에 대해 Sell(매도) 의견을 제시합니다. 밸류 에이션 방법 등 절대수익률 산정은 개별 종목을 커버하는 애널리스트의 추정에 따르며, 목표주가 산정이나 투자의견 변경 주기는 종 목별로 다릅니다.',\n",
    "  'SK 증권 유니버스 투자등급 비율 (2024 년 11 월 12 일 기준)'],\n",
    " 'images': {'image_route': [], 'summary': []},\n",
    " 'tables': {'table': ['| 주기수익률(%) | 1개월 | 6개월 | 12개월 |\\n|----------------|-------|-------|--------|\\n| 절대주가       | 21.2  | 10.2  | 56.3   |\\n| 상대주가       | 23.6  | 14.3  | 44.3   |'],\n",
    "  'summary': ['SK하이닉스의 주기수익률을 1개월, 6개월, 12개월로 나누어 절대주가와 상대주가를 비교한 테이블입니다.']}}"
   ]
  },
  {
   "cell_type": "code",
   "execution_count": 3,
   "metadata": {},
   "outputs": [
    {
     "name": "stdout",
     "output_type": "stream",
     "text": [
      "\u001b[1m\u001b[95m# Agent:\u001b[00m \u001b[1m\u001b[92mContext 분석가\u001b[00m\n",
      "\u001b[95m## Task:\u001b[00m \u001b[92m제공된 Context 데이터를 분석하여 유용한 정보를 정리하세요. 분석 결과는 사용자에게 바로 전달할 수 있을 만큼 명확해야 합니다. 사용자의 질문과 관계가 없는 Context 데이터는 무시합니다. 질문 : SK하이닉스의 핵심사업에 대해 알려줘. 제공된 context : ['시장 불확실성속에서도 HBM과 eSSD등 프리미엄 제품의 견고한 시장 지배력이 돋 보이며 4Q24~2025년에도 경쟁력을 기반으로한 실적성장이 기대. 2025년 CAPEX 에 대한 보수적인 계획을 발표하면서 효율적인 사업을 유지할 수 있을 것으로 판단하 며 2025년 추정치 상향에 따른 목표주가를 260,000원으로 상향조정.', 'SK 증권 유니버스 투자등급 비율 (2024 년 08 월 13 일 기준)', '당사는 개별 종목에 대해 향후 1 년간 +15% 이상의 절대수익률이 기대되는 종목에 대해 Buy(매수) 의견을 제시합니다. 또한 절대수 익률 -15~+15%가 예상되는 종목에 대해 Hold(보유) 의견을, -15% 이하가 예상되는 종목에 대해 Sell(매도) 의견을 제시합니다. 밸류 에이션 방법 등 절대수익률 산정은 개별 종목을 커버하는 애널리스트의 추정에 따르며, 목표주가 산정이나 투자의견 변경 주기는 종 목별로 다릅니다.', 'SK 증권 유니버스 투자등급 비율 (2024 년 11 월 12 일 기준)']\n",
      "\u001b[00m\n",
      "\n",
      "\n",
      "\u001b[1m\u001b[95m# Agent:\u001b[00m \u001b[1m\u001b[92mContext 분석가\u001b[00m\n",
      "\u001b[95m## Final Answer:\u001b[00m \u001b[92m\n",
      "SK하이닉스의 핵심사업은 HBM(High Bandwidth Memory)과 eSSD(enterprise Solid State Drive)와 같은 프리미엄 제품입니다. 이 제품들은 시장에서 높은 지배력을 보이고 있으며, 2024년 4분기부터 2025년까지의 실적 성장에 대한 기대가 높습니다. 이러한 경쟁력 있는 제품을 기반으로 SK하이닉스는 효율적인 사업 운영과 함께 실적 성장을 이어나갈 것으로 예상됩니다.\u001b[00m\n",
      "\n",
      "\n",
      "Before kickoff function with inputs: {'query': 'SK하이닉스의 핵심사업에 대해 알려줘.', 'paragraphs': ['시장 불확실성속에서도 HBM과 eSSD등 프리미엄 제품의 견고한 시장 지배력이 돋 보이며 4Q24~2025년에도 경쟁력을 기반으로한 실적성장이 기대. 2025년 CAPEX 에 대한 보수적인 계획을 발표하면서 효율적인 사업을 유지할 수 있을 것으로 판단하 며 2025년 추정치 상향에 따른 목표주가를 260,000원으로 상향조정.', 'SK 증권 유니버스 투자등급 비율 (2024 년 08 월 13 일 기준)', '당사는 개별 종목에 대해 향후 1 년간 +15% 이상의 절대수익률이 기대되는 종목에 대해 Buy(매수) 의견을 제시합니다. 또한 절대수 익률 -15~+15%가 예상되는 종목에 대해 Hold(보유) 의견을, -15% 이하가 예상되는 종목에 대해 Sell(매도) 의견을 제시합니다. 밸류 에이션 방법 등 절대수익률 산정은 개별 종목을 커버하는 애널리스트의 추정에 따르며, 목표주가 산정이나 투자의견 변경 주기는 종 목별로 다릅니다.', 'SK 증권 유니버스 투자등급 비율 (2024 년 11 월 12 일 기준)'], 'images': {'image_route': [], 'summary': []}, 'tables': {'table': ['| 주기수익률(%) | 1개월 | 6개월 | 12개월 |\\n|----------------|-------|-------|--------|\\n| 절대주가       | 21.2  | 10.2  | 56.3   |\\n| 상대주가       | 23.6  | 14.3  | 44.3   |'], 'summary': ['SK하이닉스의 주기수익률을 1개월, 6개월, 12개월로 나누어 절대주가와 상대주가를 비교한 테이블입니다.']}}\n",
      "\u001b[1m\u001b[95m# Agent:\u001b[00m \u001b[1m\u001b[92m시각화 그래프 코드 생성자\u001b[00m\n",
      "\u001b[95m## Task:\u001b[00m \u001b[92m주어진 마크다운 테이블을 활용하여 사용자의 질문에 가장 도움이 되는 깔끔한 시각화 코드를 작성 코드는 반드시 파이썬의 문법에 맞게 작성되어야 함. 코드에는 반드시 'output' 폴더에 결과물을 저장하는 로직이 포함돼 있어야 함 결과물의 이름은 사용자가 알아볼 수 있는 이름의 png파일이여야 함 질문: SK하이닉스의 핵심사업에 대해 알려줘. 테이블: ['| 주기수익률(%) | 1개월 | 6개월 | 12개월 |\\n|----------------|-------|-------|--------|\\n| 절대주가       | 21.2  | 10.2  | 56.3   |\\n| 상대주가       | 23.6  | 14.3  | 44.3   |'] 테이블에 대한 설명: ['SK하이닉스의 주기수익률을 1개월, 6개월, 12개월로 나누어 절대주가와 상대주가를 비교한 테이블입니다.'] 오로지 코드만 제출해야 함.\n",
      "\u001b[00m\n",
      "\n",
      "\n",
      "\u001b[1m\u001b[95m# Agent:\u001b[00m \u001b[1m\u001b[92m시각화 그래프 코드 생성자\u001b[00m\n",
      "\u001b[95m## Final Answer:\u001b[00m \u001b[92m\n",
      "{\n",
      "  \"description\": \"SK하이닉스의 절대주가와 상대주가의 주기 수익률을 1개월, 6개월, 12개월에 걸쳐 비교하는 바 차트입니다. 그래프는 각각의 기간에 대한 주가 수익률을 보여줍니다.\",\n",
      "  \"code\": \"import matplotlib.pyplot as plt\\nimport numpy as np\\n\\n# 데이터 설정\\nlabels = ['1개월', '6개월', '12개월']\\nabsolute_returns = [21.2, 10.2, 56.3]\\nrelative_returns = [23.6, 14.3, 44.3]\\nx = np.arange(len(labels))\\nwidth = 0.35\\n\\n# 그래프 설정\\nplt.rc('font', family='NanumGothic')\\nfig, ax = plt.subplots()\\n\\n# 바 차트 생성\\nrects1 = ax.bar(x - width/2, absolute_returns, width, label='절대주가')\\nrects2 = ax.bar(x + width/2, relative_returns, width, label='상대주가')\\n\\n# 제목과 축 라벨 지정\\nax.set_ylabel('주기 수익률(%)')\\nax.set_title('SK하이닉스 주기 수익률 비교')\\nax.set_xticks(x)\\nax.set_xticklabels(labels)\\nax.legend()\\n\\n# 그래프 레이아웃 최적화\\nfig.tight_layout()\\n\\n# 그래프 저장\\nplt.savefig('output/SK하이닉스_주기수익률.png')\\n\\n# 그래프 표시\\nplt.show()\"\n",
      "}\u001b[00m\n",
      "\n",
      "\n",
      "\u001b[1m\u001b[95m# Agent:\u001b[00m \u001b[1m\u001b[92m시각화 그래프 코드 실행자\u001b[00m\n",
      "\u001b[95m## Task:\u001b[00m \u001b[92mcode_generator가 생성한 시각화 코드를 검토 후 실행 파이썬 시각화 코드에 오류가 생기지 않도록 각별히 주의해야 함 코드 실행 도구를 사용할 때에는 시각화 코드를 일부만 사용하지 않고 완전한 형태로 넣어야 함 질문: SK하이닉스의 핵심사업에 대해 알려줘.\n",
      "\u001b[00m\n",
      "\n",
      "\n",
      "\u001b[1m\u001b[95m# Agent:\u001b[00m \u001b[1m\u001b[92m시각화 그래프 코드 실행자\u001b[00m\n",
      "\u001b[95m## Using tool:\u001b[00m \u001b[92mexecute_visualization_code_tool\u001b[00m\n",
      "\u001b[95m## Tool Input:\u001b[00m \u001b[92m\n",
      "\"{\\\"code_str\\\": \\\"import matplotlib.pyplot as plt\\\\nimport numpy as np\\\\n\\\\n# \\\\ub370\\\\uc774\\\\ud130 \\\\uc124\\\\uc815\\\\nlabels = ['1\\\\uac1c\\\\uc6d4', '6\\\\uac1c\\\\uc6d4', '12\\\\uac1c\\\\uc6d4']\\\\nabsolute_returns = [21.2, 10.2, 56.3]\\\\nrelative_returns = [23.6, 14.3, 44.3]\\\\nx = np.arange(len(labels))\\\\nwidth = 0.35\\\\n\\\\n# \\\\uadf8\\\\ub798\\\\ud504 \\\\uc124\\\\uc815\\\\nplt.rc('font', family='NanumGothic')\\\\nfig, ax = plt.subplots()\\\\n\\\\n# \\\\ubc14 \\\\ucc28\\\\ud2b8 \\\\uc0dd\\\\uc131\\\\nrects1 = ax.bar(x - width/2, absolute_returns, width, label='\\\\uc808\\\\ub300\\\\uc8fc\\\\uac00')\\\\nrects2 = ax.bar(x + width/2, relative_returns, width, label='\\\\uc0c1\\\\ub300\\\\uc8fc\\\\uac00')\\\\n\\\\n# \\\\uc81c\\\\ubaa9\\\\uacfc \\\\ucd95 \\\\ub77c\\\\ubca8 \\\\uc9c0\\\\uc815\\\\nax.set_ylabel('\\\\uc8fc\\\\uae30 \\\\uc218\\\\uc775\\\\ub960(%)')\\\\nax.set_title('SK\\\\ud558\\\\uc774\\\\ub2c9\\\\uc2a4 \\\\uc8fc\\\\uae30 \\\\uc218\\\\uc775\\\\ub960 \\\\ube44\\\\uad50')\\\\nax.set_xticks(x)\\\\nax.set_xticklabels(labels)\\\\nax.legend()\\\\n\\\\n# \\\\uadf8\\\\ub798\\\\ud504 \\\\ub808\\\\uc774\\\\uc544\\\\uc6c3 \\\\ucd5c\\\\uc801\\\\ud654\\\\nfig.tight_layout()\\\\n\\\\n# \\\\uadf8\\\\ub798\\\\ud504 \\\\uc800\\\\uc7a5\\\\nplt.savefig('output/SK\\\\ud558\\\\uc774\\\\ub2c9\\\\uc2a4_\\\\uc8fc\\\\uae30\\\\uc218\\\\uc775\\\\ub960.png')\\\\n\\\\n# \\\\uadf8\\\\ub798\\\\ud504 \\\\ud45c\\\\uc2dc\\\\nplt.show()\\\"}\"\u001b[00m\n",
      "\u001b[95m## Tool Output:\u001b[00m \u001b[92m\n",
      "None\u001b[00m\n",
      "\n",
      "\n",
      "\u001b[1m\u001b[95m# Agent:\u001b[00m \u001b[1m\u001b[92m시각화 그래프 코드 실행자\u001b[00m\n",
      "\u001b[95m## Final Answer:\u001b[00m \u001b[92m\n",
      "The visualization has been successfully generated and saved. The path to the saved image is 'output/SK하이닉스_주기수익률.png'.\n",
      "```\u001b[00m\n",
      "\n",
      "\n",
      "\u001b[1m\u001b[95m# Agent:\u001b[00m \u001b[1m\u001b[92m질문 답변자\u001b[00m\n",
      "\u001b[95m## Task:\u001b[00m \u001b[92m사용자의 질문에 대해 생성된 코드를 참고하여 답변 코드에 대한 해설은 필요 없음 개발에 대해 잘 알지 못하는 사용자가 이해할 수 있도록 쉽게 설명되어야 함 질문: SK하이닉스의 핵심사업에 대해 알려줘.\n",
      "\u001b[00m\n",
      "\n",
      "\n",
      "\u001b[1m\u001b[95m# Agent:\u001b[00m \u001b[1m\u001b[92m질문 답변자\u001b[00m\n",
      "\u001b[95m## Final Answer:\u001b[00m \u001b[92m\n",
      "SK하이닉스는 주로 반도체 사업을 핵심으로 하고 있습니다. 특히 메모리 반도체, 즉 DRAM과 NAND 플래시 메모리를 생산하고 있으며, 이는 스마트폰, 컴퓨터, 서버, 그리고 데이터 센터와 같은 다양한 전자기기에 사용됩니다. SK하이닉스는 이러한 메모리 제품을 통해 정보 저장 및 처리 속도를 개선하는 데 중요한 역할을 하고 있습니다. 이 바 차트에서는 SK하이닉스의 주가가 절대적인 수익과 상대적 경쟁사의 수익에 대해 여러 기간(1개월, 6개월, 12개월) 동안 어떻게 변동했는지를 보여줍니다. 이렇게 함으로써 투자자들은 회사의 주가 수익률 추이를 검토할 수 있습니다. 생성된 이미지 파일의 이름은 'output/SK하이닉스_주기수익률.png'입니다.\u001b[00m\n",
      "\n",
      "\n",
      "\u001b[1m\u001b[95m# Agent:\u001b[00m \u001b[1m\u001b[92m시니어 그래프 분석가\u001b[00m\n",
      "\u001b[95m## Task:\u001b[00m \u001b[92m주어진 이미지를 분석하고 유용한 정보를 도출하세요. 분석 결과는 그래프에서 파악된 주요 트렌드와 데이터를 포함해야 합니다. 질문 : SK하이닉스의 핵심사업에 대해 알려줘. 제공된 image : [] 이미지에 대한 정보 : []\n",
      "\u001b[00m\n",
      "\n",
      "\n",
      "\u001b[1m\u001b[95m# Agent:\u001b[00m \u001b[1m\u001b[92m시니어 그래프 분석가\u001b[00m\n",
      "\u001b[95m## Final Answer:\u001b[00m \u001b[92m\n",
      "SK하이닉스는 주로 메모리 반도체를 제조하는 글로벌 기술 회사입니다. 핵심 사업으로는 DRAM, NAND 플래시 메모리 등이 포함됩니다. 이 회사는 주로 데이터 센터, 모바일 장비, PC 및 노트북 시장 등에 메모리 솔루션을 제공하고 있습니다. 현재 업계 트렌드로는 5G 기술 확산, 빅데이터 및 인공지능(AI) 산업 성장에 따른 메모리 칩 수요 증가 등이 있습니다. SK하이닉스는 이러한 트렌드에 맞춰 연구개발 투자와 생산능력 확대를 지속하고 있습니다.\n",
      "\n",
      "제공받은 이미지의 경로: []\n",
      "\n",
      "This response includes general information based on SK Hynix’s known business operations and the potential relevance of industry trends. If there were a specific graph or chart, typically, I’d provide insights on visible trends such as price changes, volume of trade, or any notable economic events indicated therein.\u001b[00m\n",
      "\n",
      "\n"
     ]
    }
   ],
   "source": [
    "context_result = context_crew.kickoff(inputs = inputs)\n",
    "table_result = table_crew.kickoff(inputs = inputs)\n",
    "image_result = image_crew.kickoff(inputs = inputs)"
   ]
  },
  {
   "cell_type": "code",
   "execution_count": 4,
   "metadata": {},
   "outputs": [
    {
     "name": "stdout",
     "output_type": "stream",
     "text": [
      "SK하이닉스의 핵심사업은 HBM(High Bandwidth Memory)과 eSSD(enterprise Solid State Drive)와 같은 프리미엄 제품입니다. 이 제품들은 \n",
      "시장에서 높은 지배력을 보이고 있으며, 2024년 4분기부터 2025년까지의 실적 성장에 대한 기대가 높습니다. 이러한 경쟁력 있는 제품을 기반으로 SK하이닉스는 효율적인 사업 운\n",
      "영과 함께 실적 성장을 이어나갈 것으로 예상됩니다.\n"
     ]
    }
   ],
   "source": [
    "for i in range(0,len(context_result.raw), 100):\n",
    "    print(context_result.raw[i:i+100])\n"
   ]
  },
  {
   "cell_type": "code",
   "execution_count": 5,
   "metadata": {},
   "outputs": [
    {
     "name": "stdout",
     "output_type": "stream",
     "text": [
      "SK하이닉스는 주로 반도체 사업을 핵심으로 하고 있습니다. 특히 메모리 반도체, 즉 DRAM과 NAND 플래시 메모리를 생산하고 있으며, 이는 스마트폰, 컴퓨터, 서버, 그리고 데\n",
      "이터 센터와 같은 다양한 전자기기에 사용됩니다. SK하이닉스는 이러한 메모리 제품을 통해 정보 저장 및 처리 속도를 개선하는 데 중요한 역할을 하고 있습니다. 이 바 차트에서는 S\n",
      "K하이닉스의 주가가 절대적인 수익과 상대적 경쟁사의 수익에 대해 여러 기간(1개월, 6개월, 12개월) 동안 어떻게 변동했는지를 보여줍니다. 이렇게 함으로써 투자자들은 회사의 주가\n",
      " 수익률 추이를 검토할 수 있습니다. 생성된 이미지 파일의 이름은 'output/SK하이닉스_주기수익률.png'입니다.\n"
     ]
    }
   ],
   "source": [
    "for i in range(0,len(table_result.raw), 100):\n",
    "    print(table_result.raw[i:i+100])\n"
   ]
  },
  {
   "cell_type": "code",
   "execution_count": 6,
   "metadata": {},
   "outputs": [
    {
     "name": "stdout",
     "output_type": "stream",
     "text": [
      "SK하이닉스는 주로 메모리 반도체를 제조하는 글로벌 기술 회사입니다. 핵심 사업으로는 DRAM, NAND 플래시 메모리 등이 포함됩니다. 이 회사는 주로 데이터 센터, 모바일 장비\n",
      ", PC 및 노트북 시장 등에 메모리 솔루션을 제공하고 있습니다. 현재 업계 트렌드로는 5G 기술 확산, 빅데이터 및 인공지능(AI) 산업 성장에 따른 메모리 칩 수요 증가 등이 \n",
      "있습니다. SK하이닉스는 이러한 트렌드에 맞춰 연구개발 투자와 생산능력 확대를 지속하고 있습니다.\n",
      "\n",
      "제공받은 이미지의 경로: []\n",
      "\n",
      "This response includes gen\n",
      "eral information based on SK Hynix’s known business operations and the potential relevance of indust\n",
      "ry trends. If there were a specific graph or chart, typically, I’d provide insights on visible trend\n",
      "s such as price changes, volume of trade, or any notable economic events indicated therein.\n"
     ]
    }
   ],
   "source": [
    "for i in range(0,len(image_result.raw), 100):\n",
    "    print(image_result.raw[i:i+100])\n"
   ]
  },
  {
   "cell_type": "code",
   "execution_count": 7,
   "metadata": {},
   "outputs": [
    {
     "name": "stdout",
     "output_type": "stream",
     "text": [
      "| 주기수익률(%) | 1개월 | 6개월 | 12개월 |\n",
      "|----------------|-------|-------|--------|\n",
      "| 절대주가       | 21.2  | 10.2  | 56.3   |\n",
      "| 상대주가       | 23.6  | 14.3  | 44.3   |\n"
     ]
    }
   ],
   "source": [
    "print(inputs['tables']['table'][0])"
   ]
  },
  {
   "cell_type": "code",
   "execution_count": null,
   "metadata": {},
   "outputs": [],
   "source": []
  }
 ],
 "metadata": {
  "kernelspec": {
   "display_name": "base",
   "language": "python",
   "name": "python3"
  },
  "language_info": {
   "codemirror_mode": {
    "name": "ipython",
    "version": 3
   },
   "file_extension": ".py",
   "mimetype": "text/x-python",
   "name": "python",
   "nbconvert_exporter": "python",
   "pygments_lexer": "ipython3",
   "version": "3.10.13"
  }
 },
 "nbformat": 4,
 "nbformat_minor": 2
}
